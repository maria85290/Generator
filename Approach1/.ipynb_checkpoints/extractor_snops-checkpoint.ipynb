{
 "cells": [
  {
   "cell_type": "markdown",
   "metadata": {},
   "source": [
    "# Analyse news from snopes\n",
    "\n"
   ]
  },
  {
   "cell_type": "code",
   "execution_count": 1,
   "metadata": {},
   "outputs": [],
   "source": [
    "#Imports\n",
    "import json\n",
    "import requests\n",
    "import pandas as pd\n",
    "from datetime import datetime\n",
    "from bs4 import BeautifulSoup\n",
    "from matplotlib.font_manager import json_load\n",
    "from urllib.request import Request, urlopen"
   ]
  },
  {
   "cell_type": "code",
   "execution_count": 6,
   "metadata": {},
   "outputs": [],
   "source": [
    " ### Recolher os links que se pretende analisar\n",
    "    \n",
    "\n",
    "req = Request(\"https://www.snopes.com/fact-check/\")\n",
    "html_page = urlopen(req)\n",
    "\n",
    "soup = BeautifulSoup(html_page, \"lxml\")\n",
    "\n",
    "links = []\n",
    "for link in soup.findAll('a'):\n",
    "    if type (link.get('href')) == str and (len( link.get('href'))) >  50:  \n",
    "        links.append(link.get('href'))\n"
   ]
  },
  {
   "cell_type": "code",
   "execution_count": 7,
   "metadata": {},
   "outputs": [
    {
     "data": {
      "text/plain": [
       "['https://www.snopes.com/fact-check/musk-reinstate-trump-on-twitter/',\n",
       " 'https://www.snopes.com/fact-check/the-onion-banned-on-twitter/',\n",
       " 'https://www.snopes.com/fact-check/electric-bus-fire-kenya/',\n",
       " 'https://www.snopes.com/fact-check/fbi-internet-slang/',\n",
       " 'https://www.snopes.com/fact-check/hot-dog-under-microscope/',\n",
       " 'https://www.snopes.com/fact-check/couple-divorce-beanie-babies/',\n",
       " 'https://www.snopes.com/fact-check/florida-math-critical-race-theory/',\n",
       " 'https://www.snopes.com/fact-check/herman-cain-newsmax/',\n",
       " 'https://www.snopes.com/fact-check/man-rupture-lung-while-masturbating/',\n",
       " 'https://www.snopes.com/fact-check/bath-and-body-works-infertility/',\n",
       " 'https://www.snopes.com/fact-check/train-crash-metrolink/',\n",
       " 'https://www.snopes.com/fact-check/catholic-church-opposed-street-lights/',\n",
       " 'https://www.snopes.com/fact-check/did-snickers-remove-a-dick-vein/',\n",
       " 'https://www.snopes.com/fact-check/florida-math-critical-race-theory/',\n",
       " 'https://www.snopes.com/news/2022/04/20/verizon-down-across-parts-of-usa/',\n",
       " 'https://www.snopes.com/fact-check/golden-girls-penis/']"
      ]
     },
     "execution_count": 7,
     "metadata": {},
     "output_type": "execute_result"
    }
   ],
   "source": [
    "list_urls = links[:-1]\n",
    "list_urls"
   ]
  },
  {
   "cell_type": "code",
   "execution_count": 10,
   "metadata": {},
   "outputs": [],
   "source": [
    "language = 'en'\n",
    "\n",
    "def extractor (url):\n",
    "    '''\n",
    "    \n",
    "        1) Extrair conteudo do url da noticia\n",
    "        2) Identificar as componentes na noticia: alegaçao, avalicao, editor, url\n",
    "        3) Guardar em dataset\n",
    "        \n",
    "        \n",
    "    '''\n",
    "    \n",
    "    new = requests.get(url)\n",
    "    soup = BeautifulSoup(new.content, 'html.parser')\n",
    "    \n",
    "    #Extract Title\n",
    "    title = soup.find(class_='title').contents[0].strip('\\n').strip('\\t')\n",
    "\n",
    "    #extract description\n",
    "    for tag in soup.find_all(\"meta\"):\n",
    "        if tag.get(\"name\", None) == \"description\":\n",
    "            description = tag.get(\"content\", None)\n",
    "            \n",
    "     #extract claim\n",
    "    claim = soup.find(class_=\"claim-text card-body\").contents[0].strip('\\n').strip('\\t')\n",
    "            \n",
    "            \n",
    "    #extract classification         \n",
    "    evaluation =  soup.find(class_='media-body d-flex flex-column align-self-center')\n",
    "    for span in evaluation.find_all('span', recursive=False):\n",
    "        classification = span.get(\"class\", None)[1].replace(\"rating-label-\", \"\")\n",
    "        \n",
    "    editor = url.split('.')[1]\n",
    "\n",
    "     #extract data \n",
    "    for span in soup.find_all('time'):\n",
    "        datatime = span.get(\"datetime\", None)\n",
    "       \n",
    "    \n",
    "    #  text = readNews.main(url, \"text\").encode('utf8').decode().split('\\n')\n",
    "    \n",
    "    # Extract the text of the new\n",
    "    text = []\n",
    "    for data in soup.find(class_='single-body card-body rich-text').find_all(\"p\"): \n",
    "        if data.get_text() == \"Sources:\":\n",
    "            break\n",
    "        text.append(data.get_text()) \n",
    "\n",
    "  \n",
    "    return title , description, claim, text, classification, editor, datatime\n",
    "\n",
    "\n",
    "    \n",
    "def main ():\n",
    "    for url in list_urls:\n",
    "        title , description,  claim, text, classification, editor, datatime =  extractor (url)\n",
    "\n",
    "        # Getting the current date and time\n",
    "        dt = datetime.now()\n",
    "\n",
    "        # getting the timestamp\n",
    "        ts = datetime.timestamp(dt)\n",
    "\n",
    "        obj = { \"allegation\": claim, \"evaluation\": classification , \"nameNewspaper\":editor , 'url': url, \"language\": language , \"postText\": text}\n",
    "              \n",
    "        #print(obj)\n",
    "      \n",
    "        with open(\"extractions/\" + editor + \"_extraction_\" + str(ts)+ \".json\", \"w\", encoding = 'utf8') as jsonFile:\n",
    "            json.dump(obj, jsonFile, indent = 4, ensure_ascii=False)\n"
   ]
  },
  {
   "cell_type": "code",
   "execution_count": 11,
   "metadata": {},
   "outputs": [
    {
     "ename": "FileNotFoundError",
     "evalue": "[Errno 2] No such file or directory: 'extractions/snopes_extraction_1650643239.753576.json'",
     "output_type": "error",
     "traceback": [
      "\u001b[0;31m---------------------------------------------------------------------------\u001b[0m",
      "\u001b[0;31mFileNotFoundError\u001b[0m                         Traceback (most recent call last)",
      "\u001b[0;32m/tmp/ipykernel_345/451043146.py\u001b[0m in \u001b[0;36m<module>\u001b[0;34m\u001b[0m\n\u001b[0;32m----> 1\u001b[0;31m \u001b[0mmain\u001b[0m\u001b[0;34m(\u001b[0m\u001b[0;34m)\u001b[0m\u001b[0;34m\u001b[0m\u001b[0;34m\u001b[0m\u001b[0m\n\u001b[0m",
      "\u001b[0;32m/tmp/ipykernel_345/2656948968.py\u001b[0m in \u001b[0;36mmain\u001b[0;34m()\u001b[0m\n\u001b[1;32m     66\u001b[0m         \u001b[0;31m#print(obj)\u001b[0m\u001b[0;34m\u001b[0m\u001b[0;34m\u001b[0m\u001b[0;34m\u001b[0m\u001b[0m\n\u001b[1;32m     67\u001b[0m \u001b[0;34m\u001b[0m\u001b[0m\n\u001b[0;32m---> 68\u001b[0;31m         \u001b[0;32mwith\u001b[0m \u001b[0mopen\u001b[0m\u001b[0;34m(\u001b[0m\u001b[0;34m\"extractions/\"\u001b[0m \u001b[0;34m+\u001b[0m \u001b[0meditor\u001b[0m \u001b[0;34m+\u001b[0m \u001b[0;34m\"_extraction_\"\u001b[0m \u001b[0;34m+\u001b[0m \u001b[0mstr\u001b[0m\u001b[0;34m(\u001b[0m\u001b[0mts\u001b[0m\u001b[0;34m)\u001b[0m\u001b[0;34m+\u001b[0m \u001b[0;34m\".json\"\u001b[0m\u001b[0;34m,\u001b[0m \u001b[0;34m\"w\"\u001b[0m\u001b[0;34m,\u001b[0m \u001b[0mencoding\u001b[0m \u001b[0;34m=\u001b[0m \u001b[0;34m'utf8'\u001b[0m\u001b[0;34m)\u001b[0m \u001b[0;32mas\u001b[0m \u001b[0mjsonFile\u001b[0m\u001b[0;34m:\u001b[0m\u001b[0;34m\u001b[0m\u001b[0;34m\u001b[0m\u001b[0m\n\u001b[0m\u001b[1;32m     69\u001b[0m             \u001b[0mjson\u001b[0m\u001b[0;34m.\u001b[0m\u001b[0mdump\u001b[0m\u001b[0;34m(\u001b[0m\u001b[0mobj\u001b[0m\u001b[0;34m,\u001b[0m \u001b[0mjsonFile\u001b[0m\u001b[0;34m,\u001b[0m \u001b[0mindent\u001b[0m \u001b[0;34m=\u001b[0m \u001b[0;36m4\u001b[0m\u001b[0;34m,\u001b[0m \u001b[0mensure_ascii\u001b[0m\u001b[0;34m=\u001b[0m\u001b[0;32mFalse\u001b[0m\u001b[0;34m)\u001b[0m\u001b[0;34m\u001b[0m\u001b[0;34m\u001b[0m\u001b[0m\n",
      "\u001b[0;31mFileNotFoundError\u001b[0m: [Errno 2] No such file or directory: 'extractions/snopes_extraction_1650643239.753576.json'"
     ]
    }
   ],
   "source": [
    "main()"
   ]
  },
  {
   "cell_type": "code",
   "execution_count": null,
   "metadata": {},
   "outputs": [],
   "source": []
  }
 ],
 "metadata": {
  "interpreter": {
   "hash": "e8c954cfe51fa3e1a8f5fd5b5b324eceb9eb77e7654e2be7d7bc294cd32a0965"
  },
  "kernelspec": {
   "display_name": "Python 3 (ipykernel)",
   "language": "python",
   "name": "python3"
  },
  "language_info": {
   "codemirror_mode": {
    "name": "ipython",
    "version": 3
   },
   "file_extension": ".py",
   "mimetype": "text/x-python",
   "name": "python",
   "nbconvert_exporter": "python",
   "pygments_lexer": "ipython3",
   "version": "3.8.10"
  }
 },
 "nbformat": 4,
 "nbformat_minor": 2
}
