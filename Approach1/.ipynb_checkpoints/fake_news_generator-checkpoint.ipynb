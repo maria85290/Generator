{
 "cells": [
  {
   "cell_type": "markdown",
   "metadata": {},
   "source": [
    "# Fake news generator\n",
    "\n",
    "Verificar se apartir de um post de fack checking é possivel obter um gerador de fake news."
   ]
  },
  {
   "cell_type": "code",
   "execution_count": 1,
   "metadata": {},
   "outputs": [],
   "source": [
    "#Importar as bibliotecas necessarias para a leitura dos posts\n",
    "\n",
    "import json\n",
    "import pandas as pd\n",
    "from matplotlib.font_manager import json_load\n",
    "\n",
    "import readNews\n",
    "import sentimentAnalysis"
   ]
  },
  {
   "cell_type": "markdown",
   "metadata": {},
   "source": [
    "### Read the news"
   ]
  },
  {
   "cell_type": "code",
   "execution_count": 13,
   "metadata": {},
   "outputs": [],
   "source": [
    "def remove_values_from_list(the_list, val):\n",
    "    return [value for value in the_list if value != val]\n",
    "\n",
    "def clean (ListSentences):\n",
    "    \n",
    "    #limpeza '\n",
    "    l = [s.replace(\"\\\"\",\"'\") for s in ListSentences]\n",
    "    \n",
    "    #Separar em frases + pequenas\n",
    "    sentences = []\n",
    "    for i in l:\n",
    "        sentences = sentences + i.split('.')\n",
    "\n",
    "    return remove_values_from_list(sentences, \"\\'\\'\")"
   ]
  },
  {
   "cell_type": "code",
   "execution_count": 34,
   "metadata": {},
   "outputs": [],
   "source": [
    "\n",
    "\n",
    "\n",
    "url = 'https://poligrafo.sapo.pt/fact-check/ucrania-entregou-armas-nucleares-a-russia-em-troca-da-garantia-de-nunca-ser-amecada-ou-invadida'\n",
    "language = 'pt'\n",
    "summary = readNews.main(url, \"summary\").encode('utf8').decode().split('\\n')\n",
    "title = readNews.main(url, \"title\").encode('utf8').decode().split('\\n')\n",
    "newsSentences = title + summary\n",
    "text = title + readNews.main(url, \"text\").encode('utf8').decode().split('\\n')\n",
    "\n"
   ]
  },
  {
   "cell_type": "code",
   "execution_count": 35,
   "metadata": {},
   "outputs": [],
   "source": [
    "#newsSentences\n"
   ]
  },
  {
   "cell_type": "code",
   "execution_count": 36,
   "metadata": {},
   "outputs": [],
   "source": [
    "#text"
   ]
  },
  {
   "cell_type": "markdown",
   "metadata": {},
   "source": [
    "#### Sentiment Analysis"
   ]
  },
  {
   "cell_type": "code",
   "execution_count": null,
   "metadata": {},
   "outputs": [],
   "source": []
  },
  {
   "cell_type": "code",
   "execution_count": 37,
   "metadata": {},
   "outputs": [],
   "source": [
    "text.remove('')"
   ]
  },
  {
   "cell_type": "code",
   "execution_count": 38,
   "metadata": {},
   "outputs": [
    {
     "data": {
      "text/plain": [
       "['Ucrânia entregou armas nucleares à Rússia \"em troca da garantia de nunca ser ameaçada ou invadida\"?',\n",
       " '\"Em 1994, a Ucrânia detinha um gigantesco arsenal nuclear até assinar o Memorando de Budapeste e entregou cerca de 1.600 armas nucleares remanescentes da antiga União Soviética à Rússia, em troca de um tratado de paz e da garantia de nunca ser invadida ou ameaçada\", lê-se no post de 24 de fevereiro no Facebook.',\n",
       " '\"Hoje, a Rússia invade a Ucrânia demonstrando o resultado de entregar a sua capacidade de defesa a alguém contando com a sua benevolência\", acrescenta-se.',\n",
       " '',\n",
       " 'São factos históricos?',\n",
       " '',\n",
       " 'Contactado pelo Polígrafo, Arturo Zoffmann Rodriguez, investigador no Instituto de História Contemporânea da Universidade Nova de Lisboa e especialista em História da Rússia, confirma que o tratado mencionado na publicação, o Memorando de Budapeste, \"ratificou o envio do arsenal nuclear soviético da Ucrânia para a Rússia\".',\n",
       " '',\n",
       " '\"Os promotores desta iniciativa foram, de facto, os norte-americanos, que receavam o espalhamento do arsenal nuclear soviético em pequenas repúblicas recém criadas e politicamente instáveis. Além disso, a enorme concentração de armas nucleares na Ucrânia era um entrave à expansão da NATO para o Leste\", acrescenta.',\n",
       " '',\n",
       " 'Segundo o historiador, os termos do acordo são claros. \"A Federação Russa, o Reino Unido da Grã-Bretanha e Irlanda do Norte e os Estados Unidos da América (EUA) reafirmam a sua obrigação de abster-se da ameaça ou do uso da força contra a integridade territorial ou a independência política da Ucrânia, e que nenhuma de suas armas jamais será utilizada contra a Ucrânia, excepto em legítima defesa ou de outra forma, de acordo com a Carta das Nações Unidas\", lê-se no texto do tratado (pode consultar aqui na íntegra).',\n",
       " '',\n",
       " 'Questionado sobre se o presente ataque militar da Rússia à Ucrânia constitui uma violação do acordo de 1994, Zoffmann Rodriguez entende que \"formalmente poderia argumentar-se que sim\". No entanto, considera que a questão acaba por ser \"irrelevante\", uma vez que \"aos olhos da Rússia, o regime que tomou o poder na Ucrânia em 2014 é ilegítimo\".',\n",
       " '',\n",
       " 'Assim, para o historiador, a informação do post em análise \"não é falsa\". Porém, olha para este texto viral nas redes sociais como uma \"simplificação que ignora as mudanças que têm acontecido\" desde 1994, assim como \"o facto de terem sido sobretudo os EUA, e não a Rússia, quem pressionou a Ucrânia para abandonar as armas nucleares\".',\n",
       " '',\n",
       " '___________________________________',\n",
       " '',\n",
       " 'Nota editorial: este conteúdo foi selecionado pelo Polígrafo no âmbito de uma parceria de fact-checking (verificação de factos) com o Facebook, destinada a avaliar a veracidade das informações que circulam nessa rede social.',\n",
       " '',\n",
       " 'Na escala de avaliação do Facebook, este conteúdo é:',\n",
       " '',\n",
       " 'Verdadeiro: as principais alegações do conteúdo são factualmente precisas; geralmente, esta opção corresponde às classificações \"Verdadeiro\" ou \"Maioritariamente Verdadeiro\" nos sites de verificadores de factos.',\n",
       " '',\n",
       " 'Na escala de avaliação do Polígrafo, este conteúdo é:']"
      ]
     },
     "execution_count": 38,
     "metadata": {},
     "output_type": "execute_result"
    }
   ],
   "source": [
    "text"
   ]
  },
  {
   "cell_type": "code",
   "execution_count": 39,
   "metadata": {},
   "outputs": [],
   "source": [
    "\n",
    "text =clean(text)\n",
    "\n",
    "sentiments, status_code = sentimentAnalysis.main(text,\"pt\")\n"
   ]
  },
  {
   "cell_type": "code",
   "execution_count": 40,
   "metadata": {},
   "outputs": [
    {
     "data": {
      "text/plain": [
       "200"
      ]
     },
     "execution_count": 40,
     "metadata": {},
     "output_type": "execute_result"
    }
   ],
   "source": [
    "status_code"
   ]
  },
  {
   "cell_type": "code",
   "execution_count": 41,
   "metadata": {},
   "outputs": [],
   "source": [
    "## Ordenar por ordem decrescente maior emoçao\n",
    "playload = json.loads(sentiments)"
   ]
  },
  {
   "cell_type": "code",
   "execution_count": 50,
   "metadata": {},
   "outputs": [],
   "source": [
    "\n",
    "## Ordenar as frases por aquela que tem maior surpresa e tristeza\n",
    "sortedByEmotion = {k: v for k, v in sorted(playload.items(), key=lambda item: (item[1]['emotions']['sadness'] + item[1]['emotions']['surprise']), reverse=True)}\n"
   ]
  },
  {
   "cell_type": "markdown",
   "metadata": {},
   "source": [
    "vizualizar os valores de emoçao de surpresa e tristeza"
   ]
  },
  {
   "cell_type": "code",
   "execution_count": 70,
   "metadata": {},
   "outputs": [
    {
     "data": {
      "text/plain": [
       "0.29"
      ]
     },
     "execution_count": 70,
     "metadata": {},
     "output_type": "execute_result"
    }
   ],
   "source": [
    "list(sortedByEmotion.items())[0][1]['emotions']['surprise'] "
   ]
  },
  {
   "cell_type": "code",
   "execution_count": 71,
   "metadata": {},
   "outputs": [
    {
     "data": {
      "text/plain": [
       "0.14"
      ]
     },
     "execution_count": 71,
     "metadata": {},
     "output_type": "execute_result"
    }
   ],
   "source": [
    "list(sortedByEmotion.items())[0][1]['emotions']['sadness']"
   ]
  },
  {
   "cell_type": "markdown",
   "metadata": {},
   "source": [
    "### Save Data"
   ]
  },
  {
   "cell_type": "code",
   "execution_count": 72,
   "metadata": {},
   "outputs": [],
   "source": [
    "data = pd.read_csv('news.csv')"
   ]
  },
  {
   "cell_type": "code",
   "execution_count": 73,
   "metadata": {},
   "outputs": [],
   "source": [
    "row = {'url': url, \"language\": language, \"text\": list (sortedByEmotion) [0], \"surprise\": list(sortedByEmotion.items())[0][1]['emotions']['surprise'] , 'sadness':list(sortedByEmotion.items())[0][1]['emotions']['sadness']}\n",
    "\n",
    "# Adicionar a nova linha ao dataset\n",
    "data = data.append(row,  ignore_index=True)\n",
    "\n",
    "#Retirar colunaas que estão a mais\n",
    "data = data[['url','language','text', \"surprise\" ,'sadness' ]]\n"
   ]
  },
  {
   "cell_type": "code",
   "execution_count": 74,
   "metadata": {},
   "outputs": [
    {
     "data": {
      "text/html": [
       "<div>\n",
       "<style scoped>\n",
       "    .dataframe tbody tr th:only-of-type {\n",
       "        vertical-align: middle;\n",
       "    }\n",
       "\n",
       "    .dataframe tbody tr th {\n",
       "        vertical-align: top;\n",
       "    }\n",
       "\n",
       "    .dataframe thead th {\n",
       "        text-align: right;\n",
       "    }\n",
       "</style>\n",
       "<table border=\"1\" class=\"dataframe\">\n",
       "  <thead>\n",
       "    <tr style=\"text-align: right;\">\n",
       "      <th></th>\n",
       "      <th>url</th>\n",
       "      <th>language</th>\n",
       "      <th>text</th>\n",
       "      <th>surprise</th>\n",
       "      <th>sadness</th>\n",
       "    </tr>\n",
       "  </thead>\n",
       "  <tbody>\n",
       "    <tr>\n",
       "      <th>0</th>\n",
       "      <td>https://poligrafo.sapo.pt/fact-check/ucrania-e...</td>\n",
       "      <td>pt</td>\n",
       "      <td>Questionado sobre se o presente ataque militar...</td>\n",
       "      <td>0.29</td>\n",
       "      <td>0.14</td>\n",
       "    </tr>\n",
       "  </tbody>\n",
       "</table>\n",
       "</div>"
      ],
      "text/plain": [
       "                                                 url language  \\\n",
       "0  https://poligrafo.sapo.pt/fact-check/ucrania-e...       pt   \n",
       "\n",
       "                                                text  surprise  sadness  \n",
       "0  Questionado sobre se o presente ataque militar...      0.29     0.14  "
      ]
     },
     "execution_count": 74,
     "metadata": {},
     "output_type": "execute_result"
    }
   ],
   "source": [
    "data"
   ]
  },
  {
   "cell_type": "code",
   "execution_count": 75,
   "metadata": {},
   "outputs": [],
   "source": [
    "data.to_csv('news.csv')"
   ]
  },
  {
   "cell_type": "markdown",
   "metadata": {},
   "source": [
    "### Automatizar o processo\n",
    "\n",
    "\n",
    "        1) Extrair conteudo do url da noticia\n",
    "        2) Divir o conteudo extraido por frases simples (split pelo .)\n",
    "        3) Realizar analise de sentimentos nas frases;\n",
    "        4) Identificar a frase com maios percentagem de tristeza e surpresa,\n",
    "        5) Guardar resultados num csv."
   ]
  },
  {
   "cell_type": "code",
   "execution_count": 3,
   "metadata": {},
   "outputs": [],
   "source": [
    " ### Recolher os links que se pretende analisar\n",
    "    \n",
    "from bs4 import BeautifulSoup\n",
    "from urllib.request import Request, urlopen\n",
    "import re\n",
    "\n",
    "req = Request(\"https://poligrafo.sapo.pt/fact-checks\")\n",
    "html_page = urlopen(req)\n",
    "\n",
    "soup = BeautifulSoup(html_page, \"lxml\")\n",
    "\n",
    "links = []\n",
    "for link in soup.findAll('a'):\n",
    "    if type (link.get('href')) == str and (len( link.get('href'))) >  50:  \n",
    "        links.append(\"https://poligrafo.sapo.pt\" + link.get('href'))\n"
   ]
  },
  {
   "cell_type": "code",
   "execution_count": 4,
   "metadata": {},
   "outputs": [
    {
     "data": {
      "text/plain": [
       "['https://poligrafo.sapo.pt/fact-check/transporte-ferroviario-de-passageiros-ja-voltou-aos-niveis-pre-pandemia',\n",
       " 'https://poligrafo.sapo.pt/fact-check/guerra-da-ucrania-reino-unido-bloqueou-e-congelou-os-bens-de-roman-abramovich',\n",
       " 'https://poligrafo.sapo.pt/fact-check/quatro-cacas-f-16-de-portugal-foram-mobilizados-para-a-fronteira-polonia-ucrania',\n",
       " 'https://poligrafo.sapo.pt/fact-check/salarios-reais-descontando-a-inflacao-em-portugal-baixaram-09-desde-o-ano-de-2000',\n",
       " 'https://poligrafo.sapo.pt/fact-check/preco-do-gasoleo-em-portugal-e-quase-o-dobro-em-comparacao-com-os-eua-polonia-ou-ucrania',\n",
       " 'https://poligrafo.sapo.pt/fact-check/gas-natural-esta-10-vezes-mais-caro-do-que-ha-um-ano',\n",
       " 'https://poligrafo.sapo.pt/fact-check/mais-de-60-da-populacao-portuguesa-vive-com-menos-de-30-dolares-por-dia',\n",
       " 'https://poligrafo.sapo.pt/fact-check/polonia-baixou-impostos-sobre-combustiveis-e-alimentos-para-mitigar-os-efeitos-da-guerra',\n",
       " 'https://poligrafo.sapo.pt/fact-check/esta-fotografia-retrata-a-primeira-dama-da-ucrania-em-combate-na-guerra-contra-a-russia',\n",
       " 'https://poligrafo.sapo.pt/fact-check/chega-votou-contra-margens-maximas-de-comercializacao-dos-combustiveis',\n",
       " 'https://poligrafo.sapo.pt/fact-check/gabinetes-do-governo-de-costa-tem-mais-246-funcionarios-em-comparacao-com-o-governo-de-passos-coelho',\n",
       " 'https://poligrafo.sapo.pt/fact-check/imagem-viral-mostra-o-papa-francisco-a-beijar-as-maos-de-david-rockefeller-e-john-rothschild',\n",
       " 'https://poligrafo.sapo.pt/fact-check/turismo-em-portugal-ja-tinha-recuperado-para-niveis-pre-pandemia-antes-da-guerra-na-ucrania',\n",
       " 'https://poligrafo.sapo.pt/fact-check/mais-de-10-mil-professores-abandonaram-a-profissao-em-10-anos',\n",
       " 'https://poligrafo.sapo.pt/fact-check/diferenca-do-salario-medio-entre-os-setores-publico-e-privado-ascende-a-mais-de-500-euros',\n",
       " 'https://poligrafo.sapo.pt/fact-check/parlamento-da-eslovaquia-classificou-partido-comunista-como-organizacao-criminosa',\n",
       " 'https://poligrafo.sapo.pt/fact-check/este-video-mostra-o-coro-do-exercito-russo-a-ser-preso-por-cantar-sobre-a-paz',\n",
       " 'https://poligrafo.sapo.pt/fact-check/universidade-johns-hopkins-confirma-vacinacao-de-pessoas-sem-saberem-atraves-dos-testes-pcr',\n",
       " 'https://poligrafo.sapo.pt/fact-check/cine-check-disney-boicotou-o-filme-anastasia-por-causa-da-guerra-na-ucrania',\n",
       " 'https://poligrafo.sapo.pt/fact-check/putin-anunciou-que-vai-lancar-misseis-contra-nairobi-e-destruir-o-quenia',\n",
       " 'https://poligrafo.sapo.pt/fact-check/a-primeira-mulher-piloto-de-cacas-da-ucrania-morreu-em-combate-na-guerra-contra-a-russia',\n",
       " 'https://poligrafo.sapo.pt/fact-check/zelensky-votou-contra-reconhecimento-da-palestina-e-sancoes-a-israel',\n",
       " 'https://poligrafo.sapo.pt/fact-check/imagem-de-gravida-ferida-no-bombardeamento-de-hospital-em-mariupol-foi-encenacao-de-modelo-e-influencer',\n",
       " 'https://poligrafo.sapo.pt/fact-check/este-video-mostra-bombardeamento-da-russia-sobre-deposito-de-gasolina-na-ucrania']"
      ]
     },
     "execution_count": 4,
     "metadata": {},
     "output_type": "execute_result"
    }
   ],
   "source": [
    "list_urls = links[:-1]\n",
    "list_urls"
   ]
  },
  {
   "cell_type": "code",
   "execution_count": 14,
   "metadata": {},
   "outputs": [],
   "source": [
    "language = 'pt'\n",
    "\n",
    "def extractor (url, language):\n",
    "    summary = readNews.main(url, \"summary\").encode('utf8').decode().split('\\n')\n",
    "    title = readNews.main(url, \"title\").encode('utf8').decode().split('\\n')\n",
    "    newsSentences = title + summary\n",
    "    text = readNews.main(url, \"text\").encode('utf8').decode().split('\\n')\n",
    "    \n",
    "    return text \n",
    "\n",
    "def sentiment_analysis(text):  \n",
    "    \n",
    "    ## Limpar o texto, transformar paragrafos em frases\n",
    "    text =clean(text)\n",
    "    \n",
    "    status_code = 0 ## Valor inicial \n",
    "    \n",
    "    while (status_code != 200):\n",
    "        emotions, status_code = sentimentAnalysis.main(text,language)\n",
    "        playload_emotions = json.loads(emotions)\n",
    "    \n",
    "    return playload_emotions\n",
    "    \n",
    "\n",
    "    \n",
    "def main ():\n",
    "    for url in list_urls:\n",
    "        text =  extractor (url, language)\n",
    "        playload_emotions = sentiment_analysis(text)\n",
    "\n",
    "        ## Ordenar as frases por aquela que tem maior percentagem de sadness e surprise\n",
    "        sortedByEmotion = {k: v for k, v in sorted(playload_emotions.items(), key=lambda item: (item[1]['emotions']['sadness'] + item[1]['emotions']['surprise']), reverse=True)}\n",
    "    \n",
    "        data = pd.read_csv('news.csv')\n",
    "        \n",
    "        row = {'url': url, \"language\": language, \"text\": list (sortedByEmotion) [0], \"surprise\": list(sortedByEmotion.items())[0][1]['emotions']['surprise'] , 'sadness':list(sortedByEmotion.items())[0][1]['emotions']['sadness']}\n",
    "        print(row)\n",
    "        # Adicionar a nova linha ao dataset\n",
    "        data = data.append(row,  ignore_index=True)\n",
    "\n",
    "        #Retirar colunaas que estão a mais\n",
    "        data = data[['url','language','text', \"surprise\" ,'sadness' ]]\n",
    "        \n",
    "        data.to_csv('news.csv')"
   ]
  },
  {
   "cell_type": "code",
   "execution_count": 15,
   "metadata": {},
   "outputs": [
    {
     "name": "stdout",
     "output_type": "stream",
     "text": [
      "{'url': 'https://poligrafo.sapo.pt/fact-check/transporte-ferroviario-de-passageiros-ja-voltou-aos-niveis-pre-pandemia', 'language': 'pt', 'text': \"'Suburbanos e Metropolitanos voltaram a encher nos últimos meses, mais pessoas que antes da pandemia\", 'surprise': 0.0, 'sadness': 0.5}\n",
      "{'url': 'https://poligrafo.sapo.pt/fact-check/guerra-da-ucrania-reino-unido-bloqueou-e-congelou-os-bens-de-roman-abramovich', 'language': 'pt', 'text': 'Avaliação do Polígrafo:', 'surprise': 0.2, 'sadness': 0.2}\n",
      "{'url': 'https://poligrafo.sapo.pt/fact-check/quatro-cacas-f-16-de-portugal-foram-mobilizados-para-a-fronteira-polonia-ucrania', 'language': 'pt', 'text': 'Avaliação do Polígrafo:', 'surprise': 0.2, 'sadness': 0.2}\n"
     ]
    },
    {
     "ename": "JSONDecodeError",
     "evalue": "Expecting value: line 1 column 1 (char 0)",
     "output_type": "error",
     "traceback": [
      "\u001b[0;31m---------------------------------------------------------------------------\u001b[0m",
      "\u001b[0;31mJSONDecodeError\u001b[0m                           Traceback (most recent call last)",
      "\u001b[0;32m/tmp/ipykernel_171/451043146.py\u001b[0m in \u001b[0;36m<module>\u001b[0;34m\u001b[0m\n\u001b[0;32m----> 1\u001b[0;31m \u001b[0mmain\u001b[0m\u001b[0;34m(\u001b[0m\u001b[0;34m)\u001b[0m\u001b[0;34m\u001b[0m\u001b[0;34m\u001b[0m\u001b[0m\n\u001b[0m",
      "\u001b[0;32m/tmp/ipykernel_171/426475530.py\u001b[0m in \u001b[0;36mmain\u001b[0;34m()\u001b[0m\n\u001b[1;32m     27\u001b[0m     \u001b[0;32mfor\u001b[0m \u001b[0murl\u001b[0m \u001b[0;32min\u001b[0m \u001b[0mlist_urls\u001b[0m\u001b[0;34m:\u001b[0m\u001b[0;34m\u001b[0m\u001b[0;34m\u001b[0m\u001b[0m\n\u001b[1;32m     28\u001b[0m         \u001b[0mtext\u001b[0m \u001b[0;34m=\u001b[0m  \u001b[0mextractor\u001b[0m \u001b[0;34m(\u001b[0m\u001b[0murl\u001b[0m\u001b[0;34m,\u001b[0m \u001b[0mlanguage\u001b[0m\u001b[0;34m)\u001b[0m\u001b[0;34m\u001b[0m\u001b[0;34m\u001b[0m\u001b[0m\n\u001b[0;32m---> 29\u001b[0;31m         \u001b[0mplayload_emotions\u001b[0m \u001b[0;34m=\u001b[0m \u001b[0msentiment_analysis\u001b[0m\u001b[0;34m(\u001b[0m\u001b[0mtext\u001b[0m\u001b[0;34m)\u001b[0m\u001b[0;34m\u001b[0m\u001b[0;34m\u001b[0m\u001b[0m\n\u001b[0m\u001b[1;32m     30\u001b[0m \u001b[0;34m\u001b[0m\u001b[0m\n\u001b[1;32m     31\u001b[0m         \u001b[0;31m## Ordenar as frases por aquela que tem maior percentagem de sadness e surprise\u001b[0m\u001b[0;34m\u001b[0m\u001b[0;34m\u001b[0m\u001b[0;34m\u001b[0m\u001b[0m\n",
      "\u001b[0;32m/tmp/ipykernel_171/426475530.py\u001b[0m in \u001b[0;36msentiment_analysis\u001b[0;34m(text)\u001b[0m\n\u001b[1;32m     18\u001b[0m     \u001b[0;32mwhile\u001b[0m \u001b[0;34m(\u001b[0m\u001b[0mstatus_code\u001b[0m \u001b[0;34m!=\u001b[0m \u001b[0;36m200\u001b[0m\u001b[0;34m)\u001b[0m\u001b[0;34m:\u001b[0m\u001b[0;34m\u001b[0m\u001b[0;34m\u001b[0m\u001b[0m\n\u001b[1;32m     19\u001b[0m         \u001b[0memotions\u001b[0m\u001b[0;34m,\u001b[0m \u001b[0mstatus_code\u001b[0m \u001b[0;34m=\u001b[0m \u001b[0msentimentAnalysis\u001b[0m\u001b[0;34m.\u001b[0m\u001b[0mmain\u001b[0m\u001b[0;34m(\u001b[0m\u001b[0mtext\u001b[0m\u001b[0;34m,\u001b[0m\u001b[0mlanguage\u001b[0m\u001b[0;34m)\u001b[0m\u001b[0;34m\u001b[0m\u001b[0;34m\u001b[0m\u001b[0m\n\u001b[0;32m---> 20\u001b[0;31m         \u001b[0mplayload_emotions\u001b[0m \u001b[0;34m=\u001b[0m \u001b[0mjson\u001b[0m\u001b[0;34m.\u001b[0m\u001b[0mloads\u001b[0m\u001b[0;34m(\u001b[0m\u001b[0memotions\u001b[0m\u001b[0;34m)\u001b[0m\u001b[0;34m\u001b[0m\u001b[0;34m\u001b[0m\u001b[0m\n\u001b[0m\u001b[1;32m     21\u001b[0m \u001b[0;34m\u001b[0m\u001b[0m\n\u001b[1;32m     22\u001b[0m     \u001b[0;32mreturn\u001b[0m \u001b[0mplayload_emotions\u001b[0m\u001b[0;34m\u001b[0m\u001b[0;34m\u001b[0m\u001b[0m\n",
      "\u001b[0;32m/usr/lib/python3.8/json/__init__.py\u001b[0m in \u001b[0;36mloads\u001b[0;34m(s, cls, object_hook, parse_float, parse_int, parse_constant, object_pairs_hook, **kw)\u001b[0m\n\u001b[1;32m    355\u001b[0m             \u001b[0mparse_int\u001b[0m \u001b[0;32mis\u001b[0m \u001b[0;32mNone\u001b[0m \u001b[0;32mand\u001b[0m \u001b[0mparse_float\u001b[0m \u001b[0;32mis\u001b[0m \u001b[0;32mNone\u001b[0m \u001b[0;32mand\u001b[0m\u001b[0;34m\u001b[0m\u001b[0;34m\u001b[0m\u001b[0m\n\u001b[1;32m    356\u001b[0m             parse_constant is None and object_pairs_hook is None and not kw):\n\u001b[0;32m--> 357\u001b[0;31m         \u001b[0;32mreturn\u001b[0m \u001b[0m_default_decoder\u001b[0m\u001b[0;34m.\u001b[0m\u001b[0mdecode\u001b[0m\u001b[0;34m(\u001b[0m\u001b[0ms\u001b[0m\u001b[0;34m)\u001b[0m\u001b[0;34m\u001b[0m\u001b[0;34m\u001b[0m\u001b[0m\n\u001b[0m\u001b[1;32m    358\u001b[0m     \u001b[0;32mif\u001b[0m \u001b[0mcls\u001b[0m \u001b[0;32mis\u001b[0m \u001b[0;32mNone\u001b[0m\u001b[0;34m:\u001b[0m\u001b[0;34m\u001b[0m\u001b[0;34m\u001b[0m\u001b[0m\n\u001b[1;32m    359\u001b[0m         \u001b[0mcls\u001b[0m \u001b[0;34m=\u001b[0m \u001b[0mJSONDecoder\u001b[0m\u001b[0;34m\u001b[0m\u001b[0;34m\u001b[0m\u001b[0m\n",
      "\u001b[0;32m/usr/lib/python3.8/json/decoder.py\u001b[0m in \u001b[0;36mdecode\u001b[0;34m(self, s, _w)\u001b[0m\n\u001b[1;32m    335\u001b[0m \u001b[0;34m\u001b[0m\u001b[0m\n\u001b[1;32m    336\u001b[0m         \"\"\"\n\u001b[0;32m--> 337\u001b[0;31m         \u001b[0mobj\u001b[0m\u001b[0;34m,\u001b[0m \u001b[0mend\u001b[0m \u001b[0;34m=\u001b[0m \u001b[0mself\u001b[0m\u001b[0;34m.\u001b[0m\u001b[0mraw_decode\u001b[0m\u001b[0;34m(\u001b[0m\u001b[0ms\u001b[0m\u001b[0;34m,\u001b[0m \u001b[0midx\u001b[0m\u001b[0;34m=\u001b[0m\u001b[0m_w\u001b[0m\u001b[0;34m(\u001b[0m\u001b[0ms\u001b[0m\u001b[0;34m,\u001b[0m \u001b[0;36m0\u001b[0m\u001b[0;34m)\u001b[0m\u001b[0;34m.\u001b[0m\u001b[0mend\u001b[0m\u001b[0;34m(\u001b[0m\u001b[0;34m)\u001b[0m\u001b[0;34m)\u001b[0m\u001b[0;34m\u001b[0m\u001b[0;34m\u001b[0m\u001b[0m\n\u001b[0m\u001b[1;32m    338\u001b[0m         \u001b[0mend\u001b[0m \u001b[0;34m=\u001b[0m \u001b[0m_w\u001b[0m\u001b[0;34m(\u001b[0m\u001b[0ms\u001b[0m\u001b[0;34m,\u001b[0m \u001b[0mend\u001b[0m\u001b[0;34m)\u001b[0m\u001b[0;34m.\u001b[0m\u001b[0mend\u001b[0m\u001b[0;34m(\u001b[0m\u001b[0;34m)\u001b[0m\u001b[0;34m\u001b[0m\u001b[0;34m\u001b[0m\u001b[0m\n\u001b[1;32m    339\u001b[0m         \u001b[0;32mif\u001b[0m \u001b[0mend\u001b[0m \u001b[0;34m!=\u001b[0m \u001b[0mlen\u001b[0m\u001b[0;34m(\u001b[0m\u001b[0ms\u001b[0m\u001b[0;34m)\u001b[0m\u001b[0;34m:\u001b[0m\u001b[0;34m\u001b[0m\u001b[0;34m\u001b[0m\u001b[0m\n",
      "\u001b[0;32m/usr/lib/python3.8/json/decoder.py\u001b[0m in \u001b[0;36mraw_decode\u001b[0;34m(self, s, idx)\u001b[0m\n\u001b[1;32m    353\u001b[0m             \u001b[0mobj\u001b[0m\u001b[0;34m,\u001b[0m \u001b[0mend\u001b[0m \u001b[0;34m=\u001b[0m \u001b[0mself\u001b[0m\u001b[0;34m.\u001b[0m\u001b[0mscan_once\u001b[0m\u001b[0;34m(\u001b[0m\u001b[0ms\u001b[0m\u001b[0;34m,\u001b[0m \u001b[0midx\u001b[0m\u001b[0;34m)\u001b[0m\u001b[0;34m\u001b[0m\u001b[0;34m\u001b[0m\u001b[0m\n\u001b[1;32m    354\u001b[0m         \u001b[0;32mexcept\u001b[0m \u001b[0mStopIteration\u001b[0m \u001b[0;32mas\u001b[0m \u001b[0merr\u001b[0m\u001b[0;34m:\u001b[0m\u001b[0;34m\u001b[0m\u001b[0;34m\u001b[0m\u001b[0m\n\u001b[0;32m--> 355\u001b[0;31m             \u001b[0;32mraise\u001b[0m \u001b[0mJSONDecodeError\u001b[0m\u001b[0;34m(\u001b[0m\u001b[0;34m\"Expecting value\"\u001b[0m\u001b[0;34m,\u001b[0m \u001b[0ms\u001b[0m\u001b[0;34m,\u001b[0m \u001b[0merr\u001b[0m\u001b[0;34m.\u001b[0m\u001b[0mvalue\u001b[0m\u001b[0;34m)\u001b[0m \u001b[0;32mfrom\u001b[0m \u001b[0;32mNone\u001b[0m\u001b[0;34m\u001b[0m\u001b[0;34m\u001b[0m\u001b[0m\n\u001b[0m\u001b[1;32m    356\u001b[0m         \u001b[0;32mreturn\u001b[0m \u001b[0mobj\u001b[0m\u001b[0;34m,\u001b[0m \u001b[0mend\u001b[0m\u001b[0;34m\u001b[0m\u001b[0;34m\u001b[0m\u001b[0m\n",
      "\u001b[0;31mJSONDecodeError\u001b[0m: Expecting value: line 1 column 1 (char 0)"
     ]
    }
   ],
   "source": [
    "main()"
   ]
  },
  {
   "cell_type": "code",
   "execution_count": null,
   "metadata": {},
   "outputs": [],
   "source": []
  }
 ],
 "metadata": {
  "interpreter": {
   "hash": "e8c954cfe51fa3e1a8f5fd5b5b324eceb9eb77e7654e2be7d7bc294cd32a0965"
  },
  "kernelspec": {
   "display_name": "Python 3 (ipykernel)",
   "language": "python",
   "name": "python3"
  },
  "language_info": {
   "codemirror_mode": {
    "name": "ipython",
    "version": 3
   },
   "file_extension": ".py",
   "mimetype": "text/x-python",
   "name": "python",
   "nbconvert_exporter": "python",
   "pygments_lexer": "ipython3",
   "version": "3.8.10"
  }
 },
 "nbformat": 4,
 "nbformat_minor": 2
}
