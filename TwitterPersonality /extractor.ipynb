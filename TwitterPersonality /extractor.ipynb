{
 "cells": [
  {
   "cell_type": "markdown",
   "metadata": {},
   "source": [
    "# Tweets extractor\n",
    "\n",
    "Ferramenta para extrair tweets de um dado utilizador (usando o nome de utilizador) utilizando a API oficial do twitter.\n",
    "\n",
    "\n",
    "É necessario:\n",
    "1) Chaves de autenticaçao para API.\n",
    "2) Utilizar biblioteca tweepy.\n",
    "3) Fazer os pedidos necessario a API.\n",
    "\n",
    "\n",
    "Para utilizar o Tweepy existem 4 passos a executar:  \n",
    "1) Importar o package;\n",
    "2) Definir as credenciais de autenticaçao;\n",
    "3) Instanciar a API;\n",
    "4) Crear o objeto API; \n"
   ]
  },
  {
   "cell_type": "code",
   "execution_count": 26,
   "metadata": {},
   "outputs": [
    {
     "data": {
      "text/plain": [
       "True"
      ]
     },
     "execution_count": 26,
     "metadata": {},
     "output_type": "execute_result"
    }
   ],
   "source": [
    "import os\n",
    "import tweepy\n",
    "\n",
    "from dotenv import load_dotenv\n",
    "\n",
    "load_dotenv()"
   ]
  },
  {
   "cell_type": "code",
   "execution_count": 27,
   "metadata": {},
   "outputs": [],
   "source": [
    "\n",
    "\n",
    "# authenticating twitter api credentials\n",
    "consumer_key = os.getenv('consumer_key')\n",
    "consumer_secret = os.getenv('consumer_secret')\n",
    "access_token = os.getenv('access_token')\n",
    "access_token_secret = os.getenv('access_token_secret')\n"
   ]
  },
  {
   "cell_type": "code",
   "execution_count": 28,
   "metadata": {},
   "outputs": [
    {
     "name": "stdout",
     "output_type": "stream",
     "text": [
      "xz6PczCQkvVGkcqEPunAyWkk8\n"
     ]
    }
   ],
   "source": [
    "print (consumer_key)"
   ]
  },
  {
   "cell_type": "code",
   "execution_count": 29,
   "metadata": {},
   "outputs": [],
   "source": [
    "\n",
    "# instantiating the api\n",
    "auth = tweepy.OAuthHandler(consumer_key, consumer_secret)\n",
    "auth.set_access_token(access_token, access_token_secret)\n",
    "\n",
    "# creating API object\n",
    "api = tweepy.API(auth)"
   ]
  },
  {
   "cell_type": "code",
   "execution_count": 61,
   "metadata": {},
   "outputs": [],
   "source": [
    "def extract_last_n_tweets(username, n = 10):\n",
    "    '''\n",
    "    n, numero de tweets a extrair\n",
    "    user, utilizador que se pretende procurar\n",
    "    '''\n",
    "    try:\n",
    "        new_tweets = tweepy.Cursor(api.user_timeline, screen_name=username, tweet_mode='extended').items(n)\n",
    "        return True, new_tweets\n",
    "    except:\n",
    "        m = \"erro duranre a extraçao de tweets de um utilizador;\"\n",
    "    return False, m\n",
    "\n"
   ]
  },
  {
   "cell_type": "code",
   "execution_count": 70,
   "metadata": {},
   "outputs": [],
   "source": [
    "\n",
    "def main (users):\n",
    "    for user in users:\n",
    "        value, userdata = extract_last_n_tweets (user, N)\n",
    "        print(value)\n",
    "        if value == True:\n",
    "            for tweet in userdata:\n",
    "                text = tweet._json[\"full_text\"]\n",
    "                refined_tweet = {'text' : text,\n",
    "                    'likes_count' : tweet.favorite_count,\n",
    "                    'retweet_count' : tweet.retweet_count,\n",
    "                    'created_at' : tweet.created_at}\n",
    "                print(refined_tweet)\n",
    "\n",
    "        \n"
   ]
  },
  {
   "cell_type": "code",
   "execution_count": 71,
   "metadata": {},
   "outputs": [
    {
     "name": "stdout",
     "output_type": "stream",
     "text": [
      "True\n",
      "{'text': 'Fds a Catarina n pode ser líder #bbtvi', 'likes_count': 4, 'retweet_count': 0, 'created_at': datetime.datetime(2022, 5, 15, 22, 23, 27, tzinfo=datetime.timezone.utc)}\n",
      "{'text': 'Acho bué piada ao Nuno #bbtvi', 'likes_count': 1, 'retweet_count': 0, 'created_at': datetime.datetime(2022, 5, 15, 21, 4, 16, tzinfo=datetime.timezone.utc)}\n",
      "{'text': 'Gostava que houvesse um bbplay que  mostrasse a falsidade da Catarina #bbtvi', 'likes_count': 4, 'retweet_count': 0, 'created_at': datetime.datetime(2022, 5, 15, 21, 0, 54, tzinfo=datetime.timezone.utc)}\n",
      "{'text': 'RT @j_apolinario20: mood atual https://t.co/ufON0qQmBL', 'likes_count': 0, 'retweet_count': 3063, 'created_at': datetime.datetime(2022, 5, 11, 18, 7, 31, tzinfo=datetime.timezone.utc)}\n",
      "{'text': 'Não suporto a Catarina #bbtvi', 'likes_count': 1, 'retweet_count': 0, 'created_at': datetime.datetime(2022, 5, 10, 21, 56, 4, tzinfo=datetime.timezone.utc)}\n",
      "{'text': 'O Nuno a dormir tem mais dinâmica que o quinaz acordado #bbtvi', 'likes_count': 41, 'retweet_count': 1, 'created_at': datetime.datetime(2022, 5, 10, 21, 43, 25, tzinfo=datetime.timezone.utc)}\n",
      "{'text': 'Estou a adorar o baile que o Nuno lhes está a dar #bbtvi', 'likes_count': 27, 'retweet_count': 1, 'created_at': datetime.datetime(2022, 5, 10, 21, 40, 34, tzinfo=datetime.timezone.utc)}\n",
      "{'text': 'Esta gala está a ser demasiado boa #bbtvi', 'likes_count': 3, 'retweet_count': 0, 'created_at': datetime.datetime(2022, 5, 8, 23, 14, 33, tzinfo=datetime.timezone.utc)}\n",
      "{'text': 'Mt feliz por a jaciara ir de vela #bbtvi', 'likes_count': 2, 'retweet_count': 0, 'created_at': datetime.datetime(2022, 5, 8, 23, 1, 27, tzinfo=datetime.timezone.utc)}\n",
      "{'text': 'O Cláudio é bué engraçado #bbtvi', 'likes_count': 1, 'retweet_count': 0, 'created_at': datetime.datetime(2022, 5, 8, 21, 24, 40, tzinfo=datetime.timezone.utc)}\n",
      "{'text': 'Atuação da Barbosa digna de um óscar #bbtvi', 'likes_count': 1, 'retweet_count': 0, 'created_at': datetime.datetime(2022, 5, 8, 21, 19, 50, tzinfo=datetime.timezone.utc)}\n",
      "{'text': 'RT @ouindireta: amo a nova versão de mim  nada me afeta  poucas pessoas me importam', 'likes_count': 0, 'retweet_count': 5681, 'created_at': datetime.datetime(2022, 5, 8, 18, 36, 24, tzinfo=datetime.timezone.utc)}\n",
      "{'text': 'RT @LeoCDamascena: Linux é muito mais que um sistema operacional, é uma ciência.\\nTodo dia vc aprende um comando novo ou uma derivação de um…', 'likes_count': 0, 'retweet_count': 22, 'created_at': datetime.datetime(2022, 5, 6, 21, 20, 29, tzinfo=datetime.timezone.utc)}\n",
      "{'text': 'jaciara a fazer se de vitima para não variar\\n #bbtvi', 'likes_count': 0, 'retweet_count': 0, 'created_at': datetime.datetime(2022, 5, 3, 19, 21, 37, tzinfo=datetime.timezone.utc)}\n",
      "{'text': 'RT @MillsReggie: some friends are really on that family level.', 'likes_count': 0, 'retweet_count': 18888, 'created_at': datetime.datetime(2022, 4, 28, 8, 26, 46, tzinfo=datetime.timezone.utc)}\n",
      "{'text': 'Este bom  tempo sabe mesmo bem', 'likes_count': 0, 'retweet_count': 0, 'created_at': datetime.datetime(2022, 4, 17, 21, 27, 24, tzinfo=datetime.timezone.utc)}\n",
      "{'text': 'RT @allpowerfulweeb: nada mais embaraçoso do que levar um portátil gaming para a biblioteca mano tu estás aí a ler o pdf mais simples do mu…', 'likes_count': 0, 'retweet_count': 250, 'created_at': datetime.datetime(2022, 4, 14, 18, 3, 45, tzinfo=datetime.timezone.utc)}\n",
      "{'text': 'RT @deeptxtmsgs: i can be the most understanding person but remember i’m not blind.', 'likes_count': 0, 'retweet_count': 5683, 'created_at': datetime.datetime(2022, 4, 14, 18, 3, 32, tzinfo=datetime.timezone.utc)}\n",
      "{'text': '3 dias sem blackboard para ela ficar ainda pior', 'likes_count': 0, 'retweet_count': 0, 'created_at': datetime.datetime(2022, 4, 14, 16, 47, 27, tzinfo=datetime.timezone.utc)}\n",
      "{'text': 'RT @sooyoulexx: seeing your friends do well is a top tier feeling!', 'likes_count': 0, 'retweet_count': 16287, 'created_at': datetime.datetime(2022, 4, 14, 15, 34, 35, tzinfo=datetime.timezone.utc)}\n"
     ]
    }
   ],
   "source": [
    "users = ['filipaa_r99']\n",
    "N =  20\n",
    "main(users)"
   ]
  },
  {
   "cell_type": "code",
   "execution_count": 47,
   "metadata": {},
   "outputs": [
    {
     "name": "stdout",
     "output_type": "stream",
     "text": [
      "Fds a Catarina n pode ser líder #bbtvi\n",
      "Acho bué piada ao Nuno #bbtvi\n",
      "Gostava que houvesse um bbplay que  mostrasse a falsidade da Catarina #bbtvi\n",
      "RT @j_apolinario20: mood atual https://t.co/ufON0qQmBL\n",
      "Não suporto a Catarina #bbtvi\n",
      "O Nuno a dormir tem mais dinâmica que o quinaz acordado #bbtvi\n",
      "Estou a adorar o baile que o Nuno lhes está a dar #bbtvi\n",
      "Esta gala está a ser demasiado boa #bbtvi\n",
      "Mt feliz por a jaciara ir de vela #bbtvi\n",
      "O Cláudio é bué engraçado #bbtvi\n"
     ]
    }
   ],
   "source": [
    "for tweet in new_tweets:\n",
    "    text = tweet._json[\"full_text\"]\n",
    "    print(text)"
   ]
  },
  {
   "cell_type": "code",
   "execution_count": 51,
   "metadata": {},
   "outputs": [
    {
     "name": "stdout",
     "output_type": "stream",
     "text": [
      "[]\n"
     ]
    }
   ],
   "source": [
    "\n",
    "import pandas as pd\n",
    "df = pd.DataFrame(list)\n",
    "df.to_csv('refined_tweets.csv')"
   ]
  }
 ],
 "metadata": {
  "interpreter": {
   "hash": "e73066c94f8e0a03dc010f90f9bfe8189274fe2970ef1c1470299afeb680a60a"
  },
  "kernelspec": {
   "display_name": "Python 3.9.12 ('py3')",
   "language": "python",
   "name": "python3"
  },
  "language_info": {
   "codemirror_mode": {
    "name": "ipython",
    "version": 3
   },
   "file_extension": ".py",
   "mimetype": "text/x-python",
   "name": "python",
   "nbconvert_exporter": "python",
   "pygments_lexer": "ipython3",
   "version": "3.9.12"
  },
  "orig_nbformat": 4
 },
 "nbformat": 4,
 "nbformat_minor": 2
}
