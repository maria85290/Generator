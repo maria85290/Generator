{
 "cells": [
  {
   "cell_type": "markdown",
   "metadata": {},
   "source": [
    "# Tweets extractor\n",
    "\n",
    "Ferramenta para extrair tweets de um dado utilizador (usando o nome de utilizador) utilizando a API oficial do twitter.\n",
    "\n",
    "\n",
    "É necessario:\n",
    "1) Chaves de autenticaçao para API.\n",
    "2) Utilizar biblioteca tweepy.\n",
    "3) Fazer os pedidos necessario a API.\n",
    "\n",
    "\n",
    "Para utilizar o Tweepy existem 4 passos a executar:  \n",
    "1) Importar o package;\n",
    "2) Definir as credenciais de autenticaçao;\n",
    "3) Instanciar a API;\n",
    "4) Crear o objeto API; \n"
   ]
  },
  {
   "cell_type": "code",
   "execution_count": 149,
   "metadata": {},
   "outputs": [
    {
     "data": {
      "text/plain": [
       "True"
      ]
     },
     "execution_count": 149,
     "metadata": {},
     "output_type": "execute_result"
    }
   ],
   "source": [
    "import os\n",
    "import re  ## To use regular expressions\n",
    "import tweepy\n",
    "import json\n",
    "import pandas as pd\n",
    "from dotenv import load_dotenv\n",
    "\n",
    "load_dotenv()"
   ]
  },
  {
   "cell_type": "code",
   "execution_count": 100,
   "metadata": {},
   "outputs": [],
   "source": [
    "# authenticating twitter api credentials\n",
    "consumer_key = os.getenv('consumer_key')\n",
    "consumer_secret = os.getenv('consumer_secret')\n",
    "access_token = os.getenv('access_token')\n",
    "access_token_secret = os.getenv('access_token_secret')\n"
   ]
  },
  {
   "cell_type": "code",
   "execution_count": 101,
   "metadata": {},
   "outputs": [],
   "source": [
    "\n",
    "# instantiating the api\n",
    "auth = tweepy.OAuthHandler(consumer_key, consumer_secret)\n",
    "auth.set_access_token(access_token, access_token_secret)\n",
    "\n",
    "# creating API object\n",
    "api = tweepy.API(auth)"
   ]
  },
  {
   "cell_type": "code",
   "execution_count": 172,
   "metadata": {},
   "outputs": [
    {
     "data": {
      "text/plain": [
       "User(_api=<tweepy.api.API object at 0x7fce21a33850>, _json={'id': 1377158664, 'id_str': '1377158664', 'name': 'Filipa', 'screen_name': 'filipaa_r99', 'location': 'Braga, Portugal', 'profile_location': None, 'description': '22y \\n🎓UM-LEI 💾 \\nig:filipa_cr99', 'url': None, 'entities': {'description': {'urls': []}}, 'protected': False, 'followers_count': 256, 'friends_count': 91, 'listed_count': 2, 'created_at': 'Wed Apr 24 14:25:36 +0000 2013', 'favourites_count': 18322, 'utc_offset': None, 'time_zone': None, 'geo_enabled': False, 'verified': False, 'statuses_count': 26820, 'lang': None, 'status': {'created_at': 'Wed May 18 14:27:54 +0000 2022', 'id': 1526932595530948609, 'id_str': '1526932595530948609', 'text': 'A Catarina até em personagem fala mal do Nuno #bbtvi', 'truncated': False, 'entities': {'hashtags': [{'text': 'bbtvi', 'indices': [46, 52]}], 'symbols': [], 'user_mentions': [], 'urls': []}, 'source': '<a href=\"http://twitter.com/download/android\" rel=\"nofollow\">Twitter for Android</a>', 'in_reply_to_status_id': None, 'in_reply_to_status_id_str': None, 'in_reply_to_user_id': None, 'in_reply_to_user_id_str': None, 'in_reply_to_screen_name': None, 'geo': None, 'coordinates': None, 'place': None, 'contributors': None, 'is_quote_status': False, 'retweet_count': 0, 'favorite_count': 5, 'favorited': False, 'retweeted': False, 'lang': 'pt'}, 'contributors_enabled': False, 'is_translator': False, 'is_translation_enabled': False, 'profile_background_color': 'C0DEED', 'profile_background_image_url': 'http://abs.twimg.com/images/themes/theme1/bg.png', 'profile_background_image_url_https': 'https://abs.twimg.com/images/themes/theme1/bg.png', 'profile_background_tile': False, 'profile_image_url': 'http://pbs.twimg.com/profile_images/1525798399253028865/H5qS_nIA_normal.jpg', 'profile_image_url_https': 'https://pbs.twimg.com/profile_images/1525798399253028865/H5qS_nIA_normal.jpg', 'profile_banner_url': 'https://pbs.twimg.com/profile_banners/1377158664/1631454044', 'profile_link_color': '000CB3', 'profile_sidebar_border_color': 'C0DEED', 'profile_sidebar_fill_color': 'DDEEF6', 'profile_text_color': '333333', 'profile_use_background_image': True, 'has_extended_profile': True, 'default_profile': False, 'default_profile_image': False, 'following': False, 'follow_request_sent': False, 'notifications': False, 'translator_type': 'none', 'withheld_in_countries': []}, id=1377158664, id_str='1377158664', name='Filipa', screen_name='filipaa_r99', location='Braga, Portugal', profile_location=None, description='22y \\n🎓UM-LEI 💾 \\nig:filipa_cr99', url=None, entities={'description': {'urls': []}}, protected=False, followers_count=256, friends_count=91, listed_count=2, created_at=datetime.datetime(2013, 4, 24, 14, 25, 36, tzinfo=datetime.timezone.utc), favourites_count=18322, utc_offset=None, time_zone=None, geo_enabled=False, verified=False, statuses_count=26820, lang=None, status=Status(_api=<tweepy.api.API object at 0x7fce21a33850>, _json={'created_at': 'Wed May 18 14:27:54 +0000 2022', 'id': 1526932595530948609, 'id_str': '1526932595530948609', 'text': 'A Catarina até em personagem fala mal do Nuno #bbtvi', 'truncated': False, 'entities': {'hashtags': [{'text': 'bbtvi', 'indices': [46, 52]}], 'symbols': [], 'user_mentions': [], 'urls': []}, 'source': '<a href=\"http://twitter.com/download/android\" rel=\"nofollow\">Twitter for Android</a>', 'in_reply_to_status_id': None, 'in_reply_to_status_id_str': None, 'in_reply_to_user_id': None, 'in_reply_to_user_id_str': None, 'in_reply_to_screen_name': None, 'geo': None, 'coordinates': None, 'place': None, 'contributors': None, 'is_quote_status': False, 'retweet_count': 0, 'favorite_count': 5, 'favorited': False, 'retweeted': False, 'lang': 'pt'}, created_at=datetime.datetime(2022, 5, 18, 14, 27, 54, tzinfo=datetime.timezone.utc), id=1526932595530948609, id_str='1526932595530948609', text='A Catarina até em personagem fala mal do Nuno #bbtvi', truncated=False, entities={'hashtags': [{'text': 'bbtvi', 'indices': [46, 52]}], 'symbols': [], 'user_mentions': [], 'urls': []}, source='Twitter for Android', source_url='http://twitter.com/download/android', in_reply_to_status_id=None, in_reply_to_status_id_str=None, in_reply_to_user_id=None, in_reply_to_user_id_str=None, in_reply_to_screen_name=None, geo=None, coordinates=None, place=None, contributors=None, is_quote_status=False, retweet_count=0, favorite_count=5, favorited=False, retweeted=False, lang='pt'), contributors_enabled=False, is_translator=False, is_translation_enabled=False, profile_background_color='C0DEED', profile_background_image_url='http://abs.twimg.com/images/themes/theme1/bg.png', profile_background_image_url_https='https://abs.twimg.com/images/themes/theme1/bg.png', profile_background_tile=False, profile_image_url='http://pbs.twimg.com/profile_images/1525798399253028865/H5qS_nIA_normal.jpg', profile_image_url_https='https://pbs.twimg.com/profile_images/1525798399253028865/H5qS_nIA_normal.jpg', profile_banner_url='https://pbs.twimg.com/profile_banners/1377158664/1631454044', profile_link_color='000CB3', profile_sidebar_border_color='C0DEED', profile_sidebar_fill_color='DDEEF6', profile_text_color='333333', profile_use_background_image=True, has_extended_profile=True, default_profile=False, default_profile_image=False, following=False, follow_request_sent=False, notifications=False, translator_type='none', withheld_in_countries=[])"
      ]
     },
     "execution_count": 172,
     "metadata": {},
     "output_type": "execute_result"
    }
   ],
   "source": [
    "user = api.get_user(screen_name='filipaa_r99')\n",
    "'''\n",
    "status_count - The number of Tweets (including retweets) issued by the user\n",
    "favourites_count - number of posts liked by the user\n",
    "'''\n",
    "\n",
    "\n",
    "\n",
    "user"
   ]
  },
  {
   "cell_type": "code",
   "execution_count": 160,
   "metadata": {},
   "outputs": [],
   "source": [
    "def extract_last_n_tweets(username, n = 10):\n",
    "    '''\n",
    "    n, numero de tweets a extrair\n",
    "    user, utilizador que se pretende procurar\n",
    "    '''\n",
    "    try:\n",
    "        new_tweets = tweepy.Cursor(api.user_timeline, screen_name=username, tweet_mode='extended').items(n)\n",
    "        print(new_tweets)\n",
    "\n",
    "        return True, new_tweets\n",
    "    except:\n",
    "        m = \"extract_last_n_tweets] erro duranre a extraçao de tweets de um utilizador \" + username\n",
    "    return False, m\n",
    "\n"
   ]
  },
  {
   "cell_type": "code",
   "execution_count": 164,
   "metadata": {},
   "outputs": [],
   "source": [
    "def extract_user_info(username):\n",
    "    try:\n",
    "            user = api.get_user(screen_name=username)\n",
    "            '''\n",
    "            status_count - The number of Tweets (including retweets) issued by the user\n",
    "            favourites_count - number of posts liked by the user\n",
    "            '''\n",
    "            \"\"\" Extrair numeros da descriçao.\n",
    "            É muito frequente na descriçao os utilziadores colocarem a seua idade\"\"\"\n",
    "            nums = re.findall(r'\\d+', user.description.replace('\\n', ' ')) \n",
    "            n = 0\n",
    "            for num in nums:\n",
    "                if int(num )> 16 and int(num )< 80:\n",
    "                    n = int(num)\n",
    "\n",
    "            followers_count =user.followers_count\n",
    "            friends_count = user.friends_count\n",
    "            statuses_count =  user.statuses_count\n",
    "            favourites_count =  user.favourites_count\n",
    "            description =  user.description.replace('\\n', ' ')\n",
    "            protected = user.protected\n",
    "            age = n\n",
    "            \n",
    "            if protected == True:\n",
    "                return False, 'Esta conta é protegida'\n",
    "\n",
    "\n",
    "            '''\n",
    "            Crir o objeto obj para retornar\n",
    "            '''\n",
    "            obj = {\n",
    "            'username': username,\n",
    "            'followers_count': followers_count,\n",
    "            'statuses_count': statuses_count,\n",
    "            'friends_count' : friends_count,\n",
    "            'favourites_count' : favourites_count, \n",
    "            'description': description,\n",
    "            'age':age,\n",
    "            }\n",
    "\n",
    "           \n",
    "\n",
    "            return True, obj\n",
    "\n",
    "    except:\n",
    "        m = \"[extract_user_info] erro duranre a extraçao da info de um utilizador \" + username\n",
    " \n",
    "    return False, m"
   ]
  },
  {
   "cell_type": "code",
   "execution_count": 208,
   "metadata": {},
   "outputs": [],
   "source": [
    "def avg (list):\n",
    "    return (sum(list)//len(list))"
   ]
  },
  {
   "cell_type": "code",
   "execution_count": 220,
   "metadata": {},
   "outputs": [],
   "source": [
    "\n",
    "\n",
    "def range_date (date):\n",
    "  list_minutes = []\n",
    "  initial = date[0]\n",
    "  for next_date in date[1:]:\n",
    "    range = initial - next_date \n",
    "    minutes = range.total_seconds() // 60\n",
    "    list_minutes.append(minutes)\n",
    "    initial = next_date\n",
    "  return avg(list_minutes)\n",
    "\n"
   ]
  },
  {
   "cell_type": "code",
   "execution_count": 217,
   "metadata": {},
   "outputs": [],
   "source": [
    "if not os.path.exists('TweetsByUser'):\n",
    "    os.makedirs('TweetsByUser')\n",
    "\n",
    "\n",
    "def main (users):\n",
    "    for username in users:\n",
    "        \n",
    "        '''\n",
    "        1) Extrair informaçao do utilizador\n",
    "        '''\n",
    "        value, userdata = extract_user_info (username)\n",
    "        \n",
    "        if value == False:\n",
    "            print(userdata)\n",
    "            continue\n",
    "\n",
    "                \n",
    "        '''\n",
    "        Extrair os ultimos 25% (1/4) dos ultimos tweets publicados \n",
    "        '''\n",
    "       # print(userdata['statuses_count']*5 // 100)\n",
    "        value, userTweets = extract_last_n_tweets (username, userdata['statuses_count']*5 // 100)\n",
    "        print(value)\n",
    "\n",
    "        if value == False:\n",
    "            continue\n",
    "\n",
    "        list_tweets = []\n",
    "        list_dates = []\n",
    "\n",
    "        for tweet in userTweets:\n",
    "\n",
    "            text = tweet._json[\"full_text\"]\n",
    "           \n",
    "\n",
    "            '''\n",
    "            Garantir que apenas ficam os posts originais, de movo a evitar desvios\n",
    "            '''\n",
    "            \n",
    "            if 'RT ' not in text:\n",
    "                refined_tweet = {'text' : text,\n",
    "                    'likes_count' : tweet.favorite_count,\n",
    "                    'retweet_count' : tweet.retweet_count,\n",
    "                    'created_at' : tweet.created_at.strftime(\"%m/%d/%Y, %H:%M:%S\")}\n",
    "                list_dates.append (tweet.created_at)\n",
    "                list_tweets.append(refined_tweet)\n",
    "\n",
    "        '''\n",
    "        Calcular diferença entre os intervalos em minutos;\n",
    "        '''\n",
    "        \n",
    "        #avg=pd.to_datetime(pd.Series(list_dates)).mean()\n",
    "        \n",
    "        avg= range_date(list_dates)\n",
    "        userdata['periodicity'] = avg\n",
    "\n",
    "\n",
    "        \n",
    "        userdata['tweets'] = list_tweets\n",
    "        \n",
    "        #print(userdata)\n",
    "        \n",
    "        with open(\"TweetsByUser/\" + username +  \".json\", \"w\", encoding = 'utf8') as jsonFile:\n",
    "            json.dump(userdata, jsonFile, indent = 4, ensure_ascii=False)\n",
    "\n",
    "        \n",
    "       # df.to_csv('TweetsByUser/'+ username +'.csv')\n",
    "\n",
    "        \n"
   ]
  },
  {
   "cell_type": "code",
   "execution_count": 221,
   "metadata": {},
   "outputs": [
    {
     "name": "stdout",
     "output_type": "stream",
     "text": [
      "<tweepy.cursor.ItemIterator object at 0x7fce100cc8b0>\n",
      "True\n",
      "56520.0\n"
     ]
    }
   ],
   "source": [
    "users = ['carlamgoncalve5']\n",
    "N =  20\n",
    "main(users)"
   ]
  }
 ],
 "metadata": {
  "interpreter": {
   "hash": "e73066c94f8e0a03dc010f90f9bfe8189274fe2970ef1c1470299afeb680a60a"
  },
  "kernelspec": {
   "display_name": "Python 3.9.12 ('py3')",
   "language": "python",
   "name": "python3"
  },
  "language_info": {
   "codemirror_mode": {
    "name": "ipython",
    "version": 3
   },
   "file_extension": ".py",
   "mimetype": "text/x-python",
   "name": "python",
   "nbconvert_exporter": "python",
   "pygments_lexer": "ipython3",
   "version": "3.9.12"
  },
  "orig_nbformat": 4
 },
 "nbformat": 4,
 "nbformat_minor": 2
}
