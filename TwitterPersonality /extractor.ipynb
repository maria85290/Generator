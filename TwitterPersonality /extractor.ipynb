{
 "cells": [
  {
   "cell_type": "markdown",
   "metadata": {},
   "source": [
    "# Tweets extractor\n",
    "\n",
    "Ferramenta para extrair tweets de um dado utilizador (usando o nome de utilizador) utilizando a API oficial do twitter.\n",
    "\n",
    "\n",
    "É necessario:\n",
    "1) Chaves de autenticaçao para API.\n",
    "2) Utilizar biblioteca tweepy.\n",
    "3) Fazer os pedidos necessario a API.\n",
    "\n",
    "\n",
    "Para utilizar o Tweepy existem 4 passos a executar:  \n",
    "1) Importar o package;\n",
    "2) Definir as credenciais de autenticaçao;\n",
    "3) Instanciar a API;\n",
    "4) Crear o objeto API; \n"
   ]
  },
  {
   "cell_type": "code",
   "execution_count": 1,
   "metadata": {},
   "outputs": [
    {
     "data": {
      "text/plain": [
       "True"
      ]
     },
     "execution_count": 1,
     "metadata": {},
     "output_type": "execute_result"
    }
   ],
   "source": [
    "import os\n",
    "import openai\n",
    "import requests\n",
    "import re  ## To use regular expressions\n",
    "import tweepy\n",
    "import json\n",
    "import pandas as pd\n",
    "from dotenv import load_dotenv\n",
    "import matplotlib.cm as cm\n",
    "import matplotlib.pyplot as plt\n",
    "from matplotlib import rcParams\n",
    "import nltk \n",
    "import collections\n",
    "from nltk.probability import FreqDist\n",
    "from wordcloud import WordCloud, STOPWORDS\n",
    "\n",
    "load_dotenv()"
   ]
  },
  {
   "cell_type": "code",
   "execution_count": 2,
   "metadata": {},
   "outputs": [],
   "source": [
    "# authenticating twitter api credentials\n",
    "consumer_key = os.getenv('consumer_key')\n",
    "consumer_secret = os.getenv('consumer_secret')\n",
    "access_token = os.getenv('access_token')\n",
    "access_token_secret = os.getenv('access_token_secret')\n",
    "OPENAI_api_key = os.getenv(\"openAI\")\n",
    "Humantic_AI = os.getenv(\"humanticAI\")\n",
    "\n"
   ]
  },
  {
   "cell_type": "code",
   "execution_count": 29,
   "metadata": {},
   "outputs": [],
   "source": [
    "def sentimentAnalysis_openAI (text):\n",
    "    \n",
    "    openai.api_key = OPENAI_api_key\n",
    "\n",
    "    response = openai.Completion.create(\n",
    "    engine=\"text-curie-001\",\n",
    "    prompt=text,\n",
    "    temperature=0,\n",
    "    max_tokens=60,\n",
    "    top_p=1,\n",
    "    frequency_penalty=0.5,\n",
    "    presence_penalty=0\n",
    "    )\n",
    "    output = response.choices[0].text\n",
    "\n",
    "    return output"
   ]
  },
  {
   "cell_type": "code",
   "execution_count": 3,
   "metadata": {},
   "outputs": [],
   "source": [
    "\n",
    "# instantiating the api\n",
    "auth = tweepy.OAuthHandler(consumer_key, consumer_secret)\n",
    "auth.set_access_token(access_token, access_token_secret)\n",
    "\n",
    "# creating API object\n",
    "api = tweepy.API(auth)"
   ]
  },
  {
   "cell_type": "code",
   "execution_count": 4,
   "metadata": {},
   "outputs": [
    {
     "data": {
      "text/plain": [
       "'\\nstatus_count - The number of Tweets (including retweets) issued by the user\\nfavourites_count - number of posts liked by the user\\n'"
      ]
     },
     "execution_count": 4,
     "metadata": {},
     "output_type": "execute_result"
    }
   ],
   "source": [
    "user = api.get_user(screen_name='filipaa_r99')\n",
    "'''\n",
    "status_count - The number of Tweets (including retweets) issued by the user\n",
    "favourites_count - number of posts liked by the user\n",
    "'''\n",
    "#user"
   ]
  },
  {
   "cell_type": "code",
   "execution_count": 6,
   "metadata": {},
   "outputs": [],
   "source": [
    "def extract_last_n_tweets(username, n = 10):\n",
    "    '''\n",
    "    n, numero de tweets a extrair\n",
    "    user, utilizador que se pretende procurar\n",
    "    '''\n",
    "    try:\n",
    "        new_tweets = tweepy.Cursor(api.user_timeline, screen_name=username, tweet_mode='extended').items(n)\n",
    "        print(new_tweets)\n",
    "\n",
    "        return True, new_tweets\n",
    "    except:\n",
    "        m = \"extract_last_n_tweets] erro duranre a extraçao de tweets de um utilizador \" + username\n",
    "    return False, m\n",
    "\n"
   ]
  },
  {
   "cell_type": "code",
   "execution_count": 7,
   "metadata": {},
   "outputs": [],
   "source": [
    "def extract_user_info(username):\n",
    "    try:\n",
    "            user = api.get_user(screen_name=username)\n",
    "            '''\n",
    "            status_count - The number of Tweets (including retweets) issued by the user\n",
    "            favourites_count - number of posts liked by the user\n",
    "            '''\n",
    "            \"\"\" Extrair numeros da descriçao.\n",
    "            É muito frequente na descriçao os utilziadores colocarem a seua idade\"\"\"\n",
    "            nums = re.findall(r'\\d+', user.description.replace('\\n', ' ')) \n",
    "            n = 0\n",
    "            for num in nums:\n",
    "                if int(num )> 16 and int(num )< 80:\n",
    "                    n = int(num)\n",
    "\n",
    "            followers_count =user.followers_count\n",
    "            friends_count = user.friends_count\n",
    "            statuses_count =  user.statuses_count\n",
    "            favourites_count =  user.favourites_count\n",
    "            description =  user.description.replace('\\n', ' ')\n",
    "            protected = user.protected\n",
    "            age = n\n",
    "            \n",
    "            if protected == True:\n",
    "                return False, 'Esta conta é protegida'\n",
    "\n",
    "\n",
    "            '''\n",
    "            Crir o objeto obj para retornar\n",
    "            '''\n",
    "            obj = {\n",
    "            'username': username,\n",
    "            'followers_count': followers_count,\n",
    "            'statuses_count': statuses_count,\n",
    "            'friends_count' : friends_count,\n",
    "            'favourites_count' : favourites_count, \n",
    "            'description': description,\n",
    "            'age':age,\n",
    "            }\n",
    "\n",
    "           \n",
    "\n",
    "            return True, obj\n",
    "\n",
    "    except:\n",
    "        m = \"[extract_user_info] erro duranre a extraçao da info de um utilizador \" + username\n",
    " \n",
    "    return False, m"
   ]
  },
  {
   "cell_type": "code",
   "execution_count": 8,
   "metadata": {},
   "outputs": [],
   "source": [
    "def avg (list):\n",
    "    return (sum(list)//len(list))"
   ]
  },
  {
   "cell_type": "code",
   "execution_count": 9,
   "metadata": {},
   "outputs": [],
   "source": [
    "'''\n",
    "Funçao responsavel por fazer o calculo a media de tempo entre cada post.\n",
    "O tempo retornado é em minutos;\n",
    "'''\n",
    "\n",
    "def range_date (date):\n",
    "  list_minutes = []\n",
    "  initial = date[0]\n",
    "  for next_date in date[1:]:\n",
    "    range = initial - next_date \n",
    "    minutes = range.total_seconds() // 60\n",
    "    list_minutes.append(minutes)\n",
    "    initial = next_date\n",
    "  return avg(list_minutes)\n",
    "\n"
   ]
  },
  {
   "cell_type": "code",
   "execution_count": 11,
   "metadata": {},
   "outputs": [],
   "source": [
    "'''\n",
    "Funçao reponsavel por realizar analise de sentimentos aos tweets;\n",
    "\n",
    "@author emotionsmater.com\n",
    "'''\n",
    "import requests\n",
    "\n",
    "def sentimentAnalysis(list_tweets,lang):\n",
    "    body = {\n",
    "\n",
    "        \"messages\": list_tweets,\n",
    "        \"language\": lang\n",
    "\n",
    "        }\n",
    "\n",
    "    request = requests.post(\"http://146.59.159.119:9777\", json = body)\n",
    "    return (request.text.encode().decode('unicode-escape') , request.status_code)\n"
   ]
  },
  {
   "cell_type": "code",
   "execution_count": 11,
   "metadata": {},
   "outputs": [
    {
     "data": {
      "text/plain": [
       "('{\"Quem sofrer de violencia doméstica por favor DENUNCIE! Ninguém merece passar por isto \\ud83e\\udd2c Cadeia com todos estes FDP!\":{\"emotions\":{\"anger\":0.2,\"anticipation\":0.2,\"disgust\":0.0,\"fear\":0.2,\"joy\":0.0,\"sadness\":0.2,\"surprise\":0.0,\"trust\":0.2},\"polarities\":{\"negative\":0.5,\"positive\":0.5}}}\\n',\n",
       " 200)"
      ]
     },
     "execution_count": 11,
     "metadata": {},
     "output_type": "execute_result"
    }
   ],
   "source": [
    "sentimentAnalysis(['Quem sofrer de violencia doméstica por favor DENUNCIE! Ninguém merece passar por isto 🤬 Cadeia com todos estes FDP!'],'pt')"
   ]
  },
  {
   "cell_type": "code",
   "execution_count": 12,
   "metadata": {},
   "outputs": [],
   "source": [
    "from textblob import TextBlob \n",
    "\n",
    "\n",
    "def get_tweet_sentiment(listTweets): \n",
    "    ''' \n",
    "    Determina o sentimento dos tweets\n",
    "    '''\n",
    "    \n",
    "    neg = 0\n",
    "    pos = 0\n",
    "    neutral = 0\n",
    "\n",
    "    for tweet in listTweets:\n",
    "        # create TextBlob object of passed tweet text\n",
    "        analysis = TextBlob(tweet) \n",
    "        # set sentiment \n",
    "        if analysis.sentiment.polarity > 0: \n",
    "            pos += 1\n",
    "        elif analysis.sentiment.polarity == 0: \n",
    "            neutral += 1\n",
    "        else: \n",
    "            neg += 1\n",
    "\n",
    "    total_tweets = neg + pos + neutral\n",
    "    print(\"\\n\\nRESULTS:\")\n",
    "    print(f\"{total_tweets} tweets were analyzed. {neg} were negative, {pos} were positive and {neutral} were neutral\")\n",
    "    print(f\"The negative percentage is: % { round( ((neg/total_tweets) * 100), 2) if neg > 0 else 0}\")\n",
    "    print(f\"The positive percentage is: % { round( ((pos/total_tweets) * 100), 2) if pos > 0 else 0}\")\n",
    "    print(f\"The neutral percentage is: % { round( ((neutral/total_tweets) * 100), 2) if neutral > 0 else 0}\")\n",
    "\n",
    "    return (total_tweets, neg, pos, neutral)\n"
   ]
  },
  {
   "cell_type": "code",
   "execution_count": 23,
   "metadata": {},
   "outputs": [],
   "source": [
    "def compile_stopwords_list_frequency(text, freq_percentage=0.02):\n",
    "    words = nltk.tokenize.word_tokenize(text)\n",
    "    freq_dist = FreqDist(word.lower() for word in words)\n",
    "    words_with_frequencies = [(word, freq_dist[word]) for word in freq_dist.keys()]\n",
    "    sorted_words = sorted(words_with_frequencies, key=lambda tup: tup[1])\n",
    "    length_cutoff = int(freq_percentage*len(sorted_words))\n",
    "    stopwords = [tuple[0] for tuple in sorted_words[-length_cutoff:]] \n",
    "    return stopwords"
   ]
  },
  {
   "cell_type": "code",
   "execution_count": 13,
   "metadata": {},
   "outputs": [],
   "source": [
    "def stopWords():\n",
    "    stopWords = ['https',\"0o\", \"0s\", \"3a\", \"3b\", \"3d\", \"6b\", \"6o\", \"a\", \"a1\", \"a2\", \"a3\", \"a4\", \"ab\", \"able\", \"about\", \"above\", \"abst\", \"ac\", \"accordance\", \"according\", \"accordingly\", \"across\", \"act\", \"actually\", \"ad\", \"added\", \"adj\", \"ae\", \"af\", \"affected\", \"affecting\", \"affects\", \"after\", \"afterwards\", \"ag\", \"again\", \"against\", \"ah\", \"ain\", \"ain't\", \"aj\", \"al\", \"all\", \"allow\", \"allows\", \"almost\", \"alone\", \"along\", \"already\", \"also\", \"although\", \"always\", \"am\", \"among\", \"amongst\", \"amoungst\", \"amount\", \"an\", \"and\", \"announce\", \"another\", \"any\", \"anybody\", \"anyhow\", \"anymore\", \"anyone\", \"anything\", \"anyway\", \"anyways\", \"anywhere\", \"ao\", \"ap\", \"apart\", \"apparently\", \"appear\", \"appreciate\", \"appropriate\", \"approximately\", \"ar\", \"are\", \"aren\", \"arent\", \"aren't\", \"arise\", \"around\", \"as\", \"a's\", \"aside\", \"ask\", \"asking\", \"associated\", \"at\", \"au\", \"auth\", \"av\", \"available\", \"aw\", \"away\", \"awfully\", \"ax\", \"ay\", \"az\", \"b\", \"b1\", \"b2\", \"b3\", \"ba\", \"back\", \"bc\", \"bd\", \"be\", \"became\", \"because\", \"become\", \"becomes\", \"becoming\", \"been\", \"before\", \"beforehand\", \"begin\", \"beginning\", \"beginnings\", \"begins\", \"behind\", \"being\", \"believe\", \"below\", \"beside\", \"besides\", \"best\", \"better\", \"between\", \"beyond\", \"bi\", \"bill\", \"biol\", \"bj\", \"bk\", \"bl\", \"bn\", \"both\", \"bottom\", \"bp\", \"br\", \"brief\", \"briefly\", \"bs\", \"bt\", \"bu\", \"but\", \"bx\", \"by\", \"c\", \"c1\", \"c2\", \"c3\", \"ca\", \"call\", \"came\", \"can\", \"cannot\", \"cant\", \"can't\", \"cause\", \"causes\", \"cc\", \"cd\", \"ce\", \"certain\", \"certainly\", \"cf\", \"cg\", \"ch\", \"changes\", \"ci\", \"cit\", \"cj\", \"cl\", \"clearly\", \"cm\", \"c'mon\", \"cn\", \"co\", \"com\", \"come\", \"comes\", \"con\", \"concerning\", \"consequently\", \"consider\", \"considering\", \"contain\", \"containing\", \"contains\", \"corresponding\", \"could\", \"couldn\", \"couldnt\", \"couldn't\", \"course\", \"cp\", \"cq\", \"cr\", \"cry\", \"cs\", \"c's\", \"ct\", \"cu\", \"currently\", \"cv\", \"cx\", \"cy\", \"cz\", \"d\", \"d2\", \"da\", \"date\", \"dc\", \"dd\", \"de\", \"definitely\", \"describe\", \"described\", \"despite\", \"detail\", \"df\", \"di\", \"did\", \"didn\", \"didn't\", \"different\", \"dj\", \"dk\", \"dl\", \"do\", \"does\", \"doesn\", \"doesn't\", \"doing\", \"don\", \"done\", \"don't\", \"down\", \"downwards\", \"dp\", \"dr\", \"ds\", \"dt\", \"du\", \"due\", \"during\", \"dx\", \"dy\", \"e\", \"e2\", \"e3\", \"ea\", \"each\", \"ec\", \"ed\", \"edu\", \"ee\", \"ef\", \"effect\", \"eg\", \"ei\", \"eight\", \"eighty\", \"either\", \"ej\", \"el\", \"eleven\", \"else\", \"elsewhere\", \"em\", \"empty\", \"en\", \"end\", \"ending\", \"enough\", \"entirely\", \"eo\", \"ep\", \"eq\", \"er\", \"es\", \"especially\", \"est\", \"et\", \"et-al\", \"etc\", \"eu\", \"ev\", \"even\", \"ever\", \"every\", \"everybody\", \"everyone\", \"everything\", \"everywhere\", \"ex\", \"exactly\", \"example\", \"except\", \"ey\", \"f\", \"f2\", \"fa\", \"far\", \"fc\", \"few\", \"ff\", \"fi\", \"fifteen\", \"fifth\", \"fify\", \"fill\", \"find\", \"fire\", \"first\", \"five\", \"fix\", \"fj\", \"fl\", \"fn\", \"fo\", \"followed\", \"following\", \"follows\", \"for\", \"former\", \"formerly\", \"forth\", \"forty\", \"found\", \"four\", \"fr\", \"from\", \"front\", \"fs\", \"ft\", \"fu\", \"full\", \"further\", \"furthermore\", \"fy\", \"g\", \"ga\", \"gave\", \"ge\", \"get\", \"gets\", \"getting\", \"gi\", \"give\", \"given\", \"gives\", \"giving\", \"gj\", \"gl\", \"go\", \"goes\", \"going\", \"gone\", \"got\", \"gotten\", \"gr\", \"greetings\", \"gs\", \"gy\", \"h\", \"h2\", \"h3\", \"had\", \"hadn\", \"hadn't\", \"happens\", \"hardly\", \"has\", \"hasn\", \"hasnt\", \"hasn't\", \"have\", \"haven\", \"haven't\", \"having\", \"he\", \"hed\", \"he'd\", \"he'll\", \"hello\", \"help\", \"hence\", \"her\", \"here\", \"hereafter\", \"hereby\", \"herein\", \"heres\", \"here's\", \"hereupon\", \"hers\", \"herself\", \"hes\", \"he's\", \"hh\", \"hi\", \"hid\", \"him\", \"himself\", \"his\", \"hither\", \"hj\", \"ho\", \"home\", \"hopefully\", \"how\", \"howbeit\", \"however\", \"how's\", \"hr\", \"hs\", \"http\", \"hu\", \"hundred\", \"hy\", \"i\", \"i2\", \"i3\", \"i4\", \"i6\", \"i7\", \"i8\", \"ia\", \"ib\", \"ibid\", \"ic\", \"id\", \"i'd\", \"ie\", \"if\", \"ig\", \"ignored\", \"ih\", \"ii\", \"ij\", \"il\", \"i'll\", \"im\", \"i'm\", \"immediate\", \"immediately\", \"importance\", \"important\", \"in\", \"inasmuch\", \"inc\", \"indeed\", \"index\", \"indicate\", \"indicated\", \"indicates\", \"information\", \"inner\", \"insofar\", \"instead\", \"interest\", \"into\", \"invention\", \"inward\", \"io\", \"ip\", \"iq\", \"ir\", \"is\", \"isn\", \"isn't\", \"it\", \"itd\", \"it'd\", \"it'll\", \"its\", \"it's\", \"itself\", \"iv\", \"i've\", \"ix\", \"iy\", \"iz\", \"j\", \"jj\", \"jr\", \"js\", \"jt\", \"ju\", \"just\", \"k\", \"ke\", \"keep\", \"keeps\", \"kept\", \"kg\", \"kj\", \"km\", \"know\", \"known\", \"knows\", \"ko\", \"l\", \"l2\", \"la\", \"largely\", \"last\", \"lately\", \"later\", \"latter\", \"latterly\", \"lb\", \"lc\", \"le\", \"least\", \"les\", \"less\", \"lest\", \"let\", \"lets\", \"let's\", \"lf\", \"like\", \"liked\", \"likely\", \"line\", \"little\", \"lj\", \"ll\", \"ll\", \"ln\", \"lo\", \"look\", \"looking\", \"looks\", \"los\", \"lr\", \"ls\", \"lt\", \"ltd\", \"m\", \"m2\", \"ma\", \"made\", \"mainly\", \"make\", \"makes\", \"many\", \"may\", \"maybe\", \"me\", \"mean\", \"means\", \"meantime\", \"meanwhile\", \"merely\", \"mg\", \"might\", \"mightn\", \"mightn't\", \"mill\", \"million\", \"mine\", \"miss\", \"ml\", \"mn\", \"mo\", \"more\", \"moreover\", \"most\", \"mostly\", \"move\", \"mr\", \"mrs\", \"ms\", \"mt\", \"mu\", \"much\", \"mug\", \"must\", \"mustn\", \"mustn't\", \"my\", \"myself\", \"n\", \"n2\", \"na\", \"name\", \"namely\", \"nay\", \"nc\", \"nd\", \"ne\", \"near\", \"nearly\", \"necessarily\", \"necessary\", \"need\", \"needn\", \"needn't\", \"needs\", \"neither\", \"never\", \"nevertheless\", \"new\", \"next\", \"ng\", \"ni\", \"nine\", \"ninety\", \"nj\", \"nl\", \"nn\", \"no\", \"nobody\", \"non\", \"none\", \"nonetheless\", \"noone\", \"nor\", \"normally\", \"nos\", \"not\", \"noted\", \"nothing\", \"novel\", \"now\", \"nowhere\", \"nr\", \"ns\", \"nt\", \"ny\", \"o\", \"oa\", \"ob\", \"obtain\", \"obtained\", \"obviously\", \"oc\", \"od\", \"of\", \"off\", \"often\", \"og\", \"oh\", \"oi\", \"oj\", \"ok\", \"okay\", \"ol\", \"old\", \"om\", \"omitted\", \"on\", \"once\", \"one\", \"ones\", \"only\", \"onto\", \"oo\", \"op\", \"oq\", \"or\", \"ord\", \"os\", \"ot\", \"other\", \"others\", \"otherwise\", \"ou\", \"ought\", \"our\", \"ours\", \"ourselves\", \"out\", \"outside\", \"over\", \"overall\", \"ow\", \"owing\", \"own\", \"ox\", \"oz\", \"p\", \"p1\", \"p2\", \"p3\", \"page\", \"pagecount\", \"pages\", \"par\", \"part\", \"particular\", \"particularly\", \"pas\", \"past\", \"pc\", \"pd\", \"pe\", \"per\", \"perhaps\", \"pf\", \"ph\", \"pi\", \"pj\", \"pk\", \"pl\", \"placed\", \"please\", \"plus\", \"pm\", \"pn\", \"po\", \"poorly\", \"possible\", \"possibly\", \"potentially\", \"pp\", \"pq\", \"pr\", \"predominantly\", \"present\", \"presumably\", \"previously\", \"primarily\", \"probably\", \"promptly\", \"proud\", \"provides\", \"ps\", \"pt\", \"pu\", \"put\", \"py\", \"q\", \"qj\", \"qu\", \"que\", \"quickly\", \"quite\", \"qv\", \"r\", \"r2\", \"ra\", \"ran\", \"rather\", \"rc\", \"rd\", \"re\", \"readily\", \"really\", \"reasonably\", \"recent\", \"recently\", \"ref\", \"refs\", \"regarding\", \"regardless\", \"regards\", \"related\", \"relatively\", \"research\", \"research-articl\", \"respectively\", \"resulted\", \"resulting\", \"results\", \"rf\", \"rh\", \"ri\", \"right\", \"rj\", \"rl\", \"rm\", \"rn\", \"ro\", \"rq\", \"rr\", \"rs\", \"rt\", \"ru\", \"run\", \"rv\", \"ry\", \"s\", \"s2\", \"sa\", \"said\", \"same\", \"saw\", \"say\", \"saying\", \"says\", \"sc\", \"sd\", \"se\", \"sec\", \"second\", \"secondly\", \"section\", \"see\", \"seeing\", \"seem\", \"seemed\", \"seeming\", \"seems\", \"seen\", \"self\", \"selves\", \"sensible\", \"sent\", \"serious\", \"seriously\", \"seven\", \"several\", \"sf\", \"shall\", \"shan\", \"shan't\", \"she\", \"shed\", \"she'd\", \"she'll\", \"shes\", \"she's\", \"should\", \"shouldn\", \"shouldn't\", \"should've\", \"show\", \"showed\", \"shown\", \"showns\", \"shows\", \"si\", \"side\", \"significant\", \"significantly\", \"similar\", \"similarly\", \"since\", \"sincere\", \"six\", \"sixty\", \"sj\", \"sl\", \"slightly\", \"sm\", \"sn\", \"so\", \"some\", \"somebody\", \"somehow\", \"someone\", \"somethan\", \"something\", \"sometime\", \"sometimes\", \"somewhat\", \"somewhere\", \"soon\", \"sorry\", \"sp\", \"specifically\", \"specified\", \"specify\", \"specifying\", \"sq\", \"sr\", \"ss\", \"st\", \"still\", \"stop\", \"strongly\", \"sub\", \"substantially\", \"successfully\", \"such\", \"sufficiently\", \"suggest\", \"sup\", \"sure\", \"sy\", \"system\", \"sz\", \"t\", \"t1\", \"t2\", \"t3\", \"take\", \"taken\", \"taking\", \"tb\", \"tc\", \"td\", \"te\", \"tell\", \"ten\", \"tends\", \"tf\", \"th\", \"than\", \"thank\", \"thanks\", \"thanx\", \"that\", \"that'll\", \"thats\", \"that's\", \"that've\", \"the\", \"their\", \"theirs\", \"them\", \"themselves\", \"then\", \"thence\", \"there\", \"thereafter\", \"thereby\", \"thered\", \"therefore\", \"therein\", \"there'll\", \"thereof\", \"therere\", \"theres\", \"there's\", \"thereto\", \"thereupon\", \"there've\", \"these\", \"they\", \"theyd\", \"they'd\", \"they'll\", \"theyre\", \"they're\", \"they've\", \"thickv\", \"thin\", \"think\", \"third\", \"this\", \"thorough\", \"thoroughly\", \"those\", \"thou\", \"though\", \"thoughh\", \"thousand\", \"three\", \"throug\", \"through\", \"throughout\", \"thru\", \"thus\", \"ti\", \"til\", \"tip\", \"tj\", \"tl\", \"tm\", \"tn\", \"to\", \"together\", \"too\", \"took\", \"top\", \"toward\", \"towards\", \"tp\", \"tq\", \"tr\", \"tried\", \"tries\", \"truly\", \"try\", \"trying\", \"ts\", \"t's\", \"tt\", \"tv\", \"twelve\", \"twenty\", \"twice\", \"two\", \"tx\", \"u\", \"u201d\", \"ue\", \"ui\", \"uj\", \"uk\", \"um\", \"un\", \"under\", \"unfortunately\", \"unless\", \"unlike\", \"unlikely\", \"until\", \"unto\", \"uo\", \"up\", \"upon\", \"ups\", \"ur\", \"us\", \"use\", \"used\", \"useful\", \"usefully\", \"usefulness\", \"uses\", \"using\", \"usually\", \"ut\", \"v\", \"va\", \"value\", \"various\", \"vd\", \"ve\", \"ve\", \"very\", \"via\", \"viz\", \"vj\", \"vo\", \"vol\", \"vols\", \"volumtype\", \"vq\", \"vs\", \"vt\", \"vu\", \"w\", \"wa\", \"want\", \"wants\", \"was\", \"wasn\", \"wasnt\", \"wasn't\", \"way\", \"we\", \"wed\", \"we'd\", \"welcome\", \"well\", \"we'll\", \"well-b\", \"went\", \"were\", \"we're\", \"weren\", \"werent\", \"weren't\", \"we've\", \"what\", \"whatever\", \"what'll\", \"whats\", \"what's\", \"when\", \"whence\", \"whenever\", \"when's\", \"where\", \"whereafter\", \"whereas\", \"whereby\", \"wherein\", \"wheres\", \"where's\", \"whereupon\", \"wherever\", \"whether\", \"which\", \"while\", \"whim\", \"whither\", \"who\", \"whod\", \"whoever\", \"whole\", \"who'll\", \"whom\", \"whomever\", \"whos\", \"who's\", \"whose\", \"why\", \"why's\", \"wi\", \"widely\", \"will\", \"willing\", \"wish\", \"with\", \"within\", \"without\", \"wo\", \"won\", \"wonder\", \"wont\", \"won't\", \"words\", \"world\", \"would\", \"wouldn\", \"wouldnt\", \"wouldn't\", \"www\", \"x\", \"x1\", \"x2\", \"x3\", \"xf\", \"xi\", \"xj\", \"xk\", \"xl\", \"xn\", \"xo\", \"xs\", \"xt\", \"xv\", \"xx\", \"y\", \"y2\", \"yes\", \"yet\", \"yj\", \"yl\", \"you\", \"youd\", \"you'd\", \"you'll\", \"your\", \"youre\", \"you're\", \"yours\", \"yourself\", \"yourselves\", \"you've\", \"yr\", \"ys\", \"yt\", \"z\", \"zero\", \"zi\", \"zz\"]\n",
    "    return stopWords"
   ]
  },
  {
   "cell_type": "code",
   "execution_count": 14,
   "metadata": {},
   "outputs": [],
   "source": [
    "from sklearn.feature_extraction.text import CountVectorizer\n",
    "def top_n_words(language, corpus,n = None,ngram = 1):\n",
    "\n",
    "    # Contar o número de todas as palavras  nas reviews\n",
    "    vec = CountVectorizer(stop_words = language,ngram_range=(ngram,ngram)).fit(corpus)\n",
    "    \n",
    "    bag_of_words = vec.transform(corpus) \n",
    "\n",
    "    sum_words = bag_of_words.sum(axis =0) \n",
    "    words_freq = [(word,sum_words[0,idx]) for word,idx in vec.vocabulary_.items()]\n",
    "    \n",
    "    words_freq = sorted(words_freq,key = lambda x:x[1],reverse = True)\n",
    "    \n",
    "    return words_freq[:n]\n",
    "\n",
    "\n"
   ]
  },
  {
   "cell_type": "code",
   "execution_count": 15,
   "metadata": {},
   "outputs": [],
   "source": [
    "if not os.path.exists('TweetsByUser'):\n",
    "    os.makedirs('TweetsByUser')\n",
    "\n",
    "\n",
    "def main (users):\n",
    "    for username in users:\n",
    "        \n",
    "        '''\n",
    "        1) Extrair informaçao do utilizador\n",
    "        '''\n",
    "        value, userdata = extract_user_info (username)\n",
    "        \n",
    "        if value == False:\n",
    "            print(userdata)\n",
    "            continue\n",
    "\n",
    "                \n",
    "        '''\n",
    "        Extrair os ultimos 25% (1/4) dos ultimos tweets publicados \n",
    "        '''\n",
    "       # print(userdata['statuses_count']*5 // 100)\n",
    "        value, userTweets = extract_last_n_tweets (username, userdata['statuses_count']*5 // 100)\n",
    "        print(value)\n",
    "\n",
    "        if value == False:\n",
    "            continue\n",
    "\n",
    "        list_tweets = []\n",
    "        list_tweet_text = []\n",
    "        list_dates = []\n",
    "\n",
    "\n",
    "        for tweet in userTweets:\n",
    "\n",
    "            text = tweet._json[\"full_text\"]\n",
    "           \n",
    "\n",
    "            '''\n",
    "            Garantir que apenas ficam os posts originais, de movo a evitar desvios\n",
    "            '''\n",
    "            \n",
    "            if 'RT ' not in text:\n",
    "                refined_tweet = {'text' : text,\n",
    "                    'likes_count' : tweet.favorite_count,\n",
    "                    'retweet_count' : tweet.retweet_count,\n",
    "                    'created_at' : tweet.created_at.strftime(\"%m/%d/%Y, %H:%M:%S\")}\n",
    "                list_dates.append (tweet.created_at)\n",
    "                list_tweet_text.append(text)\n",
    "                list_tweets.append(refined_tweet)\n",
    "\n",
    "            #df = pd.DataFrame(list_tweet_text,columns=['Text']) \n",
    "            #creates a pandas dataframe\n",
    "           # df.to_csv(username + '.csv', sep=',', index = False) \n",
    "            #creates a csv from data frame\n",
    "\n",
    "        all_headlines = ' '.join(list_tweet_text).lower()\n",
    "        wordcloud = WordCloud(stopwords=stopWords(), background_color=\"white\", max_words=1000).generate(all_headlines)\n",
    "        \n",
    "        stopwords=stopWords()\n",
    "\n",
    "        tweets = [tweet for tweet in all_headlines.split() if tweet not in stopwords if 'https' or '@' not in tweet ]\n",
    "        \n",
    "        print(top_n_words('english', tweets, 10, 1))\n",
    "                    \n",
    "        rcParams['figure.figsize'] = 10, 20\n",
    "        plt.imshow(wordcloud)\n",
    "        plt.axis(\"off\")\n",
    "        plt.show()\n",
    "        '''\n",
    "        Calcular diferença entre os intervalos em minutos;\n",
    "        '''\n",
    "        \n",
    "        #avg=pd.to_datetime(pd.Series(list_dates)).mean()\n",
    "        \n",
    "        avg= range_date(list_dates)\n",
    "        userdata['periodicity'] = avg\n",
    "        \n",
    "\n",
    "        '''\n",
    "        Invocar a funçao de analise de sentimentos, sobre a lista de tweets do user\n",
    "        O objetivo é perceber o conjunto de emoçoes presents\n",
    "        '''\n",
    "      #  print(list_tweet_text)\n",
    "        total_tweets, neg, pos, neutral = get_tweet_sentiment (list_tweet_text)\n",
    "\n",
    "      \n",
    "        userdata['neg_count'] = neg\n",
    "        userdata['pos_count'] = pos\n",
    "        userdata['neutral_count'] = neutral\n",
    "        userdata['tweets_count'] = total_tweets\n",
    "        userdata['tweets'] = list_tweets\n",
    "        \n",
    "        #print(userdata)\n",
    "        \n",
    "        with open(\"TweetsByUser/\" + username +  \".json\", \"w\", encoding = 'utf8') as jsonFile:\n",
    "            json.dump(userdata, jsonFile, indent = 4, ensure_ascii=False)\n",
    "\n",
    "        \n",
    "       # df.to_csv('TweetsByUser/'+ username +'.csv')\n",
    "\n",
    "        \n"
   ]
  },
  {
   "cell_type": "code",
   "execution_count": 20,
   "metadata": {},
   "outputs": [],
   "source": [
    "#users = ['filipaa_r99']\n",
    "#main(users)"
   ]
  },
  {
   "cell_type": "code",
   "execution_count": 59,
   "metadata": {},
   "outputs": [],
   "source": [
    "list_username = [\n",
    "    \"MichelleObama\", 'KendallJenner', 'KimKardashian', 'BarackObama', 'elonmusk'\n",
    "]"
   ]
  },
  {
   "cell_type": "code",
   "execution_count": 17,
   "metadata": {},
   "outputs": [],
   "source": [
    "def fetch_user(username):\n",
    "    BASE_URL = \"https://api.humantic.ai/v1/user-profile\"  # Base URL for the FETCH endpoint\n",
    "    headers = {\n",
    "        'Content-Type': 'application/json'\n",
    "    }\n",
    "\n",
    "    # Analysis ID: required; should be same as the id used to create the analysis\n",
    "    USER_ID = \"https://twitter.com/\" + username  # or, any unique identifier\n",
    "\n",
    "    # Persona: optional; possible values: \"sales\", \"hiring\"\n",
    "    PERSONA = \"sales\"\n",
    "\n",
    "    url = f\"{BASE_URL}?apikey={Humantic_AI}&id={USER_ID}&persona={PERSONA}\"\n",
    "\n",
    "    response = requests.request(\"GET\", url, headers=headers)\n",
    "\n",
    "    response_json =  json.loads(response.text)\n",
    "\n",
    "    print(response_json['results'])\n",
    "\n",
    "    '''\n",
    "    Retornar os dados da personalidade\n",
    "    '''\n",
    "    return (response_json['results']['personality_analysis']['summary']['ocean']['label'],response_json['results']['personality_analysis']['ocean_assessment'])\n"
   ]
  },
  {
   "cell_type": "code",
   "execution_count": 18,
   "metadata": {},
   "outputs": [],
   "source": [
    "\n",
    "def creat_user(username):\n",
    "    BASE_URL = \"https://api.humantic.ai/v1/user-profile/create\"  # Base URL for the CREATE endpoint\n",
    "    headers = {\n",
    "        'Content-Type': 'application/json'\n",
    "    }\n",
    "\n",
    "\n",
    "    # Analysis ID: required; User profile link from LinkedIn or, User Email ID\n",
    "    # or, for document or text, use any unique identifier. We suggest using a value that helps you identify the analysis easily.\n",
    "    USER_ID = \"https://twitter.com/\" + username \n",
    "\n",
    "    url = f\"{BASE_URL}?apikey={Humantic_AI}&id={USER_ID}\"\n",
    "\n",
    "    payload = {}\n",
    "\n",
    "    response = requests.request(\"GET\", url, headers=headers, data=payload)\n",
    "    if (response.status_code == 200):\n",
    "        return fetch_user (username)\n",
    "\n",
    "    return False"
   ]
  },
  {
   "cell_type": "code",
   "execution_count": 22,
   "metadata": {},
   "outputs": [
    {
     "name": "stdout",
     "output_type": "stream",
     "text": [
      "{'first_name': 'Dalila', 'last_name': 'Durães', 'display_name': 'DALILA DURÃES', 'user_profile_image': 'http://pbs.twimg.com/profile_images/1311269860467499009/Azn5afHd_normal.jpg', 'user_name': 'https://twitter.com/dduraes', 'user_id': '8c60053a942e46f837fb', 'user_description': 'Passionate about the Past seen from the Future.\\n@Portugal @Guimaraes @Braga', 'demographics': {'junk_user': None, 'gender': 'female', 'employment_status': [], 'marital_status': [], 'profession': [], 'user_type': 'person', 'location': {'country': 'portugal', 'type': 'country'}, 'parental_status': []}, 'languages': [{'code': 'eu', 'percent': 2, 'language': 'Basque'}, {'code': 'pt', 'percent': 16, 'language': 'Portuguese'}, {'code': 'qme', 'percent': 6, 'language': 'Undetermined'}, {'code': 'en', 'percent': 65, 'language': 'English'}, {'code': 'zxx', 'percent': 4, 'language': 'Undetermined'}, {'code': 'fr', 'percent': 2, 'language': 'French'}], 'social_profiles': {}, 'photos': {}, 'websites': {}, 'location': {}, 'timezone': {}, 'education': {}, 'work_history': [], 'related_entities': {}, 'tech_usage': {'apps': [], 'devices': []}, 'interests': [{'count': 9, 'overall_share': 36, 'share': 36, 'sub-interests': [{'count': 6, 'share': 66.66666666666667, 'sub-interest': 'Government Organizations', 'overall_share': 24, 'names': [{'count': 1, 'username': 'EUCouncil', 'display_name': 'EU Council', 'user_profile_image': 'https://pbs.twimg.com/profile_images/1199261111192866817/oYLrk8QU_normal.png'}, {'count': 1, 'username': 'NASA', 'display_name': 'NASA', 'user_profile_image': 'https://pbs.twimg.com/profile_images/1091070803184177153/TI2qItoi_normal.jpg'}, {'count': 1, 'username': 'UN', 'display_name': 'United Nations', 'user_profile_image': 'https://pbs.twimg.com/profile_images/950749155575541760/MZoiVs3G_normal.jpg'}, {'count': 1, 'username': 'EUCouncilPress', 'display_name': 'EU Council Press', 'user_profile_image': 'https://pbs.twimg.com/profile_images/714715259991420928/Ee8Ry2QU_normal.jpg'}, {'count': 1, 'username': 'turismoportugal', 'display_name': 'Turismo de Portugal', 'user_profile_image': 'https://pbs.twimg.com/profile_images/1165401726/logo_facebook_normal.jpg'}, {'count': 1, 'username': 'Europarl_EN', 'display_name': 'European Parliament', 'user_profile_image': 'https://pbs.twimg.com/profile_images/881804457964699649/7Dm9pbIE_normal.jpg'}]}, {'count': 3, 'share': 33.333333333333336, 'sub-interest': 'Politicians', 'overall_share': 12, 'names': [{'count': 1, 'username': 'EU_Commission', 'display_name': 'European Commission 🇪🇺', 'user_profile_image': 'https://pbs.twimg.com/profile_images/1229813717493260288/KdUypM6u_normal.jpg'}, {'count': 1, 'username': 'HillaryClinton', 'display_name': 'Hillary Clinton', 'user_profile_image': 'https://pbs.twimg.com/profile_images/1051914952192057344/xwZDe7zt_normal.jpg'}, {'count': 1, 'username': 'BarackObama', 'display_name': 'Barack Obama', 'user_profile_image': 'https://pbs.twimg.com/profile_images/822547732376207360/5g0FC8XX_normal.jpg'}]}], 'interest': 'Law, Government & Politics'}, {'count': 7, 'overall_share': 28, 'share': 28, 'sub-interests': [{'count': 5, 'share': 71.42857142857143, 'sub-interest': 'Print & Online News', 'overall_share': 20, 'names': [{'count': 1, 'username': 'Publico', 'display_name': 'Público', 'user_profile_image': 'https://pbs.twimg.com/profile_images/1234869018198249484/hUFdevPh_normal.jpg'}, {'count': 1, 'username': 'expresso', 'display_name': 'Expresso', 'user_profile_image': 'https://pbs.twimg.com/profile_images/697386787656880128/KgKCLM7d_normal.jpg'}, {'count': 1, 'username': 'RTPNoticias', 'display_name': 'RTPNotícias', 'user_profile_image': 'https://pbs.twimg.com/profile_images/776060252559138816/zeWcQXFg_normal.jpg'}, {'count': 1, 'username': 'JornalNoticias', 'display_name': 'Jornal de Notícias', 'user_profile_image': 'https://pbs.twimg.com/profile_images/1003685800108838912/nIKNWxL__normal.jpg'}, {'count': 1, 'username': 'Google', 'display_name': 'Google', 'user_profile_image': 'https://pbs.twimg.com/profile_images/1216813945408966663/vkVajfRz_normal.jpg'}]}, {'count': 2, 'share': 28.571428571428573, 'sub-interest': 'TV', 'overall_share': 8, 'names': [{'count': 1, 'username': 'SPORTTVPortugal', 'display_name': 'SPORT TV', 'user_profile_image': 'https://pbs.twimg.com/profile_images/1180123982227488769/WnJdo1fA_normal.jpg'}, {'count': 1, 'username': 'tvi24pt', 'display_name': 'tvi24', 'user_profile_image': 'https://pbs.twimg.com/profile_images/833772948636958721/ROUOKERQ_normal.jpg'}]}], 'interest': 'News & Media'}, {'count': 3, 'overall_share': 12, 'share': 12, 'sub-interests': [{'count': 1, 'share': 33.333333333333336, 'sub-interest': 'Tech Brands', 'overall_share': 4, 'names': [{'count': 1, 'username': 'Huawei', 'display_name': 'Huawei', 'user_profile_image': 'https://pbs.twimg.com/profile_images/1000990208643317760/6XIfnRVW_normal.jpg'}]}, {'count': 1, 'share': 33.333333333333336, 'sub-interest': 'Business Leaders', 'overall_share': 4, 'names': [{'count': 1, 'username': 'elonmusk', 'display_name': 'Elon Musk', 'user_profile_image': 'https://pbs.twimg.com/profile_images/1223183340171415552/XQcxk5Zb_normal.jpg'}]}, {'count': 1, 'share': 33.333333333333336, 'sub-interest': 'General Science', 'overall_share': 4, 'names': [{'count': 1, 'username': 'NASAhistory', 'display_name': 'NASA History Office', 'user_profile_image': 'https://pbs.twimg.com/profile_images/695361954018275330/RLTuGTD__normal.jpg'}]}], 'interest': 'Technology & Science'}, {'count': 1, 'overall_share': 4, 'share': 4, 'sub-interests': [{'count': 1, 'share': 100, 'sub-interest': 'Auto Brands', 'overall_share': 4, 'names': [{'count': 1, 'username': 'Tesla', 'display_name': 'Tesla', 'user_profile_image': 'https://pbs.twimg.com/profile_images/489192650474414080/4RxZxsud_normal.png'}]}], 'interest': 'Automotive'}, {'count': 1, 'overall_share': 4, 'share': 4, 'sub-interests': [{'count': 1, 'share': 100, 'sub-interest': 'Destinations', 'overall_share': 4, 'names': [{'count': 1, 'username': 'airandspace', 'display_name': 'National Air and Space Museum', 'user_profile_image': 'https://pbs.twimg.com/profile_images/1016670443560988672/bLMYqlx9_normal.jpg'}]}], 'interest': 'Lifestyle'}, {'count': 1, 'overall_share': 4, 'share': 4, 'sub-interests': [{'count': 1, 'share': 100, 'sub-interest': 'Sources', 'overall_share': 4, 'names': [{'count': 1, 'username': 'RealCoryMachado', 'display_name': 'Cory Machado', 'user_profile_image': 'https://pbs.twimg.com/profile_images/1216932738206318592/FFRAxExh_normal.jpg'}]}], 'interest': 'Content'}, {'count': 1, 'overall_share': 4, 'share': 4, 'sub-interests': [{'count': 1, 'share': 100, 'sub-interest': 'Education', 'overall_share': 4, 'names': [{'count': 1, 'username': 'UPorto', 'display_name': 'Universidade Porto', 'user_profile_image': 'https://pbs.twimg.com/profile_images/711938482625761280/TLbAdMvg_normal.jpg'}]}], 'interest': 'College, Education & Careers'}, {'count': 1, 'overall_share': 4, 'share': 4, 'sub-interests': [{'count': 1, 'share': 100, 'sub-interest': 'Noteworthy People', 'overall_share': 4, 'names': [{'count': 1, 'username': 'BillGates', 'display_name': 'Bill Gates', 'user_profile_image': 'https://pbs.twimg.com/profile_images/988775660163252226/XpgonN0X_normal.jpg'}]}], 'interest': 'Environment & Social Good'}, {'count': 1, 'overall_share': 4, 'share': 4, 'sub-interests': [{'count': 1, 'share': 100, 'sub-interest': 'Companies', 'overall_share': 4, 'names': [{'count': 1, 'username': 'Marvel', 'display_name': 'Marvel Entertainment', 'user_profile_image': 'https://pbs.twimg.com/profile_images/573984336271122432/k8vEBoCW_normal.jpeg'}]}], 'interest': 'Business'}], 'social_interactions': {}, 'social_activity': {'following': 113, 'followers': 25, 'total_tweets': 43, 'user_authority': 1.410245227473597, 'retweeted_count': 1, 'retweet_count': 12, 'favourite_count': 4, 'original_tweet_count': 31, 'tweets_processed': 32, 'retweet_with_links_count': 3, 'question_tweet_count': 3, 'opinion_tweet_count': 0, 'account_age_days': 3390, 'activity': {'time_of_day': [{'count': 10, 'time_label': '8:00AM - 12:00PM', 'time': 'Forenoon'}, {'count': 8, 'time_label': '4:00PM - 7:00PM', 'time': 'Evening'}, {'count': 11, 'time_label': '12:00PM - 4:00PM', 'time': 'Afternoon'}, {'count': 10, 'time_label': '7:00PM - 12:00AM', 'time': 'Night'}, {'count': 1, 'time_label': '5:00AM - 8:00AM', 'time': 'Early Morning'}, {'count': 1, 'time_label': '12:00AM - 5:00AM', 'time': 'Late Night'}], 'day_of_month': [{'date': '2022-05-30T00:00:00', 'count': 0}, {'date': '2022-05-31T00:00:00', 'count': 0}, {'date': '2022-06-01T00:00:00', 'count': 0}, {'date': '2022-06-02T00:00:00', 'count': 0}, {'date': '2022-06-03T00:00:00', 'count': 0}, {'date': '2022-06-04T00:00:00', 'count': 0}, {'date': '2022-06-05T00:00:00', 'count': 0}, {'date': '2022-06-06T00:00:00', 'count': 0}, {'date': '2022-06-07T00:00:00', 'count': 0}, {'date': '2022-06-08T00:00:00', 'count': 0}, {'date': '2022-06-09T00:00:00', 'count': 0}, {'date': '2022-06-10T00:00:00', 'count': 0}, {'date': '2022-06-11T00:00:00', 'count': 0}, {'date': '2022-06-12T00:00:00', 'count': 0}, {'date': '2022-06-13T00:00:00', 'count': 1}, {'date': '2022-06-14T00:00:00', 'count': 0}, {'date': '2022-06-15T00:00:00', 'count': 0}, {'date': '2022-06-16T00:00:00', 'count': 0}, {'date': '2022-06-17T00:00:00', 'count': 0}, {'date': '2022-06-18T00:00:00', 'count': 0}, {'date': '2022-06-19T00:00:00', 'count': 0}, {'date': '2022-06-20T00:00:00', 'count': 0}, {'date': '2022-06-21T00:00:00', 'count': 0}, {'date': '2022-06-22T00:00:00', 'count': 0}, {'date': '2022-06-23T00:00:00', 'count': 0}, {'date': '2022-06-24T00:00:00', 'count': 0}, {'date': '2022-06-25T00:00:00', 'count': 0}, {'date': '2022-06-26T00:00:00', 'count': 0}, {'date': '2022-06-27T00:00:00', 'count': 0}, {'date': '2022-06-28T00:00:00', 'count': 0}, {'date': '2022-06-29T00:00:00', 'count': 0}], 'month_of_year': {'2021': {'December': 0, 'November': 2, 'October': 2}, '2022': {'January': 2, 'June': 1}}}, 'relevant_tweet_count': 43, 'follower_growth': {}}, 'content_affinity': {}, 'persona': {'hiring': {'interests': [], 'email_personalization': {'definitions': {'Closing Line': 'The last full line of the mail', 'Emojis/GIFs': 'Any emojis/smileys/GIFs/images in your message', 'Tone Of Words': 'The kind of important phrases and words in your message', 'Greeting': 'The first line after the initial salutation', 'Bullet Points': 'Any bullet points in your message', 'Complimentary Close': 'The part where you share a goodbye greeting before writing your name', 'Length Of Mail': 'How long the email should be', 'Salutation': 'The very start of a message that addresses the person', 'Overall Messaging': 'The message that you want to convey to the reader', 'Subject': 'The subject of the email'}, 'advice': {'Closing Line': 'Build excitement, then informally state your ask', 'Emojis/GIFs': 'Recommended', 'Tone Of Words': 'Friendly, first-person', 'Greeting': 'Yes (Say something interesting/unusual)', 'Bullet Points': 'Avoid', 'Complimentary Close': 'Unique, pleasant', 'Length Of Mail': 'Long', 'Salutation': 'Yes (Something casual)', 'Overall Messaging': 'Focus on the person, throw in compliments, mention people/culture', 'Subject': 'Personalized, excitement-building'}, '_id': 'influence', 'examples': {'Closing Line': \"Something like 'So {user_name}, if this role excites you,  shall we speak tomorrow and get the ball rolling?'\", 'Emojis/GIFs': '', 'Tone Of Words': '', 'Greeting': \"Use unusual lines, like 'This has been quite a week', 'What a game yesterday' etc.\", 'Bullet Points': '', 'Complimentary Close': \"Something like 'Cheers!', 'To Bigger Goals!' etc.\", 'Length Of Mail': 'Maximum upto 400-500 words', 'Salutation': \"Use 'Hi', 'Hey' etc. (along with the first name)\", 'Overall Messaging': '', 'Subject': \"Something like '{user_name}, would this Developer role excite you?', 'Analyst opening with a people-first team!' etc.\"}}, 'communication_advice': {'_type': ['high influence'], 'description': ['They can see the bigger picture easily and are perceptive about non-obvious goals.', 'They are good with people and fit well into teams.', 'They tend to be passionate and demonstrate a lot of zeal and energy.'], 'personalized_email_subject': '<role_name> position with a great team!', 'adjectives': ['People-Oriented', 'Optimistic', 'Team Person'], 'personalized_email': \"Hi <candidate_name>, \\n\\nMy name is <your_name>, I am so glad to have this chance to write to you. \\n\\nI am working on this wonderful job opportunity that I would like to share with you. It's with <company_name> for the position of a <role_name> based out of <role_location>, would you like to learn more about it? <candidate_name>, <company_name> has a great vibe, people-oriented culture and excellent teammates. A great place if you ask me:) \\n\\nThe main requirements from this role are about <expectation_first>, <expectation_second>, <expectation_third>, which very well match your profile. \\n\\n<role_extra_info> \\n\\n<company_name> gets high regard from its employees and is known as a nice place to work. I can confirm that based on my personal experience too. \\n\\nHow do you feel about this opportunity, would you like to chat further? I can call you and give you full details. \\n\\nReally appreciate you taking the time <candidate_name>, thank you! \\n\\nLooking forward, \\n\\n<your_name> \", 'what_to_avoid': [\"Don't stay very formal or sound unenthused, especially if that's your natural demeanor.\", 'Remember not to get impatient, they have more stories to share than most.', \"Unlike the high C or S personality types, don't focus on giving information, try to tell a 'story' instead.\"], 'what_to_say': ['Summarize and repeat your core message at the end, they can drift off sometimes.', 'Speak enthusiastically, maintain a clear and confident tone.', 'Tell them about some of their future teammates and emphasize the opportunity to learn new skills.']}, 'behavioural_factors': {'stability_potential': {'score': 7.1, 'level': 'high'}, 'learning_ability': {'score': 3.3, 'level': 'low'}, 'teamwork_skills': {'score': 6.1, 'level': 'very good'}, 'need_for_autonomy': {'score': 5.4, 'level': 'medium'}, 'attitude_and_outlook': {'score': 7.3, 'level': 'positive'}, 'general_behavior': {'score': 6.8, 'level': 'usually friendly'}, 'action_orientedness': {'score': 5.2, 'level': 'medium'}}, 'conversation_starters': []}, 'sales': {'interests': [], 'email_personalization': {'definitions': {'Closing Line': 'The last full line of the mail', 'Emojis/GIFs': 'Any emojis/smileys/GIFs/images in your message', 'Tone Of Words': 'The kind of important phrases and words in your message', 'Greeting': 'The first line after the initial salutation', 'Bullet Points': 'Any bullet points in your message', 'Complimentary Close': 'The part where you share a goodbye greeting before writing your name', 'Length Of Mail': 'How long the email should be', 'Salutation': 'The very start of a message that addresses the person', 'Overall Messaging': 'The message that you want to convery to the reader', 'Subject': 'The subject of the email'}, 'advice': {'Closing Line': 'Build excitement', 'Emojis/GIFs': 'Recommended', 'Tone Of Words': 'Friendly, first-person', 'Greeting': 'Yes (Say something interesting/unusual)', 'Bullet Points': 'Avoid', 'Complimentary Close': 'Unique, pleasant', 'Length Of Mail': 'Long', 'Salutation': 'Yes (Something casual)', 'Overall Messaging': 'Focused on the person and relationship', 'Subject': 'Personalized, catchy'}, '_id': 'influence', 'examples': {'Closing Line': \"Something like 'So {user_name}, lets get the ball rolling?'\", 'Emojis/GIFs': '', 'Tone Of Words': '', 'Greeting': \"Use unusual lines, like 'This has been quite a week', 'What a game yesterday' etc.\", 'Bullet Points': '', 'Complimentary Close': \"Something like 'Excited!', 'To a great partnership!' etc.\", 'Length Of Mail': 'Maximum upto 200-250 words', 'Salutation': \"Use 'Hi', 'Hey' etc. (along with the first name)\", 'Overall Messaging': '', 'Subject': \"Something like '{user_name}, how about a chat tomorrow?', 'How can we increase your sales conversion together' etc.\"}}, 'communication_advice': {'_type': ['high influence'], 'description': ['They are not always early adopters but can be pursuaded by leveraging strong relationships.', 'They are friendly, approachable and love to make new connections.', 'They are always positive and upbeat, so take their promises with a pinch of salt.'], 'adjectives': ['Imaginative', 'Believer', 'Informal'], 'what_to_say': ['Speak enthusiastically with energy, maintain a clear and confident tone.', 'Share some stories about how you you have helped people in similar positions succeed.', 'Invite them for a lunch or a drink/coffee.'], 'what_to_avoid': ['Don’t push them to make a decision too fast, let them get comfortable first.', 'Don’t assume a yes just because they have not said no.', 'Avoid ifs and buts, don’t talk too much about the risks etc.'], 'key_traits': {'Risk Appetite': 'They may take certain risks that they deem unlikely of personal repercussions.', 'Ability To Say No': 'They will probably never say no directly, you have to make that decision yourself.', 'Speed': 'They are not the quickest decision makers, their friendly attitude could be misleading.', 'Decision Drivers': 'Relationship and rapport can play an important role, sometimes more than the other factors.'}}, 'behavioural_factors': {}, 'conversation_starters': []}}, 'mood': {'primary': {'action': 51.85185185185185, 'anxiety': 33.33333333333333, 'calm': 14.814814814814813, 'depression': 0}}, 'personality_analysis': {'disc_assessment': {'calculativeness': {'score': 6.3, 'level': 'medium'}, 'influence': {'score': 7.4, 'level': 'high'}, 'dominance': {'score': 6.2, 'level': 'medium'}, 'steadiness': {'score': 6.2, 'level': 'medium'}}, 'sentiment': {'positive_sentiment': 38.70967741935484, 'negative_sentiment': 22.58064516129032, 'neutral_sentiment': 38.70967741935484}, 'summary': {'disc': {'description': ['High Influence'], 'label': ['I']}, 'ocean': {'description': ['Balanced', 'Open', 'Somewhat Conscientious'], 'label': ['n', 'o', 'c']}}, 'ocean_assessment': {'openness': {'score': 6.92, 'level': 'Open'}, 'extraversion': {'score': 5.71, 'level': 'Somewhat Introverted'}, 'emotional_stability': {'score': 7.08, 'level': 'Balanced'}, 'agreeableness': {'score': 5.1, 'level': 'Disagreeable'}, 'conscientiousness': {'score': 6.04, 'level': 'Somewhat Conscientious'}}}}\n"
     ]
    },
    {
     "data": {
      "text/plain": [
       "(['n', 'o', 'c'],\n",
       " {'openness': {'score': 6.92, 'level': 'Open'},\n",
       "  'extraversion': {'score': 5.71, 'level': 'Somewhat Introverted'},\n",
       "  'emotional_stability': {'score': 7.08, 'level': 'Balanced'},\n",
       "  'agreeableness': {'score': 5.1, 'level': 'Disagreeable'},\n",
       "  'conscientiousness': {'score': 6.04, 'level': 'Somewhat Conscientious'}})"
      ]
     },
     "execution_count": 22,
     "metadata": {},
     "output_type": "execute_result"
    }
   ],
   "source": [
    "outuput = creat_user('dduraes')\n",
    "outuput"
   ]
  }
 ],
 "metadata": {
  "interpreter": {
   "hash": "e73066c94f8e0a03dc010f90f9bfe8189274fe2970ef1c1470299afeb680a60a"
  },
  "kernelspec": {
   "display_name": "Python 3.9.12 ('py3')",
   "language": "python",
   "name": "python3"
  },
  "language_info": {
   "codemirror_mode": {
    "name": "ipython",
    "version": 3
   },
   "file_extension": ".py",
   "mimetype": "text/x-python",
   "name": "python",
   "nbconvert_exporter": "python",
   "pygments_lexer": "ipython3",
   "version": "3.9.12"
  },
  "orig_nbformat": 4
 },
 "nbformat": 4,
 "nbformat_minor": 2
}
