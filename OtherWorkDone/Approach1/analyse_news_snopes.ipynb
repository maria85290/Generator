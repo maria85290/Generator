{
 "cells": [
  {
   "cell_type": "markdown",
   "metadata": {},
   "source": [
    "# Analyse news from snopes\n",
    "\n"
   ]
  },
  {
   "cell_type": "code",
   "execution_count": 1,
   "metadata": {},
   "outputs": [],
   "source": [
    "#Importar as bibliotecas necessarias para a leitura dos posts\n",
    "\n",
    "import json\n",
    "import pandas as pd\n",
    "from matplotlib.font_manager import json_load\n",
    "\n",
    "import readNews\n",
    "import sentimentAnalysis"
   ]
  },
  {
   "cell_type": "markdown",
   "metadata": {},
   "source": [
    "### Read the news"
   ]
  },
  {
   "cell_type": "code",
   "execution_count": 2,
   "metadata": {},
   "outputs": [],
   "source": [
    "def remove_values_from_list(the_list, val):\n",
    "    return [value for value in the_list if value != val]\n",
    "\n",
    "def clean (ListSentences):\n",
    "    \n",
    "    #limpeza '\n",
    "    l = [s.replace(\"\\\"\",\"'\") for s in ListSentences]\n",
    "    \n",
    "    #Separar em frases + pequenas\n",
    "    sentences = []\n",
    "    for i in l:\n",
    "        if \"Polígrafo\" in i:\n",
    "            continue\n",
    "        sentences = sentences + i.split('.')\n",
    "\n",
    "    return remove_values_from_list(sentences, \"\\'\\'\")"
   ]
  },
  {
   "cell_type": "markdown",
   "metadata": {},
   "source": [
    "### Automatizar o processo\n",
    "\n",
    "\n",
    "        1) Extrair conteudo do url da noticia\n",
    "        2) Divir o conteudo extraido por frases simples (split pelo .)\n",
    "        3) Realizar analise de sentimentos nas frases;\n",
    "        4) Identificar a frase com maios percentagem de tristeza e surpresa,\n",
    "        5) Guardar resultados num csv."
   ]
  },
  {
   "cell_type": "code",
   "execution_count": 3,
   "metadata": {},
   "outputs": [],
   "source": [
    " ### Recolher os links que se pretende analisar\n",
    "    \n",
    "from bs4 import BeautifulSoup\n",
    "from urllib.request import Request, urlopen\n",
    "import re\n",
    "\n",
    "req = Request(\"https://www.snopes.com/fact-check/\")\n",
    "html_page = urlopen(req)\n",
    "\n",
    "soup = BeautifulSoup(html_page, \"lxml\")\n",
    "\n",
    "links = []\n",
    "for link in soup.findAll('a'):\n",
    "    if type (link.get('href')) == str and (len( link.get('href'))) >  50:  \n",
    "        links.append(link.get('href'))\n"
   ]
  },
  {
   "cell_type": "code",
   "execution_count": 18,
   "metadata": {},
   "outputs": [
    {
     "data": {
      "text/plain": [
       "['https://www.snopes.com/fact-check/octopus-fossil-named-biden/',\n",
       " 'https://www.snopes.com/fact-check/shoes-foil-spy-hunters/',\n",
       " 'https://www.snopes.com/fact-check/bill-clinton-meeting-jfk/',\n",
       " 'https://www.snopes.com/fact-check/russia-sanction-republicans/',\n",
       " 'https://www.snopes.com/fact-check/disney-child-trafficking/',\n",
       " 'https://www.snopes.com/fact-check/putin-deepfake-russian-surrender/',\n",
       " 'https://www.snopes.com/fact-check/zelenskyy-nazi-iron-cross/',\n",
       " 'https://www.snopes.com/fact-check/ukraine-were-not-gonna-take-it/',\n",
       " 'https://www.snopes.com/fact-check/pelosi-read-poem-by-bono-ukraine/',\n",
       " 'https://www.snopes.com/fact-check/reuters-russian-owned/',\n",
       " 'https://www.snopes.com/fact-check/ukraine-stamp-russian/',\n",
       " 'https://www.snopes.com/fact-check/marjorie-taylor-greene-zelenskyy/',\n",
       " 'https://www.snopes.com/fact-check/mayim-bialik-cbd-allegations/',\n",
       " 'https://www.snopes.com/fact-check/apple-juice-penis-size/',\n",
       " 'https://www.snopes.com/news/2022/03/16/zelenskyy-deepfake-shared/',\n",
       " 'https://www.snopes.com/fact-check/biden-putin-invade-russia/']"
      ]
     },
     "execution_count": 18,
     "metadata": {},
     "output_type": "execute_result"
    }
   ],
   "source": [
    "list_urls = links[:-1]\n",
    "list_urls"
   ]
  },
  {
   "cell_type": "code",
   "execution_count": 21,
   "metadata": {},
   "outputs": [],
   "source": [
    "language = 'en'\n",
    "def extractor (url):\n",
    "  #  summary = readNews.main(url, \"summary\").encode('utf8').decode().split('\\n')\n",
    "  #  title = readNews.main(url, \"title\").encode('utf8').decode().split('\\n')\n",
    " #   newsSentences = title + summary\n",
    "    text = readNews.main(url, \"text\").encode('utf8').decode().split('\\n')\n",
    "    return text \n",
    "\n",
    "def sentiment_analysis(text, language):  \n",
    "    \n",
    "    ## Limpar o texto, transformar paragrafos em frases\n",
    "    text =clean(text)\n",
    "    \n",
    "    status_code = 0 ## Valor inicial \n",
    "    \n",
    "    while (status_code != 200):\n",
    "        emotions, status_code = sentimentAnalysis.main(text,language)\n",
    "    playload_emotions = json.loads(emotions)\n",
    "    \n",
    "    return playload_emotions\n",
    "    \n",
    "\n",
    "    \n",
    "def main ():\n",
    "    for url in list_urls:\n",
    "        text =  extractor (url)\n",
    "    \n",
    "        playload_emotions = sentiment_analysis(text, language)\n",
    "\n",
    "        ## Ordenar as frases por aquela que tem maior percentagem de sadness e surprise\n",
    "        sortedByEmotion = {k: v for k, v in sorted(playload_emotions.items(), key=lambda item: (item[1]['emotions']['sadness'] + item[1]['emotions']['surprise']), reverse=True)}\n",
    "     \n",
    "        data = pd.read_csv('snopes_news.csv')\n",
    "        \n",
    "        row = {'url': url, \"language\": language, \"text\": list (sortedByEmotion) [0], \"surprise\": list(sortedByEmotion.items())[0][1]['emotions']['surprise'] , 'sadness':list(sortedByEmotion.items())[0][1]['emotions']['sadness']}\n",
    "        print(row)\n",
    "        # Adicionar a nova linha ao dataset\n",
    "        data = data.append(row,  ignore_index=True)\n",
    "\n",
    "        #Retirar colunaas que estão a mais\n",
    "        data = data[['url','language','text', \"surprise\" ,'sadness' ]]\n",
    "        \n",
    "        data.to_csv('snopes_news.csv')"
   ]
  },
  {
   "cell_type": "code",
   "execution_count": 22,
   "metadata": {},
   "outputs": [
    {
     "name": "stdout",
     "output_type": "stream",
     "text": [
      "{'url': 'https://www.snopes.com/fact-check/octopus-fossil-named-biden/', 'language': 'en', 'text': 'Scientists named an extinct relative of the octopus after U', 'surprise': 0.0, 'sadness': 0.2}\n",
      "{'url': 'https://www.snopes.com/fact-check/shoes-foil-spy-hunters/', 'language': 'en', 'text': 'The story goes about a Herr Wolf from a shoe import firm who got tired about people always complaining about new shoe collections so he made these shoes with the heels at the front', 'surprise': 0.0, 'sadness': 0.5}\n",
      "{'url': 'https://www.snopes.com/fact-check/bill-clinton-meeting-jfk/', 'language': 'en', 'text': ' Parade quoted a longer excerpt, giving more detail about where Clinton was when he got the news:', 'surprise': 0.33, 'sadness': 0.0}\n",
      "{'url': 'https://www.snopes.com/fact-check/russia-sanction-republicans/', 'language': 'en', 'text': ' In the March 15 news release, the Foreign Ministry warned:', 'surprise': 0.25, 'sadness': 0.0}\n",
      "{'url': 'https://www.snopes.com/fact-check/disney-child-trafficking/', 'language': 'en', 'text': 'In March 2022, a rumor was widely circulated on social media that Bob Chapek, the CEO of Disney, had been arrested for human trafficking:', 'surprise': 0.0, 'sadness': 1.0}\n",
      "{'url': 'https://www.snopes.com/fact-check/putin-deepfake-russian-surrender/', 'language': 'en', 'text': ' This article is simply that: a rumor', 'surprise': 0.0, 'sadness': 1.0}\n",
      "{'url': 'https://www.snopes.com/fact-check/zelenskyy-nazi-iron-cross/', 'language': 'en', 'text': '“…An Iron Cross in isolation (i', 'surprise': 0.0, 'sadness': 1.0}\n",
      "{'url': 'https://www.snopes.com/fact-check/ukraine-were-not-gonna-take-it/', 'language': 'en', 'text': ' Zelenskyy did not make negative comments about Snider and the song, “We’re Not Gonna Take It', 'surprise': 0.0, 'sadness': 1.0}\n",
      "{'url': 'https://www.snopes.com/fact-check/pelosi-read-poem-by-bono-ukraine/', 'language': 'en', 'text': 'Ireland’s sorrow and pain', 'surprise': 0.0, 'sadness': 0.5}\n",
      "{'url': 'https://www.snopes.com/fact-check/reuters-russian-owned/', 'language': 'en', 'text': ' Later that year he left for Paris, where he worked for a short time as a translator', 'surprise': 0.33, 'sadness': 0.33}\n",
      "{'url': 'https://www.snopes.com/fact-check/ukraine-stamp-russian/', 'language': 'en', 'text': ' If you’d like us to investigate a rumor, please drop us a line here', 'surprise': 0.0, 'sadness': 1.0}\n",
      "{'url': 'https://www.snopes.com/fact-check/marjorie-taylor-greene-zelenskyy/', 'language': 'en', 'text': 'As Zelenskyy is greeted by the US Congress to a standing ovation, Marjorie Taylor Greene refuses to applaud and instead appears to grab her cell phone', 'surprise': 0.0, 'sadness': 0.5}\n",
      "{'url': 'https://www.snopes.com/fact-check/mayim-bialik-cbd-allegations/', 'language': 'en', 'text': 'We’ve seen this same strategy before with fake CBD endorsements featuring actor Tom Selleck (twice), talk show hosts Oprah Winfrey and Whoopi Goldberg, and late “Jeopardy” host Alex Trebek', 'surprise': 0.0, 'sadness': 0.5}\n",
      "{'url': 'https://www.snopes.com/fact-check/apple-juice-penis-size/', 'language': 'en', 'text': ' Absent surgery, there really isn’t anything that can be done to change the size of a penis', 'surprise': 0.0, 'sadness': 0.5}\n",
      "{'url': 'https://www.snopes.com/news/2022/03/16/zelenskyy-deepfake-shared/', 'language': 'en', 'text': ' The running text at the bottom of this broadcast mentions the message from Zelenskyy’s deepfake video', 'surprise': 0.0, 'sadness': 1.0}\n",
      "{'url': 'https://www.snopes.com/fact-check/biden-putin-invade-russia/', 'language': 'en', 'text': ' 25, right after Russia began invading Ukraine', 'surprise': 0.25, 'sadness': 0.25}\n"
     ]
    }
   ],
   "source": [
    "main()"
   ]
  },
  {
   "cell_type": "code",
   "execution_count": null,
   "metadata": {},
   "outputs": [],
   "source": []
  }
 ],
 "metadata": {
  "interpreter": {
   "hash": "e8c954cfe51fa3e1a8f5fd5b5b324eceb9eb77e7654e2be7d7bc294cd32a0965"
  },
  "kernelspec": {
   "display_name": "Python 3 (ipykernel)",
   "language": "python",
   "name": "python3"
  },
  "language_info": {
   "codemirror_mode": {
    "name": "ipython",
    "version": 3
   },
   "file_extension": ".py",
   "mimetype": "text/x-python",
   "name": "python",
   "nbconvert_exporter": "python",
   "pygments_lexer": "ipython3",
   "version": "3.8.10"
  }
 },
 "nbformat": 4,
 "nbformat_minor": 2
}
