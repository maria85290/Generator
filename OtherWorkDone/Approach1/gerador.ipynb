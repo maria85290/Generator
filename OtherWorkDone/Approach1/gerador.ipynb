{
 "cells": [
  {
   "cell_type": "markdown",
   "metadata": {},
   "source": [
    "# Generator - Approach 1"
   ]
  },
  {
   "cell_type": "code",
   "execution_count": 34,
   "metadata": {},
   "outputs": [],
   "source": [
    "import json\n",
    "\n",
    "from matplotlib.font_manager import json_load\n",
    "import readNews\n",
    "import sentimentAnalysis"
   ]
  },
  {
   "cell_type": "markdown",
   "metadata": {},
   "source": [
    "### Read the news"
   ]
  },
  {
   "cell_type": "code",
   "execution_count": 35,
   "metadata": {},
   "outputs": [],
   "source": [
    "def clean (ListSentences):\n",
    "\n",
    "    l = [s.replace(\"\\\"\",\"'\") for s in ListSentences]\n",
    "\n",
    "    return l"
   ]
  },
  {
   "cell_type": "code",
   "execution_count": 45,
   "metadata": {},
   "outputs": [],
   "source": [
    "\n",
    "url = \"https://www.snopes.com/fact-check/strollers-poland-ukraine-refugees/\"\n",
    "summary = readNews.main(url, \"summary\").encode('utf8').decode().split('\\n')\n",
    "title = readNews.main(url, \"title\").encode('utf8').decode().split('\\n')\n",
    "newsSentences = title + summary\n",
    "text = readNews.main(url, \"text\").encode('utf8').decode().split('\\n')\n",
    "\n"
   ]
  },
  {
   "cell_type": "code",
   "execution_count": 46,
   "metadata": {},
   "outputs": [
    {
     "data": {
      "text/plain": [
       "['Were Strollers Left at Poland Train Station for Ukraine Refugees?',\n",
       " 'A picture showing a line of seven strollers at a train station was widely shared on social media with the caption: “Parents in Poland left their baby strollers in rail road stations for the Ukrainian moms that fled carrying their children.”This appears to be a genuine photograph that truly depicts a set of strollers that were left for Ukrainian refugees.',\n",
       " 'This photograph was taken by Francesco Malavolta, a photojournalist covering the conflict in Ukraine.',\n",
       " '– Recently many people have come to us from Odessa, the next train will come from Lviv – says Janusz Łukasiewicz, station commander on Polish Radio 1.',\n",
       " 'Refugees get a warm meal, the most necessary things and a place where they can rest before their onward journey.',\n",
       " 'Here are some additional photographs of the scenes at this Polish train station.']"
      ]
     },
     "execution_count": 46,
     "metadata": {},
     "output_type": "execute_result"
    }
   ],
   "source": [
    "newsSentences\n"
   ]
  },
  {
   "cell_type": "code",
   "execution_count": 47,
   "metadata": {},
   "outputs": [
    {
     "data": {
      "text/plain": [
       "['In March 2022, as Ukrainians fled their home country after Russia’s invasion, a photograph started to circulate on social media that supposedly showed an act of kindness from one of Ukraine’s neighbors, Poland.',\n",
       " '',\n",
       " 'A picture showing a line of seven strollers at a train station was widely shared on social media with the caption: “Parents in Poland left their baby strollers in rail road stations for the Ukrainian moms that fled carrying their children.”',\n",
       " '',\n",
       " 'This appears to be a genuine photograph that truly depicts a set of strollers that were left for Ukrainian refugees.',\n",
       " '',\n",
       " 'This photograph was taken by Francesco Malavolta, a photojournalist covering the conflict in Ukraine. Malavolta posted this photo to his Twitter account on March 3, along with the caption “Passeggini lasciati in stazione per le donne in arrivo dall’Ucraina con neonati,” which translates from Italian to “Strollers left at the station for women arriving from Ukraine with babies.”',\n",
       " '',\n",
       " 'Here’s the original post:',\n",
       " '',\n",
       " 'This photograph was taken at the Przemyśl Główny train station in Poland — the name of the station can be seen on the building in the background — and this station has truly been a destination for Ukrainian refugees. Polskie Radio, Poland’s national public-service radio broadcasting organization, reported the following (translated via Google):',\n",
       " '',\n",
       " 'Refugees coming from Ukraine are accompanied by great emotions, fear mixed with joy that they have managed to escape from a country overwhelmed by war. However, you can also experience anger, sadness, and bitterness. Many of them do not know languages \\u200b\\u200bother than Russian and Ukrainian, some of them are abroad for the first time. Przemyśl is one of the first places they stop. – Recently many people have come to us from Odessa, the next train will come from Lviv – says Janusz Łukasiewicz, station commander on Polish Radio 1. – Some people have joy in their eyes that they managed to escape, others with sadness – and a great longing for those who stayed in the country – are waiting for what will happen next – he adds. In Przemyśl, the humanitarian aid center operates in the building of the former shopping center. Hundreds of people from Ukraine come here every day, mainly women and children. In the center there are accommodation places, medical points and a pharmacy. From the adjoining car park, among others, buses depart, both inland and abroad. Refugees get a warm meal, the most necessary things and a place where they can rest before their onward journey.',\n",
       " '',\n",
       " 'Here are some additional photographs of the scenes at this Polish train station.']"
      ]
     },
     "execution_count": 47,
     "metadata": {},
     "output_type": "execute_result"
    }
   ],
   "source": [
    "text"
   ]
  },
  {
   "cell_type": "markdown",
   "metadata": {},
   "source": [
    "#### Sentiment Analysis"
   ]
  },
  {
   "cell_type": "code",
   "execution_count": 26,
   "metadata": {},
   "outputs": [],
   "source": [
    "\n",
    "text =clean(newsSentences)\n",
    "lang = 'pt'\n",
    "sentiments = sentimentAnalysis.main(text,lang)\n"
   ]
  },
  {
   "cell_type": "code",
   "execution_count": 27,
   "metadata": {},
   "outputs": [],
   "source": [
    "## Ordenar por ordem decrescente maior emoçao\n",
    "playload = json.loads(sentiments)"
   ]
  },
  {
   "cell_type": "code",
   "execution_count": 28,
   "metadata": {},
   "outputs": [
    {
     "data": {
      "text/plain": [
       "dict"
      ]
     },
     "execution_count": 28,
     "metadata": {},
     "output_type": "execute_result"
    }
   ],
   "source": [
    "type(playload)"
   ]
  },
  {
   "cell_type": "code",
   "execution_count": 29,
   "metadata": {},
   "outputs": [],
   "source": [
    "\n",
    "## Ordenar as frases por aquela que tem maior surpresa\n",
    "sortedByEmotion = {k: v for k, v in sorted(playload.items(), key=lambda item: (item[1]['emotions']['sadness'], item[1]['emotions']['surprise']), reverse=True)}\n"
   ]
  },
  {
   "cell_type": "code",
   "execution_count": 30,
   "metadata": {},
   "outputs": [
    {
     "data": {
      "text/plain": [
       "{'As of this writing, it had been upvoted more than 4,400 times.': {'emotions': {'anger': 0.0,\n",
       "   'anticipation': 0.0,\n",
       "   'disgust': 0.0,\n",
       "   'fear': 0.0,\n",
       "   'joy': 0.0,\n",
       "   'sadness': 0.0,\n",
       "   'surprise': 0.0,\n",
       "   'trust': 0.0},\n",
       "  'polarities': {'negative': 0.0, 'positive': 0.0}},\n",
       " 'Did AOC Say This About Trump?': {'emotions': {'anger': 0.0,\n",
       "   'anticipation': 0.0,\n",
       "   'disgust': 0.0,\n",
       "   'fear': 0.0,\n",
       "   'joy': 0.0,\n",
       "   'sadness': 0.0,\n",
       "   'surprise': 0.0,\n",
       "   'trust': 0.0},\n",
       "  'polarities': {'negative': 0.0, 'positive': 0.0}},\n",
       " 'Happy reading and let us know what else you might be interested in knowing.': {'emotions': {'anger': 0.0,\n",
       "   'anticipation': 0.0,\n",
       "   'disgust': 0.0,\n",
       "   'fear': 0.0,\n",
       "   'joy': 0.0,\n",
       "   'sadness': 0.0,\n",
       "   'surprise': 0.0,\n",
       "   'trust': 0.0},\n",
       "  'polarities': {'negative': 0.0, 'positive': 0.0}},\n",
       " 'In March 2022, a quote from U.S. Rep. Alexandria Ocasio-Cortez, a democrat from New York, resurfaced after a now-removed Reddit post shared a screenshot of the Tweet to the thread r/facepalm.': {'emotions': {'anger': 0.0,\n",
       "   'anticipation': 0.0,\n",
       "   'disgust': 0.0,\n",
       "   'fear': 0.0,\n",
       "   'joy': 0.0,\n",
       "   'sadness': 0.0,\n",
       "   'surprise': 0.0,\n",
       "   'trust': 0.0},\n",
       "  'polarities': {'negative': 0.0, 'positive': 0.0}},\n",
       " 'We’ve collected some posts that help explain how we do what we do.': {'emotions': {'anger': 0.0,\n",
       "   'anticipation': 0.0,\n",
       "   'disgust': 0.0,\n",
       "   'fear': 0.0,\n",
       "   'joy': 0.0,\n",
       "   'sadness': 0.0,\n",
       "   'surprise': 0.0,\n",
       "   'trust': 0.0},\n",
       "  'polarities': {'negative': 0.0, 'positive': 0.0}},\n",
       " '— Alexandria Ocasio-Cortez (@AOC) October 23, 2020As such, we have rated this claim as “Correct Attribution.”For more fact-checking on questionable quotes, check out the Snopes archives:': {'emotions': {'anger': 0.0,\n",
       "   'anticipation': 0.0,\n",
       "   'disgust': 0.0,\n",
       "   'fear': 0.0,\n",
       "   'joy': 0.0,\n",
       "   'sadness': 0.0,\n",
       "   'surprise': 0.0,\n",
       "   'trust': 0.0},\n",
       "  'polarities': {'negative': 0.0, 'positive': 0.0}}}"
      ]
     },
     "execution_count": 30,
     "metadata": {},
     "output_type": "execute_result"
    }
   ],
   "source": [
    "sortedByEmotion"
   ]
  },
  {
   "cell_type": "markdown",
   "metadata": {},
   "source": [
    "## Text summarization\n",
    "\n",
    "\n",
    "All the models present next are pre trained and presents at transformer package given by Huggingface"
   ]
  },
  {
   "cell_type": "markdown",
   "metadata": {},
   "source": [
    "### Pipeline API"
   ]
  },
  {
   "cell_type": "code",
   "execution_count": 39,
   "metadata": {},
   "outputs": [],
   "source": [
    "## Importar as biblitecas necessarias\n",
    "\n",
    "from transformers import pipeline\n"
   ]
  },
  {
   "cell_type": "code",
   "execution_count": 40,
   "metadata": {},
   "outputs": [
    {
     "name": "stderr",
     "output_type": "stream",
     "text": [
      "No model was supplied, defaulted to sshleifer/distilbart-cnn-12-6 (https://huggingface.co/sshleifer/distilbart-cnn-12-6)\n"
     ]
    },
    {
     "name": "stdout",
     "output_type": "stream",
     "text": [
      "Summary:  In a tweet shared on Oct. 22, 2020, U.S. Rep. Alexandria Ocasio-Cortez said: “If someone told me 3 years ago, while I was waitressing to help my family stay afloat, that in a few short years an unhinged President of the United States would be repeatedly saying my name at the 2020 debate, I would’ve brought them some water and told them to sober up.” A now-removed Reddit post shared a screenshot of the Tweet to the thread r/facepalm .\n"
     ]
    }
   ],
   "source": [
    "\n",
    "# using pipeline API for summarization task\n",
    "summarization = pipeline(\"summarization\",max_length=265)\n",
    "\n",
    "original_text = ' '.join(text)\n",
    "\n",
    "summary_text = summarization(original_text)[0]['summary_text']\n",
    "print(\"Summary:\", summary_text)"
   ]
  },
  {
   "cell_type": "markdown",
   "metadata": {},
   "source": [
    "Summary:  A photograph of a woman holding a weapon was widely circulated on social media as if it showed former Miss Ukraine Anastasiia Lenna taking up arms after Russia’s invasion of Ukraine in early 2022 . Lenna posted a photograph of herself holding her rifle along with the hashtags #standwithukraine and #handsoffukraine . This led many to make the assumption that Lenna had actually joined the Ukrainian army . When the picture went viral, Lenna explained that she wasn’t actually in the military and that her post was just meant to show support Ukrainian forces ."
   ]
  },
  {
   "cell_type": "markdown",
   "metadata": {},
   "source": [
    "### T5 Model\n",
    "\n",
    "https://www.thepythoncode.com/article/text-summarization-using-huggingface-transformers-python\n"
   ]
  },
  {
   "cell_type": "code",
   "execution_count": 54,
   "metadata": {},
   "outputs": [],
   "source": [
    "from transformers import T5ForConditionalGeneration, T5Tokenizer"
   ]
  },
  {
   "cell_type": "code",
   "execution_count": 55,
   "metadata": {},
   "outputs": [],
   "source": [
    "# initialize the model architecture and weights\n",
    "model = T5ForConditionalGeneration.from_pretrained(\"t5-base\")\n",
    "# initialize the model tokenizer\n",
    "tokenizer = T5Tokenizer.from_pretrained(\"t5-base\")\n"
   ]
  },
  {
   "cell_type": "code",
   "execution_count": 56,
   "metadata": {},
   "outputs": [],
   "source": [
    "original_text = ' '.join(text)"
   ]
  },
  {
   "cell_type": "code",
   "execution_count": 59,
   "metadata": {},
   "outputs": [],
   "source": [
    "# encode the text into tensor of integers using the appropriate tokenizer\n",
    "inputs = tokenizer.encode(\"summarize: \" + original_text, return_tensors=\"pt\", max_length=150, truncation=True)"
   ]
  },
  {
   "cell_type": "code",
   "execution_count": 60,
   "metadata": {},
   "outputs": [
    {
     "name": "stdout",
     "output_type": "stream",
     "text": [
      "tensor([[    0,     3,     9,  6419,  2924,     3,     9,   689,    13,  2391,\n",
      "         13593,   277,    44,     3,     9,  2412,  2478,    47,  5456,  2471,\n",
      "            30,   569,   783,     3,     5,    48,  3475,    12,    36,     3,\n",
      "             9,  7746,  6419,    24,  1892,  9850,     7,     3,     9,   356,\n",
      "            13, 13593,   277,   646,    21, 22849, 16723,     3,     5,    48,\n",
      "          6419,    47,  1026,    57,     3,     9,  1202, 25340,   343,  6013,\n",
      "             8,  4129,    16, 11897,     3,     5,     1]])\n",
      "<pad> a photograph showing a line of seven strollers at a train station was widely shared on social media. this appears to be a genuine photograph that truly depicts a set of strollers left for Ukrainian refugees. this photograph was taken by a photojournalist covering the conflict in Ukraine.</s>\n"
     ]
    }
   ],
   "source": [
    "# generate the summarization output\n",
    "outputs = model.generate(\n",
    "    inputs, \n",
    "    max_length=150, \n",
    "    min_length=40, \n",
    "    length_penalty=2.0, \n",
    "    num_beams=4, \n",
    "    early_stopping=True)\n",
    "# just for debugging\n",
    "print(outputs)\n",
    "print(tokenizer.decode(outputs[0]))"
   ]
  },
  {
   "cell_type": "markdown",
   "metadata": {},
   "source": [
    "### BERT Model"
   ]
  },
  {
   "cell_type": "code",
   "execution_count": 2,
   "metadata": {},
   "outputs": [
    {
     "ename": "ImportError",
     "evalue": "cannot import name 'Summarizer' from 'summarizer' (unknown location)",
     "output_type": "error",
     "traceback": [
      "\u001b[0;31m---------------------------------------------------------------------------\u001b[0m",
      "\u001b[0;31mImportError\u001b[0m                               Traceback (most recent call last)",
      "\u001b[1;32m/Users/mariabarbosa/Desktop/Generator/Approach1/gerador.ipynb Cell 26'\u001b[0m in \u001b[0;36m<cell line: 1>\u001b[0;34m()\u001b[0m\n\u001b[0;32m----> <a href='vscode-notebook-cell:/Users/mariabarbosa/Desktop/Generator/Approach1/gerador.ipynb#ch0000025?line=0'>1</a>\u001b[0m \u001b[39mfrom\u001b[39;00m \u001b[39msummarizer\u001b[39;00m \u001b[39mimport\u001b[39;00m Summarizer\n",
      "\u001b[0;31mImportError\u001b[0m: cannot import name 'Summarizer' from 'summarizer' (unknown location)"
     ]
    }
   ],
   "source": [
    "from summarizer import Summarizer"
   ]
  },
  {
   "cell_type": "code",
   "execution_count": 49,
   "metadata": {},
   "outputs": [],
   "source": [
    "original_text = ' '.join(text)"
   ]
  },
  {
   "cell_type": "code",
   "execution_count": 52,
   "metadata": {},
   "outputs": [
    {
     "name": "stderr",
     "output_type": "stream",
     "text": [
      "Some weights of the model checkpoint at bert-large-uncased were not used when initializing BertModel: ['cls.predictions.bias', 'cls.predictions.transform.dense.bias', 'cls.seq_relationship.weight', 'cls.predictions.transform.LayerNorm.weight', 'cls.predictions.decoder.weight', 'cls.predictions.transform.LayerNorm.bias', 'cls.predictions.transform.dense.weight', 'cls.seq_relationship.bias']\n",
      "- This IS expected if you are initializing BertModel from the checkpoint of a model trained on another task or with another architecture (e.g. initializing a BertForSequenceClassification model from a BertForPreTraining model).\n",
      "- This IS NOT expected if you are initializing BertModel from the checkpoint of a model that you expect to be exactly identical (initializing a BertForSequenceClassification model from a BertForSequenceClassification model).\n"
     ]
    }
   ],
   "source": [
    "#Create default summarizer model\n",
    "# By default bert-extractive-summarizer uses the ‘bert-large-uncased‘ pretrained model.\n",
    "model = Summarizer()\n",
    "\n",
    "summary = model(original_text, max_length=200, ratio=0.01)"
   ]
  },
  {
   "cell_type": "code",
   "execution_count": 53,
   "metadata": {},
   "outputs": [
    {
     "data": {
      "text/plain": [
       "'This appears to be a genuine photograph that truly depicts a set of strollers that were left for Ukrainian refugees. Many of them do not know languages \\u200b\\u200bother than Russian and Ukrainian, some of them are abroad for the first time.'"
      ]
     },
     "execution_count": 53,
     "metadata": {},
     "output_type": "execute_result"
    }
   ],
   "source": [
    "summary"
   ]
  },
  {
   "cell_type": "code",
   "execution_count": null,
   "metadata": {},
   "outputs": [],
   "source": [
    "sentiments = sentimentAnalysis.main(summary,lang)\n",
    "playload = json.loads(sentiments)\n",
    "\n",
    "sortedByEmotion = {k: v for k, v in sorted(playload.items(), key=lambda item: (item[1]['emotions']['sadness'], item[1]['emotions']['surprise']), reverse=True)}\n",
    "sortedByEmotion"
   ]
  },
  {
   "cell_type": "markdown",
   "metadata": {},
   "source": [
    "## Keyword extraction"
   ]
  },
  {
   "cell_type": "code",
   "execution_count": 6,
   "metadata": {},
   "outputs": [
    {
     "name": "stderr",
     "output_type": "stream",
     "text": [
      "2022-03-07 14:02:56.993032: W tensorflow/stream_executor/platform/default/dso_loader.cc:64] Could not load dynamic library 'libcudart.so.11.0'; dlerror: libcudart.so.11.0: cannot open shared object file: No such file or directory\n",
      "2022-03-07 14:02:56.993087: I tensorflow/stream_executor/cuda/cudart_stub.cc:29] Ignore above cudart dlerror if you do not have a GPU set up on your machine.\n"
     ]
    }
   ],
   "source": [
    "from keybert import KeyBERT\n",
    "\n",
    "### https://pypi.org/project/keybert/"
   ]
  },
  {
   "cell_type": "code",
   "execution_count": 7,
   "metadata": {},
   "outputs": [],
   "source": [
    "original_text = ' '.join(text)"
   ]
  },
  {
   "cell_type": "code",
   "execution_count": 13,
   "metadata": {},
   "outputs": [],
   "source": [
    "kw_model = KeyBERT()\n",
    "keywords = kw_model.extract_keywords(original_text, keyphrase_ngram_range=(1, 1))"
   ]
  },
  {
   "cell_type": "code",
   "execution_count": 14,
   "metadata": {},
   "outputs": [
    {
     "data": {
      "text/plain": [
       "[('fictional', 0.3562),\n",
       " ('news', 0.3514),\n",
       " ('satire', 0.3411),\n",
       " ('conspiracy', 0.3363),\n",
       " ('putin', 0.3152)]"
      ]
     },
     "execution_count": 14,
     "metadata": {},
     "output_type": "execute_result"
    }
   ],
   "source": [
    "keywords"
   ]
  },
  {
   "cell_type": "code",
   "execution_count": 10,
   "metadata": {},
   "outputs": [
    {
     "data": {
      "text/plain": [
       "'In March 2022, as Russia continued its attack on Ukraine, the website “Real Raw News” published a fictitious article that falsely claimed a villa owned by U.S. President Joe Biden was bombed by the Russian military.  There is no truth to this story. The website Real Raw News does not traffic in genuine news stories. Rather, this site hosts a series of fictional pieces that play on right-wing conspiracy theories.  A disclaimer on Real Raw News states that the website “contains humor, parody, and satire.”  While Real Raw News carries a disclaimer, its content is often spread on social media or republished on other websites without any mention of its fictional origins. The aforementioned article, for example, was presented as genuine news on TheTruthPatriots.com and on the Diannemarshallreport.com.  The Debunked ‘U.S. Biolab’ Theory  In the days after Russia’s invasion of Ukraine, a narrative started circulating on social media that Putin’s attack was focused on a series of secret biolabs that were owned and operated by the U.S. Military. Putin attacked these biolabs, according to the conspiracy, in order to stop the spread of a new pandemic.  There is no truth to this rumor. We addressed this rumor more in depth here, but generally speaking, the U.S. does not own or operate biolabs in Ukraine. While the U.S. has provided some funding to upgrade biolabs in Ukraine, these labs are owned and operated by the Ukraine government.  Real Raw News Does Not Produce Real News  Real Raw News is not a genuine news source. It has previously published fictitious articles that falsely claimed Supreme Court Justice Sotomayor had been arrested by U.S. Marines, that former President George W. Bush had been hanged at Guantanamo Bay, that former Secretary of State Hillary Clinton was convicted for murder, and that a special combat unit had raided a Biden-owned compound in Ukraine.  None of these stories is based in reality.'"
      ]
     },
     "execution_count": 10,
     "metadata": {},
     "output_type": "execute_result"
    }
   ],
   "source": [
    "original_text"
   ]
  }
 ],
 "metadata": {
  "interpreter": {
   "hash": "e8c954cfe51fa3e1a8f5fd5b5b324eceb9eb77e7654e2be7d7bc294cd32a0965"
  },
  "kernelspec": {
   "display_name": "Python 3 (ipykernel)",
   "language": "python",
   "name": "python3"
  },
  "language_info": {
   "codemirror_mode": {
    "name": "ipython",
    "version": 3
   },
   "file_extension": ".py",
   "mimetype": "text/x-python",
   "name": "python",
   "nbconvert_exporter": "python",
   "pygments_lexer": "ipython3",
   "version": "3.9.12"
  }
 },
 "nbformat": 4,
 "nbformat_minor": 2
}
