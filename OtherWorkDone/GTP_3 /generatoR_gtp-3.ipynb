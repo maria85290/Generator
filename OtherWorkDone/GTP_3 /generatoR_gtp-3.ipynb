{
 "cells": [
  {
   "cell_type": "markdown",
   "id": "4abe034c",
   "metadata": {},
   "source": [
    "# Generator using GTP3\n",
    "\n",
    "Ferramenta que pega no conteudo das noticias (em formato json), faz sumarization para encontrar o main text para os posts.\n",
    "\n",
    "O tweet tem os seguintes elementos: \n",
    "* Texto;\n",
    "* Hashtags relevantes;\n",
    "* Emojis;\n",
    "* URL;\n"
   ]
  },
  {
   "cell_type": "code",
   "execution_count": 1,
   "id": "544627d9",
   "metadata": {},
   "outputs": [
    {
     "name": "stderr",
     "output_type": "stream",
     "text": [
      "[nltk_data] Downloading package stopwords to\n",
      "[nltk_data]     /Users/mariabarbosa/nltk_data...\n",
      "[nltk_data]   Package stopwords is already up-to-date!\n",
      "[nltk_data] Downloading package omw-1.4 to\n",
      "[nltk_data]     /Users/mariabarbosa/nltk_data...\n",
      "[nltk_data]   Package omw-1.4 is already up-to-date!\n",
      "/opt/homebrew/anaconda3/envs/py3/lib/python3.9/site-packages/tqdm/auto.py:22: TqdmWarning: IProgress not found. Please update jupyter and ipywidgets. See https://ipywidgets.readthedocs.io/en/stable/user_install.html\n",
      "  from .autonotebook import tqdm as notebook_tqdm\n"
     ]
    }
   ],
   "source": [
    "import os\n",
    "import re\n",
    "import json\n",
    "import pandas as pd\n",
    "import random\n",
    "import nltk\n",
    "nltk.download('stopwords')\n",
    "nltk.download('omw-1.4')\n",
    "from keybert import KeyBERT\n",
    "import emoji #https://carpedm20.github.io/emoji/"
   ]
  },
  {
   "cell_type": "markdown",
   "id": "f1b5b8e1",
   "metadata": {},
   "source": [
    "### Gerador"
   ]
  },
  {
   "cell_type": "code",
   "execution_count": 2,
   "id": "c5c94715",
   "metadata": {},
   "outputs": [],
   "source": [
    "'''\n",
    "Import open ai key\n",
    "'''\n",
    "\n",
    "import os\n",
    "import openai\n",
    "\n",
    "from dotenv import load_dotenv\n",
    "\n",
    "load_dotenv()\n",
    "\n",
    "OPENAI_KEY= os.getenv('OPENAI_KEY')\n"
   ]
  },
  {
   "cell_type": "code",
   "execution_count": 3,
   "id": "a5204caf",
   "metadata": {},
   "outputs": [],
   "source": [
    "def gpt3 (text, engine):\n",
    "    openai.api_key = OPENAI_KEY\n",
    "\n",
    "    response = openai.Completion.create(\n",
    "      engine=engine,\n",
    "      prompt=  text + \"Tl;dr\",\n",
    "      temperature=0.7,\n",
    "      max_tokens=64,\n",
    "      top_p=1,\n",
    "      frequency_penalty=0,\n",
    "      presence_penalty=0\n",
    "    )\n",
    "    output = response.choices[0].text\n",
    "\n",
    "    return output"
   ]
  },
  {
   "cell_type": "code",
   "execution_count": 42,
   "id": "784e30af",
   "metadata": {},
   "outputs": [],
   "source": [
    "\n",
    "post =  [\n",
    "        \"A video clip claims to show Amber Heard “sniffing cocaine” from a tissue during her testimony in the defamation trial brought by Johnny Depp in the spring of 2022. The trial pertains to an article Heard wrote alleging that Depp abused her during their marriage. There is no evidence that Heard sniffed cocaine in the video. In fact, the longer video from which the short clip was taken shows otherwise. The claim that Heard sniffed cocaine is false.\",\n",
    "        \"Since the high profile trial began in April 2022, fans of Depp have engaged in online trolling of Heard, including spreading rumors surrounding her conduct and statements in court. While fans of both parties have displayed such behavior, the online campaign against Heard seems particularly heated. \",\n",
    "        \"Tweets and TikTok posts claimed to show Heard sniffing cocaine as she paused, held a tissue to her nose, and rubbed her nose afterward.\",\n",
    "        \"Yo I've done some shit in my day but I've never had the stones to do cocaine in a courtroom pic.twitter.com/T7xw1pLLRN\",\n",
    "        \"how did they miss this lmao\",\n",
    "        \"The tweet and TikTok video miscaptioned the clip, which was pulled from the second day of Heard’s testimony against Depp. The full video is available below:\",\n",
    "        \"The clip claiming that she is doing cocaine was pulled from the 14:38 mark in the above video. \",\n",
    "        \"At the beginning of the video, a box of tissues is visible on the right side of the stand (Heard’s left) where Heard is making her testimony, within reaching distance. At numerous times in her testimony, Heard was visibly emotional and sniffling while speaking. At any point in the testimony she could have reached out to grab a tissue. Twelve minutes into the longer version of the video, before the alleged cocaine sniffing occurs, she is seen reaching for a tissue on the left side of the stand (her right), and wiping her nose. She then folds the tissue and puts her hands down. She brings the tissue back up a few minutes later to wipe her nose. \",\n",
    "        \"The TikTok video similarly misrepresented and altered the sequence of events as they took place in the trial. At around 13:39 in the actual video, Heard talks about taking Depp’s daughter to the restaurant Benihana. At 14:38 Heard presses the tissue to her nose. The TikTok video claims that the moment where she pressed the tissue to her nose came before she described the dinner, and detailed how her “lethargic” style of talking later was supposedly a “comedown” from the cocaine hit.  \",\n",
    "        \"There is no evidence that the tissue carried cocaine or that she was sniffing drugs during her testimony. Moreover, it strains credulity to suppose that a box of tissues provided to all witnesses by the court would be laced with cocaine, or that the defendant would brazenly snort drugs mere feet from the judge. This is yet another example of one faction attempting to manufacture evidence that confirms preconceived beliefs they apparently hold about the character of the other party in the trial. We have covered similar claims before. \",\n",
    "        \"Given that the tweet and TikTok both misrepresent a video that simply shows Heard sniffing and wiping her nose with a court-provided tissue, and the larger video from the trial contains no evidence of drugs being used, we rate this claim as “Miscaptioned.”\"\n",
    "    ]\n",
    "\n",
    "text= ' '.join(post)\n",
    "engine = \"text-davinci-002\"\n",
    "output = gpt3 (text, engine)"
   ]
  },
  {
   "cell_type": "code",
   "execution_count": 43,
   "id": "a415cffc",
   "metadata": {},
   "outputs": [
    {
     "data": {
      "text/plain": [
       "': The video claiming to show Amber Heard “sniffing cocaine” during her testimony is actually a clip of her wiping her nose with a tissue. There is no evidence that Heard did anything illegal during her testimony.'"
      ]
     },
     "execution_count": 43,
     "metadata": {},
     "output_type": "execute_result"
    }
   ],
   "source": [
    "output"
   ]
  },
  {
   "cell_type": "code",
   "execution_count": 40,
   "id": "5d059470",
   "metadata": {},
   "outputs": [
    {
     "data": {
      "text/plain": [
       "'\\n\\nA video clip was released that appears to show Amber Heard sniffing cocaine from a tissue during her testimony in the defamation trial against Johnny Depp. The clip was taken out of context from a longer video, and there is no evidence that Heard was actually sniffing cocaine. Despite this, fans of Depp have'"
      ]
     },
     "execution_count": 40,
     "metadata": {},
     "output_type": "execute_result"
    }
   ],
   "source": [
    "output"
   ]
  },
  {
   "cell_type": "code",
   "execution_count": 4,
   "id": "1a76d6b3",
   "metadata": {},
   "outputs": [
    {
     "name": "stderr",
     "output_type": "stream",
     "text": [
      "[nltk_data] Downloading package wordnet to\n",
      "[nltk_data]     /Users/mariabarbosa/nltk_data...\n",
      "[nltk_data]   Package wordnet is already up-to-date!\n"
     ]
    }
   ],
   "source": [
    "import hashtags_generetor\n",
    "import emojis\n",
    "import verify_post"
   ]
  },
  {
   "cell_type": "code",
   "execution_count": 5,
   "id": "bfac3deb",
   "metadata": {},
   "outputs": [],
   "source": [
    "def generate_capslock_allegation(data):\n",
    "    \n",
    "    text = re.sub(r'[^\\w\\s]', '', data) \n",
    "    \n",
    "    \n",
    "    ## Definir o modelo\n",
    "    kw_model = KeyBERT()\n",
    "    words_bert = [word for word, value in kw_model.extract_keywords(docs=text, keyphrase_ngram_range=(1,1))]\n",
    "                                        \n",
    "    allegation =  []\n",
    "    \n",
    "    for word in text.strip('\\n').split():\n",
    "        if word.lower() in words_bert:\n",
    "            allegation.append(word.upper())\n",
    "        else:\n",
    "            allegation.append(word)\n",
    "    \n",
    "    allegation = ' '.join(allegation)\n",
    "    post = []\n",
    "\n",
    "    #emoji.emojize(':thumbs_up:')\n",
    "    post.append(allegation)\n",
    "    #+ choice(dic[data['evaluation']])\n",
    "    return post"
   ]
  },
  {
   "cell_type": "code",
   "execution_count": 6,
   "id": "71ef46fd",
   "metadata": {},
   "outputs": [],
   "source": [
    "def interjections (evaluation):\n",
    "    with open('../corpus/interjections.json') as f:\n",
    "        interjection = json.load(f)\n",
    "        if evaluation == \"true\":\n",
    "            l = random.choice (interjection[\"true\"])\n",
    "        else:\n",
    "            l = random.choice (interjection[\"fake\"])\n",
    "        return l\n",
    " "
   ]
  },
  {
   "cell_type": "code",
   "execution_count": 15,
   "id": "578dac7c",
   "metadata": {},
   "outputs": [],
   "source": [
    "def main():\n",
    "    posts = {}\n",
    "    ##### Read the json files with de news\n",
    "    for file in os.listdir(\"../../extractors/Snopes/exemplo\"):\n",
    "        with open(\"../../extractors/Snopes/exemplo/\" + file) as f:\n",
    "            data = json.load(f)\n",
    "            f.close()\n",
    "  \n",
    "        text= ' '.join(data['postText'])\n",
    "        engine = \"text-curie-001\" #text-davinci-002\"\n",
    "        output = gpt3 (text, engine)\n",
    "\n",
    "        post = generate_capslock_allegation(output)\n",
    "        if (verify_post.verify_length(post) == False):\n",
    "          post = post[:280]\n",
    "\n",
    "\n",
    "\n",
    "       \n",
    "        hashtags = hashtags_generetor.generateHashtags(' '.join(data['postText']).split('\\n'))\n",
    "        \n",
    "\n",
    "        hashtags = [' #'+h for h in hashtags]\n",
    "        hashtags.append ('#'+data['evaluation'])\n",
    "        post.append ( ' '.join (hashtags))\n",
    "        \n",
    "       # post.append (emojis.emojis_selector(data['evaluation']))\n",
    "        \n",
    "       # post.append (interjections (data['evaluation']))\n",
    "        \n",
    "        seed = random.randint(0,10)\n",
    "        if verify_post.verify_length(' '.join (post)):\n",
    "          post = post[:280]\n",
    "\n",
    "        \n",
    "        while (verify_post.verify_length(' '.join (post)) and seed > 0):\n",
    "                seed = seed - 1\n",
    "                post.append(emojis.emojis_selector(data['evaluation']))\n",
    "        \n",
    "\n",
    "        random.shuffle(post) \n",
    "        post.append(data['url'])\n",
    "\n",
    "        post = ' '.join(post)\n",
    "        print(post)\n",
    "\n",
    "\n",
    "        df = pd.read_csv('snopes_posts_gtp3_v1.csv')\n",
    "\n",
    "        row = {'id': data['id'], 'post': post}\n",
    "\n",
    "        # Adicionar a nova linha ao dataset\n",
    "        df = df.append(row,  ignore_index=True)\n",
    "\n",
    "        #Retirar colunaas que estão a mais\n",
    "        df = df[['id','post' ]]\n",
    "\n",
    "\n",
    "        df.to_csv('snopes_posts_gtp3_v1.csv')\n",
    "            \n",
    "        print('--------------------------------------------')\n",
    "        f.close()\n",
    "        \n",
    "        \n",
    "\n",
    "        \n",
    "        "
   ]
  },
  {
   "cell_type": "code",
   "execution_count": 16,
   "id": "2e29a582",
   "metadata": {},
   "outputs": [
    {
     "name": "stdout",
     "output_type": "stream",
     "text": [
      "This is not a GENUINE TWEET from TRUMP  #account  #rule  #rumor  #risk #false https://www.snopes.com/fact-check/musk-reinstate-trump-on-twitter/\n",
      "--------------------------------------------\n",
      "😴 A Reddit post claiming that NASAS MARS Curiosity ROVER captured an IMAGE of an alleged portal and wall nearby that looks artificial was as incredulous as it seemed because what was depicted in the grainy blackandwhite version of the PHOTOGRAPH was actually a 🔫  #curiosity #false https://www.snopes.com/fact-check/nasa-mars-portal-door/\n",
      "--------------------------------------------\n",
      "😪 #correct-attribution 😔 Karine JEANPIERRE said that FOX NEWS is RACIST before the CORONAVIRUS and they will be RACIST after the CORONAVIRUS 🔫 😒 https://www.snopes.com/fact-check/jean-pierre-fox-news-racist/\n",
      "--------------------------------------------\n",
      "😪  #cocaine  #nose  #testimony #miscaptioned 😡 There is no EVIDENCE that AMBER Heard SNIFFED COCAINE in the Trial Pertaining to JOHNNY Depp https://www.snopes.com/fact-check/amber-heard-sniff-cocaine-trial/\n",
      "--------------------------------------------\n"
     ]
    }
   ],
   "source": [
    "main()"
   ]
  },
  {
   "cell_type": "code",
   "execution_count": 14,
   "id": "40cc5c72",
   "metadata": {},
   "outputs": [
    {
     "name": "stdout",
     "output_type": "stream",
     "text": [
      "This is a fake TWEET that was created as part of a social media fantasy involving Elon MUSK taking over TWITTER and reinstating DONALD Trumps account The REALDONALDTRUMP account is still suspended and MUSK has not been successful in his bid to takeover TWITTER  #account  #trump #false https://www.snopes.com/fact-check/musk-reinstate-trump-on-twitter/\n",
      "--------------------------------------------\n",
      "No 💀 😭 😪 😡 😩 #false 😭 😫 💀 https://www.snopes.com/fact-check/nasa-mars-portal-door/\n",
      "--------------------------------------------\n",
      "😡 Yes KARINE JEANPIERRE called FOX News RACIST in 2020 and the remark is still available to view on her Twitter account 💀 🔫 😫 😭 😪 #correct-attribution https://www.snopes.com/fact-check/jean-pierre-fox-news-racist/\n",
      "--------------------------------------------\n",
      "A video clip claims to show AMBER Heard SNIFFING COCAINE from a tissue during her testimony in the defamation trial brought by Johnny Depp in the spring of 2022 The trial pertains to an article Heard wrote alleging that Depp abused her during their marriage There is no EVIDENCE that Heard SNIFF  #cocaine  #nose  #testimony #miscaptioned https://www.snopes.com/fact-check/amber-heard-sniff-cocaine-trial/\n",
      "--------------------------------------------\n"
     ]
    }
   ],
   "source": [
    "main()"
   ]
  }
 ],
 "metadata": {
  "kernelspec": {
   "display_name": "Python 3 (ipykernel)",
   "language": "python",
   "name": "python3"
  },
  "language_info": {
   "codemirror_mode": {
    "name": "ipython",
    "version": 3
   },
   "file_extension": ".py",
   "mimetype": "text/x-python",
   "name": "python",
   "nbconvert_exporter": "python",
   "pygments_lexer": "ipython3",
   "version": "3.9.12"
  }
 },
 "nbformat": 4,
 "nbformat_minor": 5
}
