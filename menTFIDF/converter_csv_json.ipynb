{
 "cells": [
  {
   "cell_type": "code",
   "execution_count": 2,
   "metadata": {},
   "outputs": [],
   "source": [
    "import pandas as pd\n",
    "\n",
    "df = pd.read_csv('MentaLex_synonyms.csv')\n",
    "     "
   ]
  },
  {
   "cell_type": "code",
   "execution_count": 6,
   "metadata": {},
   "outputs": [],
   "source": [
    "dic = {}\n",
    "for ind, row in df.iterrows():\n",
    "    if row[0] not in dic:\n",
    "        dic[row[0]] = []\n",
    "    dic[row[0]].append(row[1])\n",
    "\n"
   ]
  },
  {
   "cell_type": "code",
   "execution_count": 8,
   "metadata": {},
   "outputs": [],
   "source": [
    "import json\n",
    "with open(\"mentalLex.json\", \"w\") as outfile:\n",
    "    json.dump(dic, outfile)"
   ]
  },
  {
   "cell_type": "code",
   "execution_count": 11,
   "metadata": {},
   "outputs": [],
   "source": [
    "with open('mentalLex.json') as f:\n",
    "            self = json.load(f)"
   ]
  },
  {
   "cell_type": "code",
   "execution_count": 39,
   "metadata": {},
   "outputs": [
    {
     "data": {
      "text/plain": [
       "{'Neuroticism': 1.0, 'Paranoid': 0.0, 'Schizoid': 0.0}"
      ]
     },
     "execution_count": 39,
     "metadata": {},
     "output_type": "execute_result"
    }
   ],
   "source": [
    "from men_tf_idf import MenTFIDF\n",
    "'''\n",
    "Get mental trait from a sentence\n",
    "'''\n",
    "allegation_sentence = \"It's false ! A photograph captured by NASA’s MARS CURIOSITY ROVER on May 7, 2022, showed a “portal and a wall nearby that looks artificial\"\n",
    "menTFIDF  = MenTFIDF()\n",
    "menTFIDF.set_text(allegation_sentence)\n",
    "frq = menTFIDF.em_frequencies\n",
    "\n",
    "mental_tfidf_frequencies = {k: v for k, v in sorted(frq.items(), key=lambda item: item[1], reverse=True)}\n",
    "\n",
    "mental_tfidf_frequencies\n"
   ]
  },
  {
   "cell_type": "code",
   "execution_count": 40,
   "metadata": {},
   "outputs": [
    {
     "name": "stdout",
     "output_type": "stream",
     "text": [
      "{'Neuroticism': 0.4444444444444444, 'Paranoid': 0.2222222222222222, 'Schizoid': 0.3333333333333333}\n"
     ]
    }
   ],
   "source": [
    "\n",
    "allegation_sentence = \"It's false that A photo capture by NASA’s MARS CURIOSITY ROVER on May 7, 2022, show a “portal and a wall nearby that look artificial.” aah 😿 😐 😑 👎 😨 https://www.snopes.com/fact-check/nasa-mars-portal-door/\"\n",
    "menTFIDF  = MenTFIDF()\n",
    "menTFIDF.set_text(allegation_sentence)\n",
    "print(menTFIDF.em_frequencies)\n"
   ]
  }
 ],
 "metadata": {
  "interpreter": {
   "hash": "e73066c94f8e0a03dc010f90f9bfe8189274fe2970ef1c1470299afeb680a60a"
  },
  "kernelspec": {
   "display_name": "Python 3.9.12 ('py3')",
   "language": "python",
   "name": "python3"
  },
  "language_info": {
   "codemirror_mode": {
    "name": "ipython",
    "version": 3
   },
   "file_extension": ".py",
   "mimetype": "text/x-python",
   "name": "python",
   "nbconvert_exporter": "python",
   "pygments_lexer": "ipython3",
   "version": "3.9.12"
  },
  "orig_nbformat": 4
 },
 "nbformat": 4,
 "nbformat_minor": 2
}
