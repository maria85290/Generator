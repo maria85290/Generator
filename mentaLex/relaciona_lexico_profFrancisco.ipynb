{
 "cells": [
  {
   "cell_type": "code",
   "execution_count": 2,
   "metadata": {},
   "outputs": [
    {
     "name": "stdout",
     "output_type": "stream",
     "text": [
      "     word    tf_idf classification\n",
      "0    rate  0.307673       Paranoid\n",
      "1    town  0.288085       Paranoid\n",
      "2    miss  0.248831       Paranoid\n",
      "3  friend  0.203270       Paranoid\n",
      "4  people  0.188863       Paranoid\n"
     ]
    }
   ],
   "source": [
    "import pandas as pd\n",
    "\n",
    "## read csv essay datset to a dataframe with pandas \n",
    "df = pd.read_csv('MentaLex_initial.csv', index_col=False,sep=',')\n",
    "print(df.head())\n",
    "\n"
   ]
  },
  {
   "cell_type": "code",
   "execution_count": 3,
   "metadata": {},
   "outputs": [
    {
     "name": "stdout",
     "output_type": "stream",
     "text": [
      "  STATIVE AND ACTION VERBS SYNONIMS EXTRAPOLATION REVIEWED  APPEAL TO\n",
      "0                      fit                      habilitate  behaviour\n",
      "1                     deny                        abnegate       mind\n",
      "2                     have                          accept  behaviour\n",
      "3                      fit                     accommodate  behaviour\n",
      "4                    agree                          accord       mind\n"
     ]
    }
   ],
   "source": [
    "## read csv essay datset to a dataframe with pandas \n",
    "data = pd.read_csv('lexicon_prof_Francisco.csv', index_col=False,sep=',')\n",
    "print(data.head())"
   ]
  },
  {
   "cell_type": "code",
   "execution_count": 4,
   "metadata": {},
   "outputs": [],
   "source": [
    "\n",
    "\n",
    "words = pd.DataFrame({'Word': df['word']})\n",
    "\n",
    "words_prof = pd.DataFrame({'word_prof': data['SYNONIMS EXTRAPOLATION REVIEWED'], 'apeal': data['APPEAL TO']})\n"
   ]
  },
  {
   "cell_type": "code",
   "execution_count": 5,
   "metadata": {},
   "outputs": [],
   "source": [
    "for i, r in words.iterrows():\n",
    "    for i1, r1 in words_prof.iterrows():\n",
    "        if r[0] == r1[0]:\n",
    "            if r1[1] =='sentiment':\n",
    "                words.loc[i,'sentiment'] = 1\n",
    "               \n",
    "            elif r1[1] =='behaviour':\n",
    "                words.loc[i,'behaviour'] = 1\n",
    "                \n",
    "            elif r1[1] =='mind':\n",
    "               \n",
    "                words.loc[i,'mind'] = 1\n",
    "                  \n",
    "        \n",
    "\n",
    "\n",
    "               \n",
    "\n"
   ]
  },
  {
   "cell_type": "code",
   "execution_count": 6,
   "metadata": {},
   "outputs": [],
   "source": [
    "words.to_csv('lexicon_v1.csv')"
   ]
  }
 ],
 "metadata": {
  "interpreter": {
   "hash": "e73066c94f8e0a03dc010f90f9bfe8189274fe2970ef1c1470299afeb680a60a"
  },
  "kernelspec": {
   "display_name": "Python 3.9.12 ('py3')",
   "language": "python",
   "name": "python3"
  },
  "language_info": {
   "codemirror_mode": {
    "name": "ipython",
    "version": 3
   },
   "file_extension": ".py",
   "mimetype": "text/x-python",
   "name": "python",
   "nbconvert_exporter": "python",
   "pygments_lexer": "ipython3",
   "version": "3.9.12"
  },
  "orig_nbformat": 4
 },
 "nbformat": 4,
 "nbformat_minor": 2
}
