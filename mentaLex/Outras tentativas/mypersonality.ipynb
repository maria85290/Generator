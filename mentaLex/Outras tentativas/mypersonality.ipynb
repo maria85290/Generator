{
 "cells": [
  {
   "cell_type": "markdown",
   "metadata": {},
   "source": [
    "# Word cloud"
   ]
  },
  {
   "cell_type": "code",
   "execution_count": 4,
   "metadata": {},
   "outputs": [
    {
     "name": "stderr",
     "output_type": "stream",
     "text": [
      "/opt/homebrew/anaconda3/envs/py3/lib/python3.9/site-packages/tqdm/auto.py:22: TqdmWarning: IProgress not found. Please update jupyter and ipywidgets. See https://ipywidgets.readthedocs.io/en/stable/user_install.html\n",
      "  from .autonotebook import tqdm as notebook_tqdm\n",
      "[nltk_data] Downloading package punkt to\n",
      "[nltk_data]     /Users/mariabarbosa/nltk_data...\n",
      "[nltk_data]   Package punkt is already up-to-date!\n"
     ]
    }
   ],
   "source": [
    "import pandas as pd\n",
    "import matplotlib.pyplot as plt\n",
    "from nrclex import NRCLex\n",
    "import nltk\n",
    "import spacy\n",
    "nltk.download('punkt')\n",
    "\n",
    "\n",
    "nlp = spacy.load('en_core_web_md')\n"
   ]
  },
  {
   "cell_type": "code",
   "execution_count": 45,
   "metadata": {},
   "outputs": [
    {
     "name": "stdout",
     "output_type": "stream",
     "text": [
      "                            #AUTHID  \\\n",
      "0  b7b7764cfa1c523e4e93ab2a79a946c4   \n",
      "1  b7b7764cfa1c523e4e93ab2a79a946c4   \n",
      "2  b7b7764cfa1c523e4e93ab2a79a946c4   \n",
      "3  b7b7764cfa1c523e4e93ab2a79a946c4   \n",
      "4  b7b7764cfa1c523e4e93ab2a79a946c4   \n",
      "\n",
      "                                              STATUS  sEXT  sNEU  sAGR  sCON  \\\n",
      "0                        likes the sound of thunder.  2.65   3.0  3.15  3.25   \n",
      "1  is so sleepy it's not even funny that's she ca...  2.65   3.0  3.15  3.25   \n",
      "2  is sore and wants the knot of muscles at the b...  2.65   3.0  3.15  3.25   \n",
      "3         likes how the day sounds in this new song.  2.65   3.0  3.15  3.25   \n",
      "4                                        is home. <3  2.65   3.0  3.15  3.25   \n",
      "\n",
      "   sOPN cEXT cNEU cAGR cCON cOPN               DATE  NETWORKSIZE  BETWEENNESS  \\\n",
      "0   4.4    n    y    n    n    y  06/19/09 03:21 PM        180.0      14861.6   \n",
      "1   4.4    n    y    n    n    y  07/02/09 08:41 AM        180.0      14861.6   \n",
      "2   4.4    n    y    n    n    y  06/15/09 01:15 PM        180.0      14861.6   \n",
      "3   4.4    n    y    n    n    y  06/22/09 04:48 AM        180.0      14861.6   \n",
      "4   4.4    n    y    n    n    y  07/20/09 02:31 AM        180.0      14861.6   \n",
      "\n",
      "   NBETWEENNESS  DENSITY  BROKERAGE  NBROKERAGE  TRANSITIVITY  \n",
      "0         93.29     0.03    15661.0        0.49           0.1  \n",
      "1         93.29     0.03    15661.0        0.49           0.1  \n",
      "2         93.29     0.03    15661.0        0.49           0.1  \n",
      "3         93.29     0.03    15661.0        0.49           0.1  \n",
      "4         93.29     0.03    15661.0        0.49           0.1  \n"
     ]
    }
   ],
   "source": [
    "## Importar o ficheiro csv\n",
    "df = pd.read_csv('mypersonality.csv', index_col=False,sep=',', encoding='ISO 8859-1')\n",
    "print(df.head())"
   ]
  },
  {
   "cell_type": "code",
   "execution_count": 46,
   "metadata": {},
   "outputs": [],
   "source": [
    "# update classifiers to integer value\n",
    "df['cNEU'] = df['cNEU'].map({'n': 0, 'y': 1})\n",
    "df['cAGR'] = df['cAGR'].map({'n': 0, 'y': 1})\n",
    "df['cCON'] = df['cCON'].map({'n': 0, 'y': 1})\n",
    "df['cOPN'] = df['cOPN'].map({'n': 0, 'y': 1})\n",
    "df['cEXT'] = df['cEXT'].map({'n': 0, 'y': 1})"
   ]
  },
  {
   "cell_type": "markdown",
   "metadata": {},
   "source": [
    "## Análise dataset"
   ]
  },
  {
   "cell_type": "code",
   "execution_count": 4,
   "metadata": {},
   "outputs": [
    {
     "name": "stdout",
     "output_type": "stream",
     "text": [
      "O DataSet possui 9917 entradas!\n"
     ]
    }
   ],
   "source": [
    "print(\"O DataSet possui \" + str(len(df)) + \" entradas!\")"
   ]
  },
  {
   "cell_type": "code",
   "execution_count": 72,
   "metadata": {},
   "outputs": [
    {
     "name": "stdout",
     "output_type": "stream",
     "text": [
      "423\n"
     ]
    }
   ],
   "source": [
    "## Verficar se quando um post é Openness, quantas vezes é Agreeableness ou Extroversion;\n",
    "c = 0\n",
    "for row in df.itertuples():\n",
    "    if (row.cOPN == 1 and row.cEXT == 1 and row.cAGR == 1):\n",
    "        c = c +1   \n",
    "   \n",
    "print(c)\n",
    "\n",
    "# c = 423, ou seja em 423 textos de 2467 estão classificados com os 3 valores. Isto n parece ser um problema.\n"
   ]
  },
  {
   "cell_type": "code",
   "execution_count": 73,
   "metadata": {},
   "outputs": [
    {
     "data": {
      "text/html": [
       "<style type=\"text/css\">\n",
       "#T_11d00_row0_col0, #T_11d00_row1_col0, #T_11d00_row2_col0, #T_11d00_row3_col0, #T_11d00_row4_col0, #T_11d00_row5_col0, #T_11d00_row6_col0, #T_11d00_row7_col0 {\n",
       "  background-color: #fff7fb;\n",
       "  color: #000000;\n",
       "}\n",
       "</style>\n",
       "<table id=\"T_11d00\">\n",
       "  <thead>\n",
       "    <tr>\n",
       "      <th class=\"blank level0\" >&nbsp;</th>\n",
       "      <th id=\"T_11d00_level0_col0\" class=\"col_heading level0 col0\" >Missing values</th>\n",
       "    </tr>\n",
       "  </thead>\n",
       "  <tbody>\n",
       "    <tr>\n",
       "      <th id=\"T_11d00_level0_row0\" class=\"row_heading level0 row0\" >#AUTHID</th>\n",
       "      <td id=\"T_11d00_row0_col0\" class=\"data row0 col0\" >0.000000</td>\n",
       "    </tr>\n",
       "    <tr>\n",
       "      <th id=\"T_11d00_level0_row1\" class=\"row_heading level0 row1\" >TEXT</th>\n",
       "      <td id=\"T_11d00_row1_col0\" class=\"data row1 col0\" >0.000000</td>\n",
       "    </tr>\n",
       "    <tr>\n",
       "      <th id=\"T_11d00_level0_row2\" class=\"row_heading level0 row2\" >cEXT</th>\n",
       "      <td id=\"T_11d00_row2_col0\" class=\"data row2 col0\" >0.000000</td>\n",
       "    </tr>\n",
       "    <tr>\n",
       "      <th id=\"T_11d00_level0_row3\" class=\"row_heading level0 row3\" >cNEU</th>\n",
       "      <td id=\"T_11d00_row3_col0\" class=\"data row3 col0\" >0.000000</td>\n",
       "    </tr>\n",
       "    <tr>\n",
       "      <th id=\"T_11d00_level0_row4\" class=\"row_heading level0 row4\" >cAGR</th>\n",
       "      <td id=\"T_11d00_row4_col0\" class=\"data row4 col0\" >0.000000</td>\n",
       "    </tr>\n",
       "    <tr>\n",
       "      <th id=\"T_11d00_level0_row5\" class=\"row_heading level0 row5\" >cCON</th>\n",
       "      <td id=\"T_11d00_row5_col0\" class=\"data row5 col0\" >0.000000</td>\n",
       "    </tr>\n",
       "    <tr>\n",
       "      <th id=\"T_11d00_level0_row6\" class=\"row_heading level0 row6\" >cOPN</th>\n",
       "      <td id=\"T_11d00_row6_col0\" class=\"data row6 col0\" >0.000000</td>\n",
       "    </tr>\n",
       "    <tr>\n",
       "      <th id=\"T_11d00_level0_row7\" class=\"row_heading level0 row7\" >split</th>\n",
       "      <td id=\"T_11d00_row7_col0\" class=\"data row7 col0\" >0.000000</td>\n",
       "    </tr>\n",
       "  </tbody>\n",
       "</table>\n"
      ],
      "text/plain": [
       "<pandas.io.formats.style.Styler at 0x7fc161449940>"
      ]
     },
     "execution_count": 73,
     "metadata": {},
     "output_type": "execute_result"
    }
   ],
   "source": [
    "missing = round((df.isnull().sum()/df.isnull().count()).sort_values(ascending=False)*100,2)\n",
    "missing_info = pd.concat([missing],keys=['Missing values'],axis=1)\n",
    "missing_info.style.background_gradient()"
   ]
  },
  {
   "cell_type": "code",
   "execution_count": 15,
   "metadata": {},
   "outputs": [
    {
     "data": {
      "image/png": "[encoded data removed]",
      "text/plain": [
       "<Figure size 432x288 with 1 Axes>"
      ]
     },
     "metadata": {
      "needs_background": "light"
     },
     "output_type": "display_data"
    }
   ],
   "source": [
    "series = df['cEXT'].value_counts()\n",
    "ax = series.plot(kind='bar', title='Number for each sentiment')\n",
    "ax.set_xlabel('cEXT')\n",
    "ax.set_ylabel('Count')\n",
    "plt.show()"
   ]
  },
  {
   "cell_type": "code",
   "execution_count": 17,
   "metadata": {},
   "outputs": [
    {
     "data": {
      "image/png": "[encoded data removed]",
      "text/plain": [
       "<Figure size 432x288 with 1 Axes>"
      ]
     },
     "metadata": {
      "needs_background": "light"
     },
     "output_type": "display_data"
    }
   ],
   "source": [
    "series = df['cNEU'].value_counts()\n",
    "ax = series.plot(kind='bar', title='Number for each sentiment')\n",
    "ax.set_xlabel('cNEU')\n",
    "ax.set_ylabel('Count')\n",
    "plt.show()"
   ]
  },
  {
   "cell_type": "code",
   "execution_count": 18,
   "metadata": {},
   "outputs": [
    {
     "data": {
      "image/png": "[encoded data removed]",
      "text/plain": [
       "<Figure size 432x288 with 1 Axes>"
      ]
     },
     "metadata": {
      "needs_background": "light"
     },
     "output_type": "display_data"
    }
   ],
   "source": [
    "series = df['cAGR'].value_counts()\n",
    "ax = series.plot(kind='bar', title='Number for each sentiment')\n",
    "ax.set_xlabel('cAGR')\n",
    "ax.set_ylabel('Count')\n",
    "plt.show()"
   ]
  },
  {
   "cell_type": "code",
   "execution_count": 20,
   "metadata": {},
   "outputs": [
    {
     "data": {
      "image/png": "[encoded data removed]",
      "text/plain": [
       "<Figure size 432x288 with 1 Axes>"
      ]
     },
     "metadata": {
      "needs_background": "light"
     },
     "output_type": "display_data"
    }
   ],
   "source": [
    "series = df['cCON'].value_counts()\n",
    "ax = series.plot(kind='bar', title='Number for each sentiment')\n",
    "ax.set_xlabel('cCON')\n",
    "ax.set_ylabel('Count')\n",
    "plt.show()"
   ]
  },
  {
   "cell_type": "code",
   "execution_count": 22,
   "metadata": {},
   "outputs": [
    {
     "data": {
      "image/png": "[encoded data removed]",
      "text/plain": [
       "<Figure size 432x288 with 1 Axes>"
      ]
     },
     "metadata": {
      "needs_background": "light"
     },
     "output_type": "display_data"
    }
   ],
   "source": [
    "series = df['cOPN'].value_counts()\n",
    "ax = series.plot(kind='bar', title='Number for each sentiment')\n",
    "ax.set_xlabel('cOPN')\n",
    "ax.set_ylabel('Count')\n",
    "plt.show()"
   ]
  },
  {
   "cell_type": "markdown",
   "metadata": {},
   "source": [
    "Os 5 gráficos anteriores mostram que o dataset esta balanceado. Encontrando-se uma amostra representativa de todas os cinco traços de personalidade."
   ]
  },
  {
   "cell_type": "markdown",
   "metadata": {},
   "source": [
    "## Tratamento do dataset"
   ]
  },
  {
   "cell_type": "code",
   "execution_count": 47,
   "metadata": {},
   "outputs": [],
   "source": [
    "# Função que faz lematização, retira pontuação e stop words, coloca o texto em minusculas\n",
    "def dataPrep(text):\n",
    "    doc = nlp(text)  \n",
    "    res = \" \".join([token.lemma_.lower() for token in doc if not token.is_stop and not token.is_punct and (token.pos_ == \"VERB\" or token.pos_ == \"ADJ\" or token.pos_ == \"NOUN\")])   \n",
    "    return res"
   ]
  },
  {
   "cell_type": "code",
   "execution_count": 48,
   "metadata": {},
   "outputs": [
    {
     "name": "stderr",
     "output_type": "stream",
     "text": [
      "/var/folders/7v/nzkm4hw14qv5j4fghjbfccgr0000gn/T/ipykernel_895/64402743.py:2: SettingWithCopyWarning: \n",
      "A value is trying to be set on a copy of a slice from a DataFrame\n",
      "\n",
      "See the caveats in the documentation: https://pandas.pydata.org/pandas-docs/stable/user_guide/indexing.html#returning-a-view-versus-a-copy\n",
      "  df['STATUS'][i] = dataPrep(df['STATUS'][i])\n"
     ]
    }
   ],
   "source": [
    "for i in range(len(df)):\n",
    "    df['STATUS'][i] = dataPrep(df['STATUS'][i])"
   ]
  },
  {
   "cell_type": "code",
   "execution_count": 49,
   "metadata": {},
   "outputs": [],
   "source": [
    "df.to_csv('mypersonality_verbs_adj_noun.csv', index=False) "
   ]
  },
  {
   "cell_type": "markdown",
   "metadata": {},
   "source": [
    "Verificar se as palavras do dataset do tweet estão no lexico:"
   ]
  },
  {
   "cell_type": "code",
   "execution_count": 104,
   "metadata": {},
   "outputs": [],
   "source": [
    "A = ['rate', 'town', 'miss', 'friend', 'people', 'new', 'sure', 'go', 'break', 'realize', 'feel', 'rambling', 'stay', 'call', 'surround', 'assume', 'mom', 'happen', 'different', 'regret', 'list', 'guy', 'get', 'leave', 'typing', 'consider', 'child', 'consciousness', 'comfortable', 'certain', 'tell', 'future', 'stream', 'movie', 'visit', 'date', 'bother', 'begin', 'couple', 'bed', 'decide', 'experience', 'come', 'hang', 'class', 'close', 'learn', 'spend', 'writing', 'sound', 'thing', 'reason', 'hurt', 'good', 'watch', 'happy', 'feeling', 'easy', 'old', 'hear', 'sleep', 'home', 'parent', 'roommate', 'help', 'meet', 'weekend', 'mean', 'room', 'assignment', 'week', 'fun', 'night', 'college', 'today', 'little', 'year', 'write', 'talk', 'way', 'guess', 'lot', 'day', 'like', 'want', 'time', 'think']\n",
    "N = ['country', 'crash', 'remember', 'plane', 'pride', 'people', 'backyard', 'greek', 'twin', 'attack', 'lose', 'news', 'watch', 'life', 'tower', 'pledge', 'day', 'today', 'event', 'night', 'reassuring', 'forgetting', 'exauste', 'remembering', 'sorrow', 'prioroty', 'story', 'unite', 'overtake', 'tridelt', 'awesome', 'horrific', 'kill', 'terrorism', 'mourning', 'worship', 'campus', 'praise', 'bark', 'awe', 'girl', 'socialize', 'flag', 'dye', 'second', 'nation', 'retreat', 'participate', 'shock', 'helpful', 'bond', 'disappoint', 'occur', 'risk', 'creative', 'overcome', 'american', 'daily', 'chill', 'stranger', 'field', 'term', 'heat', 'burn', 'background', 'come', 'process', 'system', 'fun', 'quit', 'touch', 'street', 'focus', 'proud', 'join', 'save', 'fight', 'amazing', 'sorority', 'complete', 'number', 'dog', 'year', 'picture', 'time', 'one', 'go', 'know', 'hold', 'think', 'try', 'tv', 'moment', 'cry', 'begin', 'lot', 'important', 'matter', 'teacher', 'excited', 'experience', 'eye', 'house', 'class', 'sad', 'fact', 'close', 'get', 'feel', 'easy', 'thing', 'writing', 'good', 'turn', 'feeling', 'walk', 'call', 'cool', 'family', 'happy', 'old', 'happen', 'help', 'have', 'meet', 'new', 'guy', 'leave', 'love', 'look', 'hope', 'talk', 'school', 'work', 'friend', 'want']\n",
    "O = ['bps', 'upload', 'amused', 'polo', 'ready', 'server', 'arrange', 'swimming', 'ache', 'bag', 'release', 'wind', 'text', 'connect', 'prepare', 'wash', 'responsibility', 'clear', 'thought', 'assignment', 'practice', 'subject', 'letter', 'water', 'conversation', 'internet', 'clock', 'set', 'guess', 'day', 'stress', 'bed', 'sense', 'point', 'book', 'finish', 'feel', 'word', 'end', 'tired', 'time', 'have', 'take', 'read', 'mind', 'today', 'little', 'minute', 'lot', 'need', 'class', 'friend', 'come', 'get']\n",
    "\n",
    "\n",
    "C = ['amused', 'bps', 'polo', 'upload', 'ready', 'server', 'arrange', 'swimming', 'release', 'text', 'bag', 'ache', 'wind', 'connect', 'responsibility', 'clear', 'prepare', 'thought', 'wash', 'conversation', 'assignment', 'practice', 'subject', 'letter', 'water', 'internet', 'clock', 'set', 'guess', 'sense', 'day', 'point', 'stress', 'bed', 'book', 'word', 'finish', 'feel', 'end', 'time', 'tired', 'have', 'read', 'mind', 'take', 'little', 'today', 'minute', 'lot', 'need', 'friend', 'come', 'class', 'get'] \n",
    "\n",
    "E = ['upload', 'bps', 'amused', 'polo', 'server', 'ready', 'arrange', 'swimming', 'text', 'release', 'ache', 'wind', 'bag', 'connect', 'responsibility', 'clear', 'thought', 'prepare', 'wash', 'assignment', 'practice', 'conversation', 'letter', 'subject', 'water', 'internet', 'clock', 'guess', 'set', 'sense', 'day', 'bed', 'point', 'stress', 'book', 'finish', 'word', 'feel', 'end', 'time', 'tired', 'have', 'read', 'take', 'mind', 'today', 'little', 'minute', 'lot', 'need', 'come', 'class', 'friend', 'get']"
   ]
  },
  {
   "cell_type": "code",
   "execution_count": 52,
   "metadata": {},
   "outputs": [
    {
     "name": "stdout",
     "output_type": "stream",
     "text": [
      "87 54 136\n",
      "228\n"
     ]
    }
   ],
   "source": [
    "print(len(A),len(O),len(N))\n",
    "words_lexico = set(A + O + N)\n",
    "print(len(words_lexico))\n"
   ]
  },
  {
   "cell_type": "code",
   "execution_count": 55,
   "metadata": {},
   "outputs": [
    {
     "name": "stdout",
     "output_type": "stream",
     "text": [
      "6887\n",
      "3030\n",
      "228\n",
      "percentagem de palavras do lexico no dataser do twitter  0.6944640516285167\n"
     ]
    }
   ],
   "source": [
    "# são 9917  entradas\n",
    "\n",
    "text = []\n",
    "words_lexico = A + O + N# O + C +E+ A+ N\n",
    "c = 0\n",
    "n = 0\n",
    "for row in df.itertuples():\n",
    "        words_twitter = row.STATUS.split()\n",
    "        for w in words_twitter:\n",
    "                if w in words_lexico:\n",
    "                        c = c + 1\n",
    "                        break\n",
    "        \n",
    "\n",
    "print(c)\n",
    "print(9917 - c)\n",
    "print(len(set(words_lexico)))\n",
    "print('percentagem de palavras do lexico no dataser do twitter ' ,c/9917)"
   ]
  },
  {
   "cell_type": "code",
   "execution_count": 19,
   "metadata": {},
   "outputs": [
    {
     "name": "stdout",
     "output_type": "stream",
     "text": [
      "4076\n",
      "5841\n",
      "92\n",
      "percentagem de palavras do lexico no dataser do twitter  0.41101139457497227\n"
     ]
    }
   ],
   "source": [
    "# são 9917  entradas\n",
    "\n",
    "text = []\n",
    "words_lexico = []\n",
    "c = 0\n",
    "n = 0\n",
    "for row in df.itertuples():\n",
    "        words_lexico = []\n",
    "\n",
    "        if (row.cOPN == 'y'):\n",
    "             words_lexico =  words_lexico + O\n",
    "        if (row.cNEU == 'y'):\n",
    "                 words_lexico =  words_lexico + N\n",
    "        if (row.cAGR == 'y'):\n",
    "               words_lexico =  words_lexico + A\n",
    "        if (row.cCON == 'y'):\n",
    "                words_lexico =  words_lexico + C\n",
    "        if (row.cEXT == 'y'):\n",
    "                 words_lexico =  words_lexico + E\n",
    "\n",
    "        words_twitter = row.STATUS.split()\n",
    "\n",
    "        for w in words_twitter:\n",
    "                if w in words_lexico:\n",
    "                        c = c + 1\n",
    "                        break\n",
    "        \n",
    "\n",
    "print(c)\n",
    "print(9917 - c)\n",
    "print(len(set(words_lexico)))\n",
    "print('percentagem de palavras do lexico no dataser do twitter ' ,c/9917)"
   ]
  },
  {
   "cell_type": "markdown",
   "metadata": {},
   "source": [
    "# AUMENTO DO LEXICO\n",
    "\n",
    " recorrendo a sinonimos das palavras que o compoe"
   ]
  },
  {
   "cell_type": "code",
   "execution_count": 108,
   "metadata": {},
   "outputs": [],
   "source": [
    "from nltk.corpus import wordnet as wn\n",
    "\n",
    "\n",
    "def synonyms (list_words):\n",
    "\n",
    "    synonyms_traits  = []\n",
    "    for word in list_words:\n",
    "        synonyms = []\n",
    "\n",
    "        for syn in wn.synsets(word):\n",
    "                for l in syn.lemmas():\n",
    "                    doc = nlp(l.name())\n",
    "                    s = [ str(token) for token in doc if (token.pos_ == \"VERB\" or token.pos_ == \"NOUN\" or token.pos_ == \"ADJ\")] \n",
    "                    synonyms = synonyms + s\n",
    "        synonyms_traits = synonyms_traits + synonyms\n",
    "                    \n",
    "    # print(set(synonyms_traits))\n",
    "\n",
    "    syn_final_list =  set (list_words + synonyms_traits)\n",
    "    return syn_final_list"
   ]
  },
  {
   "cell_type": "code",
   "execution_count": 96,
   "metadata": {},
   "outputs": [],
   "source": [
    "O_syn = synonyms (O)\n",
    "A_syn = synonyms (A)\n",
    "N_syn = synonyms (N)"
   ]
  },
  {
   "cell_type": "code",
   "execution_count": 107,
   "metadata": {},
   "outputs": [
    {
     "ename": "TypeError",
     "evalue": "cannot unpack non-iterable spacy.tokens.token.Token object",
     "output_type": "error",
     "traceback": [
      "\u001b[0;31m---------------------------------------------------------------------------\u001b[0m",
      "\u001b[0;31mTypeError\u001b[0m                                 Traceback (most recent call last)",
      "\u001b[1;32m/Users/mariabarbosa/Desktop/personalex/mypersonality.ipynb Cell 27'\u001b[0m in \u001b[0;36m<cell line: 4>\u001b[0;34m()\u001b[0m\n\u001b[1;32m      <a href='vscode-notebook-cell:/Users/mariabarbosa/Desktop/personalex/mypersonality.ipynb#ch0000038?line=1'>2</a>\u001b[0m adj \u001b[39m=\u001b[39m \u001b[39m0\u001b[39m\n\u001b[1;32m      <a href='vscode-notebook-cell:/Users/mariabarbosa/Desktop/personalex/mypersonality.ipynb#ch0000038?line=2'>3</a>\u001b[0m verb \u001b[39m=\u001b[39m \u001b[39m0\u001b[39m\n\u001b[0;32m----> <a href='vscode-notebook-cell:/Users/mariabarbosa/Desktop/personalex/mypersonality.ipynb#ch0000038?line=3'>4</a>\u001b[0m \u001b[39mfor\u001b[39;00m i,j \u001b[39min\u001b[39;00m \u001b[39mlist\u001b[39m(\u001b[39mset\u001b[39m(N_syn)):\n\u001b[1;32m      <a href='vscode-notebook-cell:/Users/mariabarbosa/Desktop/personalex/mypersonality.ipynb#ch0000038?line=4'>5</a>\u001b[0m     \u001b[39mif\u001b[39;00m (j\u001b[39m==\u001b[39m \u001b[39m\"\u001b[39m\u001b[39mVERB\u001b[39m\u001b[39m\"\u001b[39m):\n\u001b[1;32m      <a href='vscode-notebook-cell:/Users/mariabarbosa/Desktop/personalex/mypersonality.ipynb#ch0000038?line=5'>6</a>\u001b[0m             verb \u001b[39m=\u001b[39m verb \u001b[39m+\u001b[39m \u001b[39m1\u001b[39m\n",
      "\u001b[0;31mTypeError\u001b[0m: cannot unpack non-iterable spacy.tokens.token.Token object"
     ]
    }
   ],
   "source": [
    "noum = 0\n",
    "adj = 0\n",
    "verb = 0\n",
    "for i,j in list(set(N_syn)):\n",
    "    if (j== \"VERB\"):\n",
    "            verb = verb + 1\n",
    "    elif (j == \"NOUN\"):\n",
    "        noum = noum + 1\n",
    "    elif (j== \"ADJ\"):\n",
    "        adj = adj + 1\n",
    "(noum, adj, verb , (noum + adj + verb))\n",
    "\n"
   ]
  },
  {
   "cell_type": "code",
   "execution_count": 109,
   "metadata": {},
   "outputs": [
    {
     "name": "stdout",
     "output_type": "stream",
     "text": [
      "schizoid:  817 ; paranoid:  1090 ; Neuroticism:  1527\n",
      "tamanho corpus sem elemntos repetidos  2411 tamnaho real corpus  3434\n",
      "numero de elementos repetidos  1023\n"
     ]
    }
   ],
   "source": [
    "''''\n",
    "ignorando big 5\n",
    "'''\n",
    "#doc = nlp(' '.join(list(O_syn)) )\n",
    "\n",
    "O_syn = synonyms (O)\n",
    "A_syn =synonyms (A)\n",
    "N_syn =synonyms (N)\n",
    "\n",
    "\n",
    "\n",
    "\n",
    "\n",
    "print('schizoid: ', len(O_syn), '; paranoid: ' , len(A_syn),'; Neuroticism: ', len(N_syn))\n",
    "\n",
    "tamanho = len(list(O_syn) + list(A_syn) + list(N_syn))\n",
    "\n",
    "tamanho_sem_repetidos = len (set(list(O_syn) +  list(A_syn) + list(N_syn)))\n",
    "\n",
    "print('tamanho corpus sem elemntos repetidos ', tamanho_sem_repetidos, 'tamnaho real corpus ', tamanho)\n",
    "\n",
    "\n",
    "print('numero de elementos repetidos ', tamanho -tamanho_sem_repetidos)"
   ]
  },
  {
   "cell_type": "code",
   "execution_count": 82,
   "metadata": {},
   "outputs": [
    {
     "name": "stdout",
     "output_type": "stream",
     "text": [
      "PROPN\n",
      "PROPN\n",
      "PRON\n",
      "NUM\n",
      "PROPN\n",
      "PROPN\n",
      "PROPN\n",
      "PROPN\n",
      "ADV\n",
      "PROPN\n",
      "PROPN\n",
      "PROPN\n",
      "PROPN\n",
      "PRON\n",
      "PROPN\n",
      "PROPN\n",
      "PROPN\n",
      "PROPN\n",
      "PROPN\n",
      "PROPN\n",
      "PROPN\n",
      "PROPN\n",
      "PROPN\n",
      "PROPN\n",
      "PROPN\n",
      "PROPN\n",
      "PROPN\n",
      "PROPN\n",
      "PROPN\n",
      "PROPN\n",
      "PROPN\n",
      "PROPN\n",
      "PROPN\n",
      "PROPN\n",
      "PROPN\n",
      "PROPN\n",
      "AUX\n",
      "PROPN\n",
      "X\n",
      "PROPN\n",
      "PROPN\n",
      "PROPN\n",
      "PROPN\n",
      "PROPN\n",
      "ADP\n",
      "ADP\n",
      "PROPN\n",
      "PROPN\n",
      "PROPN\n",
      "PROPN\n",
      "PROPN\n",
      "PROPN\n",
      "PROPN\n",
      "PROPN\n",
      "PROPN\n",
      "PROPN\n",
      "PROPN\n",
      "PROPN\n",
      "PROPN\n",
      "PROPN\n",
      "PROPN\n",
      "PRON\n",
      "NUM\n",
      "PROPN\n",
      "PROPN\n",
      "PROPN\n",
      "ADP\n",
      "PROPN\n",
      "AUX\n",
      "PROPN\n",
      "PROPN\n",
      "PROPN\n",
      "PROPN\n",
      "PROPN\n",
      "PROPN\n",
      "PROPN\n",
      "PART\n",
      "PROPN\n",
      "PROPN\n",
      "PROPN\n",
      "PROPN\n",
      "PROPN\n",
      "PROPN\n",
      "NUM\n",
      "PROPN\n",
      "PROPN\n",
      "PROPN\n",
      "PROPN\n",
      "PROPN\n",
      "AUX\n",
      "AUX\n",
      "X\n",
      "PROPN\n",
      "PROPN\n",
      "ADP\n",
      "AUX\n",
      "PROPN\n",
      "PROPN\n"
     ]
    },
    {
     "data": {
      "text/plain": [
       "(0, 181, 91)"
      ]
     },
     "execution_count": 82,
     "metadata": {},
     "output_type": "execute_result"
    }
   ],
   "source": [
    "#or token.pos_ == \"ADJ\" or token.pos_ == \"NOUM\")\n",
    "adj = 0\n",
    "verb = 0\n",
    "noun= 0\n",
    "nlp = spacy.load('en_core_web_md')\n",
    "doc = nlp(' '.join(list(O_syn)) )\n",
    "for token in doc:\n",
    "\n",
    "    if (token.pos_ == \"VERB\"):\n",
    "            verb = verb + 1\n",
    "    elif (token.pos_ == \"NOUN\"):\n",
    "        noum = noum + 1\n",
    "    elif (token.pos_ == \"ADJ\"):\n",
    "        adj = adj + 1\n",
    "    else:\n",
    "         print(token.pos_)\n",
    "\n",
    "\n",
    "\n",
    "noun,verb, adj"
   ]
  },
  {
   "cell_type": "code",
   "execution_count": null,
   "metadata": {},
   "outputs": [],
   "source": [
    "O_syn = synonyms (O)\n",
    "C_syn =synonyms (C)\n",
    "E_syn =synonyms (E)\n",
    "A_syn =synonyms (A)\n",
    "N_syn =synonyms (N)\n",
    "\n",
    "\n",
    "\n",
    "tamanho = len(list(O_syn) + list(C_syn) + list(E_syn) + list(A_syn) + list(N_syn))\n",
    "\n",
    "tamanho_sem_repetidos = len (set(list(O_syn) + list(C_syn) + list(E_syn) + list(A_syn) + list(N_syn)))\n",
    "\n",
    "print(tamanho_sem_repetidos,tamanho )\n",
    "\n",
    "\n",
    "print(tamanho -tamanho_sem_repetidos)"
   ]
  },
  {
   "cell_type": "code",
   "execution_count": 111,
   "metadata": {},
   "outputs": [
    {
     "name": "stdout",
     "output_type": "stream",
     "text": [
      "3434\n",
      "8042\n",
      "1875\n",
      "2411\n",
      "percentagem de palavras do lexico no dataser do twitter  0.8109307250176465\n"
     ]
    }
   ],
   "source": [
    "# são 9917  entradas\n",
    "\n",
    "text = []\n",
    "words_lexico = list(O_syn) + list(A_syn) + list(N_syn) #list(O_syn) + list(C_syn) + list(E_syn) + list(A_syn) + list(N_syn)\n",
    "print(len(words_lexico))\n",
    "c = 0\n",
    "n = 0\n",
    "for row in df.itertuples():\n",
    "        words_twitter = row.STATUS.split()\n",
    "        for w in words_twitter:\n",
    "                if w in words_lexico:\n",
    "                        c = c + 1\n",
    "                        break\n",
    "        \n",
    "\n",
    "print(c)\n",
    "print(9917 - c)\n",
    "print(len(set(words_lexico)))\n",
    "print('percentagem de palavras do lexico no dataser do twitter ' ,c/9917)"
   ]
  },
  {
   "cell_type": "code",
   "execution_count": 112,
   "metadata": {},
   "outputs": [
    {
     "name": "stdout",
     "output_type": "stream",
     "text": [
      "6774\n",
      "3143\n",
      "2019\n",
      "percentagem de classificaçao correta:  0.6830694766562468\n"
     ]
    }
   ],
   "source": [
    "# são 9917  entradas\n",
    "''''\n",
    "PARA O BIG 5\n",
    "\n",
    "text = []\n",
    "words_lexico = []\n",
    "c = 0\n",
    "n = 0\n",
    "for row in df.itertuples():\n",
    "        words_lexico = []\n",
    "\n",
    "        if (row.cOPN == 'y'):\n",
    "             words_lexico =  words_lexico + list(O_syn)\n",
    "        if (row.cNEU == 'y'):\n",
    "                 words_lexico =  words_lexico + list(N_syn)\n",
    "        if (row.cAGR == 'y'):\n",
    "               words_lexico =  words_lexico + list(A_syn)\n",
    "        if (row.cCON == 'y'):\n",
    "                words_lexico =  words_lexico + list(C_syn)\n",
    "        if (row.cEXT == 'y'):\n",
    "                 words_lexico =  words_lexico + list(E_syn)\n",
    "\n",
    "        words_twitter = row.STATUS.split()\n",
    "\n",
    "        for w in words_twitter:\n",
    "                if w in words_lexico:\n",
    "                        c = c + 1\n",
    "                        break\n",
    "        \n",
    "\n",
    "print(c)\n",
    "print(9917 - c)\n",
    "print(len(set(words_lexico)))\n",
    "print('percentagem de palavras do lexico no dataser do twitter ' ,c/9917)\n",
    "\n",
    "'''\n",
    "\n",
    "\n",
    "text = []\n",
    "words_lexico = []\n",
    "c = 0\n",
    "n = 0\n",
    "for row in df.itertuples():\n",
    "        words_lexico = []\n",
    "\n",
    "        if (row.cOPN == 1):\n",
    "             words_lexico =  words_lexico + list(O_syn)\n",
    "        if (row.cNEU == 1):\n",
    "                 words_lexico =  words_lexico + list(N_syn)\n",
    "        if (row.cAGR == 1):\n",
    "               words_lexico =  words_lexico + list(A_syn)\n",
    "        if (row.cCON == 1):\n",
    "                words_lexico =  words_lexico + []\n",
    "        if (row.cEXT == 1):\n",
    "                 words_lexico =  words_lexico + []\n",
    "\n",
    "        words_twitter = row.STATUS.split()\n",
    "\n",
    "        for w in words_twitter:\n",
    "                if w in words_lexico:\n",
    "                        c = c + 1\n",
    "                        break\n",
    "        \n",
    "\n",
    "print(c)\n",
    "print(9917 - c)\n",
    "print(len(set(words_lexico)))\n",
    "print('percentagem de classificaçao correta: ' ,c/9917)\n"
   ]
  },
  {
   "cell_type": "markdown",
   "metadata": {},
   "source": [
    "## Análise de emoções\n",
    "\n",
    "### EmotionMeter.com (dr ricardo)"
   ]
  },
  {
   "cell_type": "code",
   "execution_count": 114,
   "metadata": {},
   "outputs": [],
   "source": [
    "'''\n",
    "Funçao reponsavel por realizar analise de sentimentos aos tweets;\n",
    "\n",
    "@author emotionsmater.com\n",
    "'''\n",
    "import requests\n",
    "\n",
    "def sentimentAnalysis(list_tweets,lang):\n",
    "    body = {\n",
    "\n",
    "        \"messages\": list_tweets,\n",
    "        \"language\": lang\n",
    "\n",
    "        }\n",
    "\n",
    "    request = requests.post(\"http://146.59.159.119:9777/\", json = body)\n",
    "    return (request.text.encode().decode('unicode-escape') , request.status_code)\n",
    "\n",
    "\n"
   ]
  },
  {
   "cell_type": "code",
   "execution_count": 46,
   "metadata": {},
   "outputs": [
    {
     "data": {
      "text/plain": [
       "('{\"ola, tuo bem\":{\"emotions\":{\"anger\":0.0,\"anticipation\":0.0,\"disgust\":0.0,\"fear\":0.0,\"joy\":0.0,\"sadness\":0.0,\"surprise\":0.0,\"trust\":0.0},\"polarities\":{\"negative\":0.0,\"positive\":1.0}}}\\n',\n",
       " 200)"
      ]
     },
     "execution_count": 46,
     "metadata": {},
     "output_type": "execute_result"
    }
   ],
   "source": [
    "sentimentAnalysis (['ola, tuo bem'], 'pt')"
   ]
  },
  {
   "cell_type": "code",
   "execution_count": 125,
   "metadata": {},
   "outputs": [],
   "source": [
    "p = 0\n",
    "n = 0\n",
    "neutro = 0\n",
    "\n",
    "import json\n",
    "\n",
    "#data = pd.read_csv('mypersonality.csv', index_col=False,sep=',', encoding='ISO 8859-1')\n",
    "\n",
    "\n",
    "\n",
    "words_twitter = list(N_syn)\n",
    "\n",
    "status_code = 0 ## Valor inicial \n",
    "\n",
    "while (status_code != 200):\n",
    "        emotions, status_code = sentimentAnalysis(words_twitter,'en')\n",
    "playload_emotions = json.loads(emotions)\n",
    "\n",
    "\n",
    "\n",
    "\n",
    "\n",
    "       # emotion['emotions']['anger']\n"
   ]
  },
  {
   "cell_type": "code",
   "execution_count": 126,
   "metadata": {},
   "outputs": [
    {
     "data": {
      "text/plain": [
       "(166, 151)"
      ]
     },
     "execution_count": 126,
     "metadata": {},
     "output_type": "execute_result"
    }
   ],
   "source": [
    "n = 0\n",
    "p = 0\n",
    "for i,j in playload_emotions.items():\n",
    "    if j['polarities']['negative'] > j['polarities']['positive']:\n",
    "        n = n + 1\n",
    "    elif j['polarities']['negative'] < j['polarities']['positive']:\n",
    "        p = p + 1\n",
    "\n",
    "\n",
    "p,n\n",
    "\n",
    "#oPEN = (64, 49)\n",
    "#A = (102, 103)"
   ]
  },
  {
   "cell_type": "code",
   "execution_count": null,
   "metadata": {},
   "outputs": [],
   "source": [
    "\n",
    "if list(playload_emotions.values())[0]['polarities']['negative'] == list(playload_emotions.values())[0]['polarities']['positive']:\n",
    "        neutro = neutro + 1\n",
    "elif list(playload_emotions.values())[0]['polarities']['negative'] > list(playload_emotions.values())[0]['polarities']['positive']:\n",
    "        n = n + 1\n",
    "else:\n",
    "        p = p +1\n",
    "\n",
    "print(p, n, neutro)"
   ]
  },
  {
   "cell_type": "code",
   "execution_count": null,
   "metadata": {},
   "outputs": [],
   "source": []
  },
  {
   "cell_type": "markdown",
   "metadata": {},
   "source": [
    "# Criar CSV lexico:\n",
    "\n"
   ]
  },
  {
   "cell_type": "code",
   "execution_count": 131,
   "metadata": {},
   "outputs": [],
   "source": [
    "d ={ \"paranoid\" : list(A_syn), \"schizoid\": list(O_syn), \"Neuroticism\": list(N_syn) }"
   ]
  },
  {
   "cell_type": "code",
   "execution_count": 132,
   "metadata": {},
   "outputs": [],
   "source": [
    "# Writing to sample.json\n",
    "with open(\"MentaLex.json\", \"w\") as outfile:\n",
    "    json.dump(d, outfile)"
   ]
  }
 ],
 "metadata": {
  "interpreter": {
   "hash": "e73066c94f8e0a03dc010f90f9bfe8189274fe2970ef1c1470299afeb680a60a"
  },
  "kernelspec": {
   "display_name": "Python 3.9.12 ('py3')",
   "language": "python",
   "name": "python3"
  },
  "language_info": {
   "codemirror_mode": {
    "name": "ipython",
    "version": 3
   },
   "file_extension": ".py",
   "mimetype": "text/x-python",
   "name": "python",
   "nbconvert_exporter": "python",
   "pygments_lexer": "ipython3",
   "version": "3.9.12"
  },
  "orig_nbformat": 4
 },
 "nbformat": 4,
 "nbformat_minor": 2
}
