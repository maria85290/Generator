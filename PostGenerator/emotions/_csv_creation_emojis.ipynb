{
 "cells": [
  {
   "cell_type": "markdown",
   "metadata": {},
   "source": [
    "## Emojis, CSV file with the lexicon\n",
    "\n",
    "CSV criado a partid do lexico: http://kt.ijs.si/data/Emoji_sentiment_ranking/index.html\n",
    "que atribui a cada emoji um grau de sentimento \n"
   ]
  },
  {
   "cell_type": "code",
   "execution_count": 1,
   "metadata": {},
   "outputs": [
    {
     "name": "stderr",
     "output_type": "stream",
     "text": [
      "/opt/homebrew/anaconda3/envs/py3/lib/python3.9/site-packages/requests/__init__.py:102: RequestsDependencyWarning: urllib3 (1.26.9) or chardet (5.0.0)/charset_normalizer (2.0.12) doesn't match a supported version!\n",
      "  warnings.warn(\"urllib3 ({}) or chardet ({})/charset_normalizer ({}) doesn't match a supported \"\n"
     ]
    }
   ],
   "source": [
    "from random import choice\n",
    "import emoji #https://carpedm20.github.io/emoji/\n",
    "import pandas as pd\n",
    "import os\n",
    "import json\n",
    "import requests\n"
   ]
  },
  {
   "cell_type": "code",
   "execution_count": 3,
   "metadata": {},
   "outputs": [],
   "source": [
    "## Extrair avaliçoes communs no snopes\n",
    "evaluations = []\n",
    "for file in os.listdir(\"../../../extractors/Snopes/extractions\"):\n",
    "        with open(\"../../../extractors/Snopes/extractions/\" + file) as f:\n",
    "            data = json.load(f)\n",
    "            f.close()\n",
    "        if data['evaluation'] not in evaluations:\n",
    "            evaluations.append(data['evaluation'])\n"
   ]
  },
  {
   "cell_type": "code",
   "execution_count": 29,
   "metadata": {},
   "outputs": [],
   "source": [
    "def sentimentEmoji():\n",
    "    \n",
    "    url = \"http://kt.ijs.si/data/Emoji_sentiment_ranking/index.html\"\n",
    "\n",
    "    r = requests.get(url)\n",
    "    df_list = pd.read_html(r.text) # this parses all the tables in webpages to a list\n",
    "    df = df_list[0]\n",
    "    df.columns = [c.replace(' ', '_') for c in df.columns]\n",
    "    df = df[df['Occurrences[5...max]']> 100]\n",
    "    negative_emojis  = list(df[df['Sentiment_score[-1...+1]'] < 0 ].Char)\n",
    "    positive_emojis = list(df[df['Sentiment_score[-1...+1]'] >= 0].Char)\n",
    "    return negative_emojis, positive_emojis\n",
    "\n"
   ]
  },
  {
   "cell_type": "code",
   "execution_count": 31,
   "metadata": {},
   "outputs": [],
   "source": [
    "neg, pos = sentimentEmoji()\n",
    "emojis = []\n",
    "classification = []\n",
    "\n",
    "for i in neg:\n",
    "    emojis.append(i)\n",
    "    classification.append('negative')\n",
    "\n",
    "for i in pos:\n",
    "    emojis.append(i)\n",
    "    classification.append('positive')\n",
    "\n",
    "\n",
    "## Create a dataframe  \n",
    "import pandas as pd\n",
    "  \n",
    "data = {'emojis': emojis,\n",
    "        'classification': classification}\n",
    "  \n",
    "df = pd.DataFrame(data)\n",
    "  \n",
    "\n",
    "   \n",
    "df.to_csv('emojis_sentiment_lexicon.csv', index=False)\n",
    " \n"
   ]
  }
 ],
 "metadata": {
  "interpreter": {
   "hash": "e73066c94f8e0a03dc010f90f9bfe8189274fe2970ef1c1470299afeb680a60a"
  },
  "kernelspec": {
   "display_name": "Python 3.9.12 ('py3')",
   "language": "python",
   "name": "python3"
  },
  "language_info": {
   "codemirror_mode": {
    "name": "ipython",
    "version": 3
   },
   "file_extension": ".py",
   "mimetype": "text/x-python",
   "name": "python",
   "nbconvert_exporter": "python",
   "pygments_lexer": "ipython3",
   "version": "3.9.12"
  },
  "orig_nbformat": 4
 },
 "nbformat": 4,
 "nbformat_minor": 2
}
