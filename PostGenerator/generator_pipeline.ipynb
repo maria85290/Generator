{
 "cells": [
  {
   "cell_type": "markdown",
   "id": "4abe034c",
   "metadata": {},
   "source": [
    "# Generator\n",
    "\n",
    "Ferramenta que pega no conteudo das noticias (em formato json) e gera posts.\n",
    "Para isso são executados os seguintes passos:\n",
    "\n",
    "   1) Obtenção do core do texto:\n",
    "      -  T5 \n",
    "      - Allegation sentence\n",
    "\n",
    "   2) Adição de emoção: \n",
    "      - Emojis\n",
    "      - Hahstags\n",
    "      - Caps lock\n",
    "      - interjection\n",
    "\n",
    "   3) Adição de personalidade\n",
    "\n"
   ]
  },
  {
   "cell_type": "code",
   "execution_count": 1,
   "id": "544627d9",
   "metadata": {},
   "outputs": [],
   "source": [
    "## Importes necessarios\n",
    "\n",
    "import os\n",
    "\n",
    "import json\n",
    "import pandas as pd\n",
    "import random\n"
   ]
  },
  {
   "cell_type": "code",
   "execution_count": 2,
   "id": "14ba522c",
   "metadata": {},
   "outputs": [],
   "source": [
    "'''\n",
    "verificar se um post (em formato de string) tem um formato válido de um microblog:\n",
    "     1) 0 < número de carateres ≥ 280 \n",
    "'''\n",
    "\n",
    "\n",
    "def verify_length(post):\n",
    "    content = \"\"\n",
    "\n",
    "    for i in post:\n",
    "        if type(post[i]) == str:\n",
    "            content = content + \" \" + post[i] \n",
    "        else:\n",
    "            content = content + \" \" + ' '.join(post[i]) \n",
    "    if len(content)>280:\n",
    "        return False\n",
    "    return True"
   ]
  },
  {
   "cell_type": "code",
   "execution_count": 3,
   "id": "91beee11",
   "metadata": {},
   "outputs": [
    {
     "name": "stderr",
     "output_type": "stream",
     "text": [
      "/opt/homebrew/anaconda3/envs/py3/lib/python3.9/site-packages/requests/__init__.py:102: RequestsDependencyWarning: urllib3 (1.26.9) or chardet (5.0.0)/charset_normalizer (2.0.12) doesn't match a supported version!\n",
      "  warnings.warn(\"urllib3 ({}) or chardet ({})/charset_normalizer ({}) doesn't match a supported \"\n"
     ]
    }
   ],
   "source": [
    "from TextCore import T5 \n",
    "\n",
    "def allegation_sentence (data):\n",
    "    claim = \"It's \" + data['evaluation'] + ' that '+ data['allegation']\n",
    "    return claim\n",
    "\n",
    "\n",
    "def post_core (data, core_model):\n",
    "    \n",
    "    if core_model == \"t5\":\n",
    "        core = T5.T5_summarization_model(' '.join(data['postText']))\n",
    "    else:\n",
    "        core = allegation_sentence (data)\n",
    "    return core"
   ]
  },
  {
   "cell_type": "code",
   "execution_count": 4,
   "id": "3e1bc62b",
   "metadata": {},
   "outputs": [
    {
     "name": "stderr",
     "output_type": "stream",
     "text": [
      "[nltk_data] Downloading package wordnet to\n",
      "[nltk_data]     /Users/mariabarbosa/nltk_data...\n",
      "[nltk_data]   Package wordnet is already up-to-date!\n",
      "[nltk_data] Downloading package stopwords to\n",
      "[nltk_data]     /Users/mariabarbosa/nltk_data...\n",
      "[nltk_data]   Package stopwords is already up-to-date!\n",
      "[nltk_data] Downloading package omw-1.4 to\n",
      "[nltk_data]     /Users/mariabarbosa/nltk_data...\n",
      "[nltk_data]   Package omw-1.4 is already up-to-date!\n"
     ]
    }
   ],
   "source": [
    "from emotions import hashtags_generetor\n",
    "from emotions import emojis\n",
    "from emotions import interjections\n",
    "from emotions import caps_lock\n",
    "\n",
    "\n",
    "\n",
    "def add_emotion(data,core, emoji , hashtag , capslock  , intejections ):\n",
    "    post = {}\n",
    "    post['url'] = data['url']\n",
    "    ## Não adiciona mais conteudo por isso não é necessario verificar tamanho\n",
    "    if capslock: \n",
    "        post['core']  = caps_lock.capslock(core)\n",
    "    else:\n",
    "        post['core'] = core\n",
    "        \n",
    "    post['emojis'] = []\n",
    "    if emoji and verify_length(post): \n",
    "        post['emojis'].append(emojis.emojis_sellection(data['evaluation']))\n",
    "   \n",
    "    post['hashtags'] = []\n",
    "    if hashtag and verify_length(post):\n",
    "        hashtag_list = hashtags_generetor.generateHashtags(data['postText'])\n",
    "        for h in hashtag_list:\n",
    "            post['hashtags'].append('#'+h)\n",
    "        \n",
    "    post['interjections'] = [] \n",
    "    if intejections and verify_length(post): \n",
    "        post['interjections'].append(interjections.interjections(data['evaluation']))\n",
    "\n",
    "\n",
    "    if emoji and verify_length(post): \n",
    "        #adicionar mais emojis se ainda\n",
    "        seed = random.randint(0,5)\n",
    "        while verify_length(post) and seed < 5:\n",
    "            post['emojis'].append(emojis.emojis_sellection(data['evaluation']))\n",
    "            seed = seed + 1\n",
    "\n",
    "    ## Post fica com ordem alaetoria.\n",
    "   # core_with_emotion = random.shuffle(post) \n",
    "\n",
    "    return post"
   ]
  },
  {
   "cell_type": "code",
   "execution_count": 5,
   "id": "578dac7c",
   "metadata": {},
   "outputs": [],
   "source": [
    "def generator (data,core_model='t5', emoji = 1, hashtag = 1, caps_lock =1 , intejections = 1):\n",
    "  '''\n",
    "  data -> Conteudo do json file\n",
    "  '''\n",
    "  \n",
    "  ## Obter o core do post\n",
    "  core = post_core (data, core_model)\n",
    "  \n",
    "  ## dar emoção ao core\n",
    "  core_with_emotion = add_emotion(data, core, emoji , hashtag , caps_lock  , intejections )\n",
    "\n",
    "  ## dar personalidade\n",
    "  final_post = core_with_emotion  \n",
    "\n",
    "  return final_post  \n",
    "\n",
    "        \n",
    "        "
   ]
  },
  {
   "cell_type": "code",
   "execution_count": 6,
   "id": "3cab01ef",
   "metadata": {},
   "outputs": [
    {
     "name": "stdout",
     "output_type": "stream",
     "text": [
      "{'url': 'https://www.snopes.com/fact-check/valentines-day-invented-greeting-card-companies/', 'core': 'Its false that VALENTINES DAY was INVENTED by GREETING CARD companies', 'emojis': ['😩', '😡'], 'hashtags': ['#according', '#holiday'], 'interjections': ['oops']}\n"
     ]
    }
   ],
   "source": [
    "for file in os.listdir(\"../../extractors/Snopes/extractions\")[:1]:\n",
    "        with open(\"../../extractors/Snopes/extractions/\" + file) as f:\n",
    "            data = json.load(f)\n",
    "            f.close()\n",
    "            print(generator(data, 'allegation_Sentence'))\n",
    "\n",
    "            "
   ]
  },
  {
   "cell_type": "code",
   "execution_count": null,
   "id": "41e0d9be",
   "metadata": {},
   "outputs": [],
   "source": [
    "\n",
    "##### Read the json files with de news\n",
    "for file in os.listdir(\"../../extractors/Snopes/exemplo\"):\n",
    "    with open(\"../../extractors/Snopes/exemplo/\" + file) as f:\n",
    "        data = json.load(f)\n",
    "        f.close()\n",
    "            "
   ]
  }
 ],
 "metadata": {
  "kernelspec": {
   "display_name": "Python 3 (ipykernel)",
   "language": "python",
   "name": "python3"
  },
  "language_info": {
   "codemirror_mode": {
    "name": "ipython",
    "version": 3
   },
   "file_extension": ".py",
   "mimetype": "text/x-python",
   "name": "python",
   "nbconvert_exporter": "python",
   "pygments_lexer": "ipython3",
   "version": "3.9.12"
  }
 },
 "nbformat": 4,
 "nbformat_minor": 5
}
