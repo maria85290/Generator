{
 "cells": [
  {
   "cell_type": "markdown",
   "id": "4abe034c",
   "metadata": {},
   "source": [
    "# Generator\n",
    "\n",
    "Ferramenta que pega no conteudo das noticias (em formato json) e gera posts.\n",
    "Para isso são executados os seguintes passos:\n",
    "\n",
    "   1) Obtenção do core do texto:\n",
    "      -  T5 \n",
    "      - Allegation sentence\n",
    "\n",
    "   2) Adição de emoção: \n",
    "      - Emojis\n",
    "      - Hahstags\n",
    "      - Caps lock\n",
    "      - interjection\n",
    "\n",
    "   3) Adição de personalidade\n",
    "\n"
   ]
  },
  {
   "cell_type": "code",
   "execution_count": 1,
   "id": "544627d9",
   "metadata": {},
   "outputs": [],
   "source": [
    "## Importes necessarios\n",
    "\n",
    "import os\n",
    "\n",
    "import json\n",
    "import pandas as pd\n",
    "import random\n"
   ]
  },
  {
   "cell_type": "code",
   "execution_count": 2,
   "id": "14ba522c",
   "metadata": {},
   "outputs": [],
   "source": [
    "'''\n",
    "verificar se um post (em formato de string) tem um formato válido de um microblog:\n",
    "     1) 0 < número de carateres ≥ 280 \n",
    "'''\n",
    "\n",
    "\n",
    "def verify_length(post):\n",
    "    if len(post)>280:\n",
    "        return False\n",
    "    return True"
   ]
  },
  {
   "cell_type": "code",
   "execution_count": 3,
   "id": "91beee11",
   "metadata": {},
   "outputs": [
    {
     "name": "stderr",
     "output_type": "stream",
     "text": [
      "/opt/homebrew/anaconda3/envs/py3/lib/python3.9/site-packages/requests/__init__.py:102: RequestsDependencyWarning: urllib3 (1.26.9) or chardet (5.0.0)/charset_normalizer (2.0.12) doesn't match a supported version!\n",
      "  warnings.warn(\"urllib3 ({}) or chardet ({})/charset_normalizer ({}) doesn't match a supported \"\n"
     ]
    }
   ],
   "source": [
    "from TextCore import T5 \n",
    "\n",
    "def allegation_sentence (data):\n",
    "    claim = \"It's \" + data['evaluation'] + ' that '+ data['allegation']\n",
    "    return claim\n",
    "\n",
    "\n",
    "def post_core (data, core_model):\n",
    "    \n",
    "    if core_model == \"t5\":\n",
    "        core = T5.T5_summarization_model(' '.join(data['postText']))\n",
    "    else:\n",
    "        core = allegation_sentence (data)\n",
    "    return core"
   ]
  },
  {
   "cell_type": "code",
   "execution_count": 4,
   "id": "3e1bc62b",
   "metadata": {},
   "outputs": [
    {
     "name": "stderr",
     "output_type": "stream",
     "text": [
      "[nltk_data] Downloading package wordnet to\n",
      "[nltk_data]     /Users/mariabarbosa/nltk_data...\n",
      "[nltk_data]   Package wordnet is already up-to-date!\n",
      "[nltk_data] Downloading package stopwords to\n",
      "[nltk_data]     /Users/mariabarbosa/nltk_data...\n",
      "[nltk_data]   Package stopwords is already up-to-date!\n",
      "[nltk_data] Downloading package omw-1.4 to\n",
      "[nltk_data]     /Users/mariabarbosa/nltk_data...\n",
      "[nltk_data]   Package omw-1.4 is already up-to-date!\n"
     ]
    }
   ],
   "source": [
    "from emotions import hashtags_generetor\n",
    "from emotions import emojis\n",
    "from emotions import interjections\n",
    "from emotions import caps_lock\n",
    "\n",
    "\n",
    "\n",
    "def add_emotion(data,core, emoji , hashtag , capslock  , intejections ):\n",
    "    post = []\n",
    "    post.append(data['url'])\n",
    "    ## Não adiciona mais conteudo por isso não é necessario verificar tamanho\n",
    "\n",
    "    if capslock: \n",
    "        post.append(caps_lock.capslock(core))\n",
    "\n",
    "    print(post)\n",
    "    if hashtag and verify_length(' '.join(post)):\n",
    "\n",
    "        hashtag_list = hashtags_generetor.generateHashtags(' '.join(data['postText']))\n",
    "        for h in hashtag_list:\n",
    "            post.append ('#'+h)\n",
    "        \n",
    "\n",
    "\n",
    "    if intejections and verify_length(' '.join(post)): \n",
    "        post.append(interjections.interjections(data['evaluation']))\n",
    "\n",
    "    if emoji and verify_length(' '.join(post)): \n",
    "        post.append(emojis.emojis_sellection(data['evaluation']))\n",
    "        \n",
    "        #adicionar mais emojis se ainda\n",
    "        seed = random.randint(0,5)\n",
    "        while verify_length(' '.join(post)) and seed < 5:\n",
    "            post.append(emojis.emojis_sellection(data['evaluation']))\n",
    "\n",
    "\n",
    "    core_with_emotion = core \n",
    "\n",
    "    return core_with_emotion"
   ]
  },
  {
   "cell_type": "code",
   "execution_count": 5,
   "id": "578dac7c",
   "metadata": {},
   "outputs": [],
   "source": [
    "def generator (data,core_model='t5', emoji = 1, hashtag = 1, caps_lock =1 , intejections = 1):\n",
    "  '''\n",
    "  data -> Conteudo do json file\n",
    "  '''\n",
    "  \n",
    "  ## Obter o core do post\n",
    "  core = post_core (data, core_model)\n",
    "  \n",
    "  ## dar emoção ao core\n",
    "  core_with_emotion = add_emotion(data, core, emoji , hashtag , caps_lock  , intejections )\n",
    "\n",
    "  ## dar personalidade\n",
    "  final_post = core_with_emotion  \n",
    "\n",
    "  return final_post  \n",
    "\n",
    "        \n",
    "        "
   ]
  },
  {
   "cell_type": "code",
   "execution_count": 6,
   "id": "3cab01ef",
   "metadata": {},
   "outputs": [
    {
     "name": "stdout",
     "output_type": "stream",
     "text": [
      "['https://www.snopes.com/fact-check/valentines-day-invented-greeting-card-companies/', 'Its false that VALENTINES DAY was INVENTED by GREETING CARD companies']\n",
      "['c', 'w', '’', '”', '2', 'n', 'p', 'k', '1', 'é', 'f', 'v', '8', 'j', 'é', 'g', '0', '“', 'x', 'é', 'r', 'l', 'u', 'b', 'é', 'e', 'h', '4', 'é', 'u']\n"
     ]
    },
    {
     "ename": "FileNotFoundError",
     "evalue": "[Errno 2] No such file or directory: 'interjections.json'",
     "output_type": "error",
     "traceback": [
      "\u001b[0;31m---------------------------------------------------------------------------\u001b[0m",
      "\u001b[0;31mFileNotFoundError\u001b[0m                         Traceback (most recent call last)",
      "\u001b[1;32m/Users/mariabarbosa/Desktop/Generator/PostGenerator/generator_pipeline.ipynb Cell 7'\u001b[0m in \u001b[0;36m<cell line: 1>\u001b[0;34m()\u001b[0m\n\u001b[1;32m      <a href='vscode-notebook-cell:/Users/mariabarbosa/Desktop/Generator/PostGenerator/generator_pipeline.ipynb#ch0000012?line=2'>3</a>\u001b[0m data \u001b[39m=\u001b[39m json\u001b[39m.\u001b[39mload(f)\n\u001b[1;32m      <a href='vscode-notebook-cell:/Users/mariabarbosa/Desktop/Generator/PostGenerator/generator_pipeline.ipynb#ch0000012?line=3'>4</a>\u001b[0m f\u001b[39m.\u001b[39mclose()\n\u001b[0;32m----> <a href='vscode-notebook-cell:/Users/mariabarbosa/Desktop/Generator/PostGenerator/generator_pipeline.ipynb#ch0000012?line=4'>5</a>\u001b[0m \u001b[39mprint\u001b[39m(generator(data, \u001b[39m'\u001b[39;49m\u001b[39mallegation_Sentence\u001b[39;49m\u001b[39m'\u001b[39;49m))\n",
      "\u001b[1;32m/Users/mariabarbosa/Desktop/Generator/PostGenerator/generator_pipeline.ipynb Cell 6'\u001b[0m in \u001b[0;36mgenerator\u001b[0;34m(data, core_model, emoji, hashtag, caps_lock, intejections)\u001b[0m\n\u001b[1;32m      <a href='vscode-notebook-cell:/Users/mariabarbosa/Desktop/Generator/PostGenerator/generator_pipeline.ipynb#ch0000006?line=6'>7</a>\u001b[0m core \u001b[39m=\u001b[39m post_core (data, core_model)\n\u001b[1;32m      <a href='vscode-notebook-cell:/Users/mariabarbosa/Desktop/Generator/PostGenerator/generator_pipeline.ipynb#ch0000006?line=8'>9</a>\u001b[0m \u001b[39m## dar emoção ao core\u001b[39;00m\n\u001b[0;32m---> <a href='vscode-notebook-cell:/Users/mariabarbosa/Desktop/Generator/PostGenerator/generator_pipeline.ipynb#ch0000006?line=9'>10</a>\u001b[0m core_with_emotion \u001b[39m=\u001b[39m add_emotion(data, core, emoji , hashtag , caps_lock  , intejections )\n\u001b[1;32m     <a href='vscode-notebook-cell:/Users/mariabarbosa/Desktop/Generator/PostGenerator/generator_pipeline.ipynb#ch0000006?line=11'>12</a>\u001b[0m \u001b[39m## dar personalidade\u001b[39;00m\n\u001b[1;32m     <a href='vscode-notebook-cell:/Users/mariabarbosa/Desktop/Generator/PostGenerator/generator_pipeline.ipynb#ch0000006?line=12'>13</a>\u001b[0m final_post \u001b[39m=\u001b[39m core_with_emotion  \n",
      "\u001b[1;32m/Users/mariabarbosa/Desktop/Generator/PostGenerator/generator_pipeline.ipynb Cell 5'\u001b[0m in \u001b[0;36madd_emotion\u001b[0;34m(data, core, emoji, hashtag, capslock, intejections)\u001b[0m\n\u001b[1;32m     <a href='vscode-notebook-cell:/Users/mariabarbosa/Desktop/Generator/PostGenerator/generator_pipeline.ipynb#ch0000011?line=20'>21</a>\u001b[0m         post\u001b[39m.\u001b[39mappend (\u001b[39m'\u001b[39m\u001b[39m#\u001b[39m\u001b[39m'\u001b[39m\u001b[39m+\u001b[39mh)\n\u001b[1;32m     <a href='vscode-notebook-cell:/Users/mariabarbosa/Desktop/Generator/PostGenerator/generator_pipeline.ipynb#ch0000011?line=24'>25</a>\u001b[0m \u001b[39mif\u001b[39;00m intejections \u001b[39mand\u001b[39;00m verify_length(\u001b[39m'\u001b[39m\u001b[39m \u001b[39m\u001b[39m'\u001b[39m\u001b[39m.\u001b[39mjoin(post)): \n\u001b[0;32m---> <a href='vscode-notebook-cell:/Users/mariabarbosa/Desktop/Generator/PostGenerator/generator_pipeline.ipynb#ch0000011?line=25'>26</a>\u001b[0m     post\u001b[39m.\u001b[39mappend(interjections\u001b[39m.\u001b[39;49minterjections(data[\u001b[39m'\u001b[39;49m\u001b[39mevaluation\u001b[39;49m\u001b[39m'\u001b[39;49m]))\n\u001b[1;32m     <a href='vscode-notebook-cell:/Users/mariabarbosa/Desktop/Generator/PostGenerator/generator_pipeline.ipynb#ch0000011?line=27'>28</a>\u001b[0m \u001b[39mif\u001b[39;00m emoji \u001b[39mand\u001b[39;00m verify_length(\u001b[39m'\u001b[39m\u001b[39m \u001b[39m\u001b[39m'\u001b[39m\u001b[39m.\u001b[39mjoin(post)): \n\u001b[1;32m     <a href='vscode-notebook-cell:/Users/mariabarbosa/Desktop/Generator/PostGenerator/generator_pipeline.ipynb#ch0000011?line=28'>29</a>\u001b[0m     post\u001b[39m.\u001b[39mappend(emojis\u001b[39m.\u001b[39memojis_sellection(data[\u001b[39m'\u001b[39m\u001b[39mevaluation\u001b[39m\u001b[39m'\u001b[39m]))\n",
      "File \u001b[0;32m~/Desktop/Generator/PostGenerator/emotions/interjections.py:6\u001b[0m, in \u001b[0;36minterjections\u001b[0;34m(evaluation)\u001b[0m\n\u001b[1;32m      <a href='file:///Users/mariabarbosa/Desktop/Generator/PostGenerator/emotions/interjections.py?line=4'>5</a>\u001b[0m \u001b[39mdef\u001b[39;00m \u001b[39minterjections\u001b[39m (evaluation):\n\u001b[0;32m----> <a href='file:///Users/mariabarbosa/Desktop/Generator/PostGenerator/emotions/interjections.py?line=5'>6</a>\u001b[0m     \u001b[39mwith\u001b[39;00m \u001b[39mopen\u001b[39;49m(\u001b[39m'\u001b[39;49m\u001b[39minterjections.json\u001b[39;49m\u001b[39m'\u001b[39;49m) \u001b[39mas\u001b[39;00m f:\n\u001b[1;32m      <a href='file:///Users/mariabarbosa/Desktop/Generator/PostGenerator/emotions/interjections.py?line=6'>7</a>\u001b[0m         interjection \u001b[39m=\u001b[39m json\u001b[39m.\u001b[39mload(f)\n\u001b[1;32m      <a href='file:///Users/mariabarbosa/Desktop/Generator/PostGenerator/emotions/interjections.py?line=7'>8</a>\u001b[0m         \u001b[39mif\u001b[39;00m evaluation \u001b[39m==\u001b[39m \u001b[39m\"\u001b[39m\u001b[39mtrue\u001b[39m\u001b[39m\"\u001b[39m:\n",
      "\u001b[0;31mFileNotFoundError\u001b[0m: [Errno 2] No such file or directory: 'interjections.json'"
     ]
    }
   ],
   "source": [
    "for file in os.listdir(\"../../extractors/Snopes/extractions\")[:1]:\n",
    "        with open(\"../../extractors/Snopes/extractions/\" + file) as f:\n",
    "            data = json.load(f)\n",
    "            f.close()\n",
    "            print(generator(data, 'allegation_Sentence'))\n",
    "\n",
    "            "
   ]
  },
  {
   "cell_type": "code",
   "execution_count": null,
   "id": "82a48281",
   "metadata": {},
   "outputs": [],
   "source": [
    "  \n",
    "\n",
    "        s = random.randint(0,3)\n",
    "        if s == 0:\n",
    "          post.append( emoji.emojize(':red_exclamation_mark:') + data['evaluation'].upper() + emoji.emojize(':red_exclamation_mark:'))\n",
    "        elif s==1 :\n",
    "           post.append( data['evaluation'].upper())\n",
    "        else:\n",
    "          post.append( data['evaluation'].upper() + emoji.emojize(':red_exclamation_mark:') * random.randint(0,6) )\n",
    "        \n",
    "        '''\n",
    "        Introduzir aleatoriedade;\n",
    "        '''\n",
    "       \n",
    "        hashtags = hashtags_generetor.generateHashtags(' '.join(data['postText']).split('\\n'))\n",
    "        \n",
    "\n",
    "        hashtags = [' #'+h for h in hashtags]\n",
    "        post.append ( ' '.join (hashtags))\n",
    "        post.append(data['url'])\n",
    "        post.append (emojis.emojis_selector(data['evaluation']))\n",
    "        \n",
    "        post.append (interjections (data['evaluation']))\n",
    "        \n",
    "        seed = random.randint(0,5)\n",
    "        if verify_post.verify_length(' '.join (post)):\n",
    "          post = post[:280]\n",
    "\n",
    "        \n",
    "        while (verify_post.verify_length(' '.join (post)) and seed > 0):\n",
    "                seed = seed - 1\n",
    "                post.append(emojis.emojis_selector(data['evaluation']))\n",
    "        \n",
    "\n",
    "        random.shuffle(post) \n",
    "\n",
    "        post = ' '.join(post)\n",
    "        \n",
    "        print(post)\n",
    "\n",
    "\n",
    "\n",
    "\n",
    "        df = pd.read_csv('snopes_posts_v3.csv')\n",
    "\n",
    "        row = {'id': data['id'], 'post': post}\n",
    "\n",
    "        # Adicionar a nova linha ao dataset\n",
    "        df = df.append(row,  ignore_index=True)\n",
    "\n",
    "        #Retirar colunaas que estão a mais\n",
    "        df = df[['id','post' ]]\n",
    "\n",
    "\n",
    "        df.to_csv('snopes_posts_v3.csv')\n",
    "            \n",
    "        print('--------------------------------------------')\n",
    "        f.close()\n",
    "        "
   ]
  },
  {
   "cell_type": "code",
   "execution_count": null,
   "id": "41e0d9be",
   "metadata": {},
   "outputs": [],
   "source": [
    " posts = {}\n",
    "    ##### Read the json files with de news\n",
    "    for file in os.listdir(\"../../extractors/Snopes/exemplo\"):\n",
    "        with open(\"../../extractors/Snopes/exemplo/\" + file) as f:\n",
    "            data = json.load(f)\n",
    "            f.close()\n",
    "            "
   ]
  }
 ],
 "metadata": {
  "kernelspec": {
   "display_name": "Python 3 (ipykernel)",
   "language": "python",
   "name": "python3"
  },
  "language_info": {
   "codemirror_mode": {
    "name": "ipython",
    "version": 3
   },
   "file_extension": ".py",
   "mimetype": "text/x-python",
   "name": "python",
   "nbconvert_exporter": "python",
   "pygments_lexer": "ipython3",
   "version": "3.9.12"
  }
 },
 "nbformat": 4,
 "nbformat_minor": 5
}
