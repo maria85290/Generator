{
 "cells": [
  {
   "cell_type": "markdown",
   "metadata": {},
   "source": [
    "## Sentence selection by emotion"
   ]
  },
  {
   "cell_type": "code",
   "execution_count": 6,
   "metadata": {},
   "outputs": [],
   "source": [
    "'''\n",
    "Using @EmotionMeter API \n",
    "Com autorização do DR.Ricardo.\n",
    "'''\n",
    "\n",
    "import requests\n",
    "\n",
    "\n",
    "def sentimentAnalysis(text,lang='en'):\n",
    "    body = {\n",
    "\n",
    "        \"messages\": text,\n",
    "\n",
    "        \"language\": lang\n",
    "\n",
    "        }\n",
    "\n",
    "    request = requests.post(\"http://146.59.159.119:9777\", json = body)\n",
    "    \n",
    "    return (request.text.encode().decode('unicode-escape') , request.status_code)\n"
   ]
  },
  {
   "cell_type": "code",
   "execution_count": 15,
   "metadata": {},
   "outputs": [],
   "source": [
    "fake = \"R..P. to the 8 year-old boy who died in Boston's explosions,while running for the Sandy Hook kids. #prayforboston http://t.co/Xmv2E81Lsb\"\n",
    "fact = \"❌ No, a missing airliner (Santiago Flight 513) did not mysteriously land 35 years later with a cockpit and passenger cabin full of skeletons.\""
   ]
  },
  {
   "cell_type": "code",
   "execution_count": 9,
   "metadata": {},
   "outputs": [
    {
     "name": "stdout",
     "output_type": "stream",
     "text": [
      "('{\"R..P. to the 8 year-old boy who died in Boston\\'s explosions,while running for the Sandy Hook kids. #prayforboston http://t.co/Xmv2E81Lsb\":{\"emotions\":{\"anger\":0.0,\"anticipation\":0.0,\"disgust\":0.2,\"fear\":0.4,\"joy\":0.0,\"sadness\":0.2,\"surprise\":0.2,\"trust\":0.0},\"polarities\":{\"negative\":1.0,\"positive\":0.0}}}\\n', 200)\n"
     ]
    }
   ],
   "source": [
    "print(sentimentAnalysis([fake]))"
   ]
  },
  {
   "cell_type": "code",
   "execution_count": 16,
   "metadata": {},
   "outputs": [
    {
     "name": "stdout",
     "output_type": "stream",
     "text": [
      "('{\"❌ No, a missing airliner (Santiago Flight 513) did not mysteriously land 35 years later with a cockpit and passenger cabin full of skeletons.\":{\"emotions\":{\"anger\":0.0,\"anticipation\":1.0,\"disgust\":0.0,\"fear\":0.0,\"joy\":0.0,\"sadness\":0.0,\"surprise\":0.0,\"trust\":0.0},\"polarities\":{\"negative\":0.0,\"positive\":1.0}}}\\n', 200)\n"
     ]
    }
   ],
   "source": [
    "print(sentimentAnalysis([fact]))"
   ]
  },
  {
   "cell_type": "code",
   "execution_count": 24,
   "metadata": {},
   "outputs": [],
   "source": [
    "def emotion_selection(text):\n",
    "    code = 0\n",
    "    while (code!=200):\n",
    "        (sentiments, code) = sentimentAnalysis(text,'en')\n",
    "    ## Ordenar por ordem decrescente maior emoçao\n",
    "    \n",
    "    print(sentiments)\n",
    "    playload = json.loads(sentiments)\n",
    "\n",
    "    \n",
    "\n",
    "    ## Ordenar as frases por aquela que tem maior sadness and surprise\n",
    "    sortedByEmotion = {k: v for k, v in sorted(playload.items(), key=lambda item: (item[1]['emotions']['sadness'], item[1]['emotions']['surprise']), reverse=True)}\n",
    "    summary = \" \"\n",
    "\n",
    "    i = 0\n",
    "    for sentence in list(sortedByEmotion.keys()):\n",
    "        if i ==0:\n",
    "            summary = sentence\n",
    "            i = 1\n",
    "        elif i != 0 and len (summary + sentence) < 280:\n",
    "            summary = summary + sentence\n",
    "        else:\n",
    "            break\n",
    "\n",
    "    return summary\n"
   ]
  },
  {
   "cell_type": "code",
   "execution_count": 19,
   "metadata": {},
   "outputs": [],
   "source": [
    "import json\n",
    "import pandas as pd\n",
    "import os"
   ]
  },
  {
   "cell_type": "code",
   "execution_count": 32,
   "metadata": {},
   "outputs": [],
   "source": [
    "def clean (ListSentences):\n",
    "\n",
    "    l = [s.replace(\"\\\"\",\"\\'\").replace(\"\\”\",\"\\'\").replace(\"\\“\",\"\\'\").replace(\"\\n\",\" \") for s in ListSentences]\n",
    "\n",
    "    return l"
   ]
  },
  {
   "cell_type": "code",
   "execution_count": null,
   "metadata": {},
   "outputs": [],
   "source": [
    "data = pd.DataFrame()\n",
    "\n",
    "## Obtenção dos sentimentos\n",
    "for file in os.listdir(\"../../../extractors/Snopes/extractions\")[:100]:\n",
    "    with open(\"../../../extractors/Snopes/extractions/\" + file) as f:\n",
    "            d = json.load(f)\n",
    "            f.close()\n",
    "    text = clean(d['postText'])\n",
    "    print(d['id'])\n",
    "\n",
    "    claim = d['evaluation'] + ' , '+ d['allegation']\n",
    "    emo = emotion_selection(text)    \n",
    "    dic = {'id': d['id'], 'emotion_sellection': emo, 'claim_sellection': claim }\n",
    "\n",
    "    data = data.append(dic, ignore_index = True)\n",
    "\n",
    "\n",
    "data.to_csv('selection_emo_claim.csv')\n",
    "\n",
    "\n"
   ]
  },
  {
   "cell_type": "markdown",
   "metadata": {},
   "source": [
    "#### save in the csv file"
   ]
  },
  {
   "cell_type": "code",
   "execution_count": 35,
   "metadata": {},
   "outputs": [],
   "source": [
    "\n",
    "df_abs = pd.read_csv('summarization.csv', index_col=0)\n",
    "df_abs.head()\n",
    "\n",
    "df_ext = pd.read_csv('selection_emo_claim.csv', index_col=0)\n",
    "df_ext.head()\n",
    "\n",
    "\n",
    "for ((i_a, r_a),(i_e, r_e))  in zip(df_abs.iterrows(),df_ext.iterrows()):\n",
    "        if (r_a[0] == r_e[0]): ## tem o mesmo id\n",
    "                df_abs.loc[i_a,'emotion_selection'] = r_e[1]\n",
    "                df_abs.loc[i_a,'claim_sellection'] = r_e[2]\n",
    "\n",
    "\n",
    "df_abs.to_csv('textCore.csv')\n"
   ]
  },
  {
   "cell_type": "code",
   "execution_count": null,
   "metadata": {},
   "outputs": [],
   "source": []
  }
 ],
 "metadata": {
  "interpreter": {
   "hash": "e73066c94f8e0a03dc010f90f9bfe8189274fe2970ef1c1470299afeb680a60a"
  },
  "kernelspec": {
   "display_name": "Python 3.9.12 ('py3')",
   "language": "python",
   "name": "python3"
  },
  "language_info": {
   "codemirror_mode": {
    "name": "ipython",
    "version": 3
   },
   "file_extension": ".py",
   "mimetype": "text/x-python",
   "name": "python",
   "nbconvert_exporter": "python",
   "pygments_lexer": "ipython3",
   "version": "3.9.12"
  },
  "orig_nbformat": 4
 },
 "nbformat": 4,
 "nbformat_minor": 2
}
