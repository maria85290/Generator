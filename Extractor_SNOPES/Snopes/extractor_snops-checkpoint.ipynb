{
 "cells": [
  {
   "cell_type": "markdown",
   "metadata": {},
   "source": [
    "# Analyse news from snopes\n",
    "\n"
   ]
  },
  {
   "cell_type": "code",
   "execution_count": 1,
   "metadata": {},
   "outputs": [
    {
     "name": "stderr",
     "output_type": "stream",
     "text": [
      "/opt/homebrew/anaconda3/envs/py3/lib/python3.9/site-packages/requests/__init__.py:102: RequestsDependencyWarning: urllib3 (1.26.9) or chardet (5.0.0)/charset_normalizer (2.0.12) doesn't match a supported version!\n",
      "  warnings.warn(\"urllib3 ({}) or chardet ({})/charset_normalizer ({}) doesn't match a supported \"\n"
     ]
    }
   ],
   "source": [
    "#Imports\n",
    "import json\n",
    "import requests\n",
    "import pandas as pd\n",
    "from datetime import datetime\n",
    "from bs4 import BeautifulSoup\n",
    "from matplotlib.font_manager import json_load\n",
    "from urllib.request import Request, urlopen"
   ]
  },
  {
   "cell_type": "code",
   "execution_count": 2,
   "metadata": {},
   "outputs": [],
   "source": [
    " ### Recolher os links que se pretende analisar\n",
    "links = []\n",
    "for i in range (1,2):\n",
    "\n",
    "    req = Request(\"https://www.snopes.com/fact-check/page/\"+str(i))\n",
    "    html_page = urlopen(req)\n",
    "\n",
    "    soup = BeautifulSoup(html_page, \"lxml\")\n",
    "\n",
    "  \n",
    "    for link in soup.findAll('a'):\n",
    "        if type (link.get('href')) == str and (len( link.get('href'))) >  50 and link.get('href').startswith('https://www.snopes.com/fact-check/'):  \n",
    "            links.append(link.get('href'))\n"
   ]
  },
  {
   "cell_type": "code",
   "execution_count": 3,
   "metadata": {},
   "outputs": [],
   "source": [
    "#list_urls = links[:-1]\n",
    "list_urls = ['https://www.snopes.com/fact-check/did-disney-cancel-tim-allen/?utm_term=Autofeed&utm_medium=Social&utm_source=Twitter#Echobox=1663663801',\n",
    "'https://www.snopes.com/fact-check/car-grab-handle-purpose/?utm_term=Autofeed&utm_medium=Social&utm_source=Twitter#Echobox=1663658696',\n",
    "'https://www.snopes.com/fact-check/grimes-mississippi-homemade-houseboat/?utm_term=Autofeed&utm_medium=Social&utm_source=Twitter#Echobox=1663639794', \n",
    "'https://www.snopes.com/fact-check/queen-elizabeth-ii-coronation-day/?utm_medium=Social&utm_source=Twitter#Echobox=1663611185-1',\n",
    "'https://www.snopes.com/fact-check/hillary-clinton-game-boy/?utm_medium=Social&utm_source=Twitter#Echobox=1663626486-1',\n",
    "'https://www.snopes.com/fact-check/sugar-the-antiwork-horse/?utm_term=Autofeed&utm_medium=Social&utm_source=Twitter#Ec',\n",
    "'https://www.snopes.com/fact-check/queen-elizabeth-ii-mechanic/?utm_medium=Social&utm_source=Twitter#Echobox=1663594569-1',\n",
    "'https://www.snopes.com/fact-check/snake-standing-up-video/?utm_term=Autofeed&utm_medium=Social&utm_source=Twitter#Echobox=1663406617','https://www.snopes.com/fact-check/air-florida-airplane-bridge-crash/?utm_term=Autofeed&utm_medium=Social&utm_source=Twitter#Echobox=1663374907',\n",
    "'https://www.snopes.com/fact-check/starbucks-cup-size-scam/?utm_term=Autofeed&utm_medium=Social&utm_source=Twitter#Echobox=1663379570']\n",
    "\n",
    "\n",
    "\n",
    "list_urls = ['https://www.snopes.com/fact-check/musk-reinstate-trump-on-twitter/']\n"
   ]
  },
  {
   "cell_type": "code",
   "execution_count": 4,
   "metadata": {},
   "outputs": [],
   "source": [
    "language = 'en'\n",
    "\n",
    "def extractor (url):\n",
    "    '''\n",
    "    \n",
    "        1) Extrair conteudo do url da noticia\n",
    "        2) Identificar as componentes na noticia: alegaçao, avalicao, editor, url\n",
    "        3) Guardar em dataset\n",
    "        \n",
    "        \n",
    "    '''\n",
    "  \n",
    "    new = requests.get(url)\n",
    "    soup = BeautifulSoup(new.content, 'html.parser')\n",
    "\n",
    "    \n",
    "    #Extract Title\n",
    "    title = soup.find(class_='title').contents[0].strip('\\n').strip('\\t')\n",
    "\n",
    "    #extract description\n",
    "    for tag in soup.find_all(\"meta\"):\n",
    "        if tag.get(\"name\", None) == \"description\":\n",
    "            description = tag.get(\"content\", None)\n",
    "            \n",
    "     #extract claim\n",
    "    claim = soup.find(class_=\"claim-text card-body\").contents[0].strip('\\n').strip('\\t') \n",
    "            \n",
    "            \n",
    "    #extract classification         \n",
    "    evaluation =  soup.find(class_='media-body d-flex flex-column align-self-center')\n",
    "    for span in evaluation.find_all('span', recursive=False):\n",
    "        classification = span.get(\"class\", None)[1].replace(\"rating-label-\", \"\")\n",
    "        \n",
    "    editor = url.split('.')[1]\n",
    "\n",
    "     #extract data \n",
    "    for span in soup.find_all('time'):\n",
    "        datatime = span.get(\"datetime\", None)\n",
    "       \n",
    "    \n",
    "    #  text = readNews.main(url, \"text\").encode('utf8').decode().split('\\n')\n",
    "    \n",
    "    # Extract the text of the new\n",
    "    text = []\n",
    "    for data in soup.find(class_='single-body card-body rich-text').find_all(\"p\"): \n",
    "        if data.get_text() == \"Sources:\":\n",
    "            break\n",
    "        text.append(data.get_text()) \n",
    "\n",
    "  \n",
    "    return title , description, claim, text, classification, editor, datatime\n",
    "\n",
    "\n",
    "    \n",
    "def main ():\n",
    "  \n",
    "    for url in list_urls:\n",
    "        \n",
    "        '''\n",
    "        Verificar se o link ainda nao foi tratado\n",
    "        \n",
    "        with open(\"controller.txt\") as f:\n",
    "            lines = [url.strip('\\n') for url in f.readlines()]\n",
    "            f.close()\n",
    "            if url in lines:\n",
    "               \n",
    "                continue\n",
    "'''\n",
    "        \n",
    "        '''\n",
    "        Verificar se o link esta no formato fact checking\n",
    "        '''\n",
    "        new = requests.get(url)\n",
    "        soup = BeautifulSoup(new.content, 'html.parser')\n",
    "    \n",
    "        typeNew = soup.find_all(class_=\"breadcrumb-item\")[1].get_text()\n",
    "        \n",
    "        if (typeNew.strip('\\n').strip('\\t') == 'Fact Checks' ):\n",
    "            \n",
    "            '''\n",
    "            Add link to a control page\n",
    "          \n",
    "            with open(\"controller.txt\", \"a\", encoding = 'utf8') as f:\n",
    "                f.write(url)\n",
    "                f.write('\\n')\n",
    "                f.close()\n",
    "  '''\n",
    "            title , description,  claim, text, classification, editor, datatime =  extractor (url)\n",
    "\n",
    "            # Getting the current date and time\n",
    "            dt = datetime.now()\n",
    "\n",
    "            # getting the timestamp\n",
    "            ts = datetime.timestamp(dt)\n",
    "\n",
    "            obj = { 'id':str(ts), \"allegation\": claim, \"evaluation\": classification , \"nameNewspaper\":editor , 'url': url, \"language\": language , \"postText\": text}\n",
    "\n",
    "            #print(obj)\n",
    "            print(url) \n",
    "            with open(\"news/\" + editor + \"_extraction_\" + str(ts)+ \".json\", \"w\", encoding = 'utf8') as jsonFile:\n",
    "                json.dump(obj, jsonFile, indent = 4, ensure_ascii=False)\n"
   ]
  },
  {
   "cell_type": "code",
   "execution_count": 5,
   "metadata": {},
   "outputs": [
    {
     "name": "stdout",
     "output_type": "stream",
     "text": [
      "https://www.snopes.com/fact-check/musk-reinstate-trump-on-twitter/\n"
     ]
    }
   ],
   "source": [
    "main()"
   ]
  },
  {
   "cell_type": "code",
   "execution_count": null,
   "metadata": {},
   "outputs": [],
   "source": []
  }
 ],
 "metadata": {
  "interpreter": {
   "hash": "e8c954cfe51fa3e1a8f5fd5b5b324eceb9eb77e7654e2be7d7bc294cd32a0965"
  },
  "kernelspec": {
   "display_name": "Python 3 (ipykernel)",
   "language": "python",
   "name": "python3"
  },
  "language_info": {
   "codemirror_mode": {
    "name": "ipython",
    "version": 3
   },
   "file_extension": ".py",
   "mimetype": "text/x-python",
   "name": "python",
   "nbconvert_exporter": "python",
   "pygments_lexer": "ipython3",
   "version": "3.9.12"
  }
 },
 "nbformat": 4,
 "nbformat_minor": 2
}
