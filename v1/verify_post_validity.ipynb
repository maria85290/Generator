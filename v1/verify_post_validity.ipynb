{
 "cells": [
  {
   "cell_type": "markdown",
   "id": "498acc83",
   "metadata": {},
   "source": [
    "Neste modulo pretende-se verificar se um post (em formato de string) tem um formato válido de um microblog:\n",
    "\n",
    "     1) 0 < número de carateres ≥ 280 \n",
    "     \n"
   ]
  },
  {
   "cell_type": "code",
   "execution_count": 1,
   "id": "24cc9329",
   "metadata": {},
   "outputs": [],
   "source": [
    "'''\n",
    "Funçao principal\n",
    "'''\n",
    "\n",
    "def verify_post(post):\n",
    "    if len(post)>280:\n",
    "        return False\n",
    "    return True"
   ]
  },
  {
   "cell_type": "code",
   "execution_count": 7,
   "id": "4a72f905",
   "metadata": {},
   "outputs": [
    {
     "data": {
      "text/plain": [
       "False"
      ]
     },
     "execution_count": 7,
     "metadata": {},
     "output_type": "execute_result"
    }
   ],
   "source": [
    "verify_post('Sim, mas a catarina mudou de opinião,e passou o programa todo a cascar no Ber e na relação deles. Na última semana voltou a falar bem (para ficar bem). Eu não esqueço as 6 semanas no meio, e o bota abaixo dela! Não mudo opinião, ela é falsa, cínica, e sonsa! #Bbtvi         #brunardo')"
   ]
  }
 ],
 "metadata": {
  "kernelspec": {
   "display_name": "Python 3 (ipykernel)",
   "language": "python",
   "name": "python3"
  },
  "language_info": {
   "codemirror_mode": {
    "name": "ipython",
    "version": 3
   },
   "file_extension": ".py",
   "mimetype": "text/x-python",
   "name": "python",
   "nbconvert_exporter": "python",
   "pygments_lexer": "ipython3",
   "version": "3.9.12"
  }
 },
 "nbformat": 4,
 "nbformat_minor": 5
}
